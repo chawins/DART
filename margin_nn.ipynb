{
 "cells": [
  {
   "cell_type": "code",
   "execution_count": 1,
   "metadata": {},
   "outputs": [],
   "source": [
    "%matplotlib inline\n",
    "\n",
    "%reload_ext autoreload\n",
    "%autoreload 2"
   ]
  },
  {
   "cell_type": "code",
   "execution_count": 2,
   "metadata": {},
   "outputs": [],
   "source": [
    "# Specify visible cuda device\n",
    "import os\n",
    "os.environ[\"CUDA_DEVICE_ORDER\"] = \"PCI_BUS_ID\"\n",
    "os.environ[\"CUDA_VISIBLE_DEVICES\"] = \"1\""
   ]
  },
  {
   "cell_type": "code",
   "execution_count": 141,
   "metadata": {},
   "outputs": [],
   "source": [
    "from sklearn.decomposition import PCA\n",
    "from parameters import *\n",
    "from lib.utils import *\n",
    "from lib.attacks import *"
   ]
  },
  {
   "cell_type": "code",
   "execution_count": 4,
   "metadata": {},
   "outputs": [],
   "source": [
    "from keras.datasets import mnist\n",
    "\n",
    "(x_train, y_train), (x_test, y_test) = mnist.load_data()\n",
    "\n",
    "x_train = x_train[:, :, :, np.newaxis]\n",
    "x_test = x_test[:, :, :, np.newaxis]\n",
    "x_train = x_train.astype('float32')\n",
    "x_test = x_test.astype('float32')\n",
    "x_train /= 255.\n",
    "x_test /= 255.\n",
    "\n",
    "y_train = keras.utils.to_categorical(y_train, NUM_LABELS)\n",
    "y_test = keras.utils.to_categorical(y_test, NUM_LABELS)"
   ]
  },
  {
   "cell_type": "code",
   "execution_count": 180,
   "metadata": {
    "scrolled": true
   },
   "outputs": [
    {
     "name": "stdout",
     "output_type": "stream",
     "text": [
      "_________________________________________________________________\n",
      "Layer (type)                 Output Shape              Param #   \n",
      "=================================================================\n",
      "conv2d_1 (Conv2D)            (None, 26, 26, 32)        320       \n",
      "_________________________________________________________________\n",
      "conv2d_2 (Conv2D)            (None, 24, 24, 64)        18496     \n",
      "_________________________________________________________________\n",
      "max_pooling2d_1 (MaxPooling2 (None, 12, 12, 64)        0         \n",
      "_________________________________________________________________\n",
      "dropout_1 (Dropout)          (None, 12, 12, 64)        0         \n",
      "_________________________________________________________________\n",
      "flatten_1 (Flatten)          (None, 9216)              0         \n",
      "_________________________________________________________________\n",
      "dense_1 (Dense)              (None, 128)               1179776   \n",
      "_________________________________________________________________\n",
      "dropout_2 (Dropout)          (None, 128)               0         \n",
      "_________________________________________________________________\n",
      "dense_2 (Dense)              (None, 10)                1290      \n",
      "=================================================================\n",
      "Total params: 1,199,882\n",
      "Trainable params: 1,199,882\n",
      "Non-trainable params: 0\n",
      "_________________________________________________________________\n"
     ]
    }
   ],
   "source": [
    "from keras.models import load_model\n",
    "\n",
    "model = load_model('../Adversarial-Examples-GAN/test_cnn_mnist.h5')\n",
    "model.summary()"
   ]
  },
  {
   "cell_type": "code",
   "execution_count": 6,
   "metadata": {},
   "outputs": [],
   "source": [
    "def get_angle(x):\n",
    "    \"\"\"\n",
    "    Find 'similarity' of all members in x\n",
    "    Define as <x1,x2> / (||x1||*||x2||)\n",
    "    \"\"\"\n",
    "    \n",
    "    len_x = len(x)\n",
    "    diff = []\n",
    "    for j in range(len_x):\n",
    "        for k in range(len_x):\n",
    "            if j != k:\n",
    "                tmp = (np.dot(x[j].flatten(), x[k].flatten()) / \n",
    "                    (np.linalg.norm(x[j]) * np.linalg.norm(x[k])))\n",
    "                diff.append(tmp)\n",
    "    return np.array(diff)\n",
    "\n",
    "\n",
    "def get_dist(x):\n",
    "    \"\"\"Get pairwise distance of all points in x\"\"\"\n",
    "    \n",
    "    x_flat = x.reshape(-1, N_FEATURE)\n",
    "    len_x = len(x)\n",
    "    diff = []\n",
    "    for j in range(len_x):\n",
    "        for k in range(len_x):\n",
    "            if j != k:\n",
    "                tmp = np.linalg.norm(x_flat[j] - x_flat[k])\n",
    "                diff.append(tmp)\n",
    "    return np.array(diff)\n",
    "\n",
    "\n",
    "def get_loss(x, y_s, y_t):\n",
    "    \n",
    "    len_x = len(x)\n",
    "    loss_s = np.zeros((len_x,))\n",
    "    loss_t = np.zeros((len_x,))\n",
    "\n",
    "    for j in range(len_x):\n",
    "        x_cur = x_rnd[j].reshape((1,) + INPUT_SHAPE)\n",
    "        loss_s[j] = model.evaluate(x_cur, y_s.reshape(1, 10), verbose=0)[0]\n",
    "        loss_t[j] = model.evaluate(x_cur, y_t.reshape(1, 10), verbose=0)[0]\n",
    "        \n",
    "    return loss_s, loss_t"
   ]
  },
  {
   "cell_type": "code",
   "execution_count": 16,
   "metadata": {},
   "outputs": [],
   "source": [
    "i = 10\n",
    "x_s = x_test[i]\n",
    "y_s = y_test[i]"
   ]
  },
  {
   "cell_type": "code",
   "execution_count": 17,
   "metadata": {},
   "outputs": [
    {
     "data": {
      "text/plain": [
       "<matplotlib.image.AxesImage at 0x7f09847ea2e8>"
      ]
     },
     "execution_count": 17,
     "metadata": {},
     "output_type": "execute_result"
    },
    {
     "data": {
      "image/png": "[encoded data removed]",
      "text/plain": [
       "<matplotlib.figure.Figure at 0x7f0aa52e0f60>"
      ]
     },
     "metadata": {},
     "output_type": "display_data"
    }
   ],
   "source": [
    "plt.imshow(x_s.reshape(28, 28), cmap='gray')"
   ]
  },
  {
   "cell_type": "markdown",
   "metadata": {},
   "source": [
    "Test with `rnd_pgd`  \n",
    "Pick one sample and one target label, repeatedly initialize a random point in a ball centered at the chosen sample. Perform projected gradient descent for a certain number of steps."
   ]
  },
  {
   "cell_type": "code",
   "execution_count": 10,
   "metadata": {
    "scrolled": true
   },
   "outputs": [
    {
     "ename": "KeyboardInterrupt",
     "evalue": "",
     "output_type": "error",
     "traceback": [
      "\u001b[0;31m---------------------------------------------------------------------------\u001b[0m",
      "\u001b[0;31mKeyboardInterrupt\u001b[0m                         Traceback (most recent call last)",
      "\u001b[0;32m<ipython-input-10-cc153311e15b>\u001b[0m in \u001b[0;36m<module>\u001b[0;34m()\u001b[0m\n\u001b[1;32m      7\u001b[0m \u001b[0;32mfor\u001b[0m \u001b[0mj\u001b[0m \u001b[0;32min\u001b[0m \u001b[0mrange\u001b[0m\u001b[0;34m(\u001b[0m\u001b[0mtest_len\u001b[0m\u001b[0;34m)\u001b[0m\u001b[0;34m:\u001b[0m\u001b[0;34m\u001b[0m\u001b[0m\n\u001b[1;32m      8\u001b[0m     tmp = rnd_pgd(model, x_s.reshape((1,) + INPUT_SHAPE), y_t, \n\u001b[0;32m----> 9\u001b[0;31m                   norm=\"inf\", n_step=40, step_size=0.01, target=True, init_rnd=0.1)\n\u001b[0m\u001b[1;32m     10\u001b[0m     \u001b[0mx_rnd\u001b[0m\u001b[0;34m[\u001b[0m\u001b[0mj\u001b[0m\u001b[0;34m]\u001b[0m \u001b[0;34m=\u001b[0m \u001b[0mtmp\u001b[0m\u001b[0;34m\u001b[0m\u001b[0m\n",
      "\u001b[0;32m~/aml/lib/utils.py\u001b[0m in \u001b[0;36mrnd_pgd\u001b[0;34m(model, x, y, norm, n_step, step_size, target, mask, init_rnd)\u001b[0m\n\u001b[1;32m    566\u001b[0m         \u001b[0mx_rnd\u001b[0m\u001b[0;34m[\u001b[0m\u001b[0mi\u001b[0m\u001b[0;34m]\u001b[0m \u001b[0;34m=\u001b[0m \u001b[0mnp\u001b[0m\u001b[0;34m.\u001b[0m\u001b[0mclip\u001b[0m\u001b[0;34m(\u001b[0m\u001b[0mx_cur\u001b[0m \u001b[0;34m+\u001b[0m \u001b[0minit_rnd\u001b[0m \u001b[0;34m*\u001b[0m \u001b[0mepsilon\u001b[0m\u001b[0;34m,\u001b[0m \u001b[0;36m0\u001b[0m\u001b[0;34m,\u001b[0m \u001b[0;36m1\u001b[0m\u001b[0;34m)\u001b[0m\u001b[0;34m\u001b[0m\u001b[0m\n\u001b[1;32m    567\u001b[0m \u001b[0;34m\u001b[0m\u001b[0m\n\u001b[0;32m--> 568\u001b[0;31m     \u001b[0;32mreturn\u001b[0m \u001b[0miterative\u001b[0m\u001b[0;34m(\u001b[0m\u001b[0mmodel\u001b[0m\u001b[0;34m,\u001b[0m \u001b[0mx_rnd\u001b[0m\u001b[0;34m,\u001b[0m \u001b[0my\u001b[0m\u001b[0;34m,\u001b[0m \u001b[0mnorm\u001b[0m\u001b[0;34m,\u001b[0m \u001b[0mn_step\u001b[0m\u001b[0;34m,\u001b[0m \u001b[0mstep_size\u001b[0m\u001b[0;34m,\u001b[0m \u001b[0mtarget\u001b[0m\u001b[0;34m,\u001b[0m \u001b[0mmask\u001b[0m\u001b[0;34m)\u001b[0m\u001b[0;34m\u001b[0m\u001b[0m\n\u001b[0m\u001b[1;32m    569\u001b[0m \u001b[0;34m\u001b[0m\u001b[0m\n\u001b[1;32m    570\u001b[0m \u001b[0;34m\u001b[0m\u001b[0m\n",
      "\u001b[0;32m~/aml/lib/utils.py\u001b[0m in \u001b[0;36miterative\u001b[0;34m(model, x, y, norm, n_step, step_size, target, mask)\u001b[0m\n\u001b[1;32m    421\u001b[0m         \u001b[0;32mfor\u001b[0m \u001b[0m_\u001b[0m \u001b[0;32min\u001b[0m \u001b[0mrange\u001b[0m\u001b[0;34m(\u001b[0m\u001b[0mn_step\u001b[0m\u001b[0;34m)\u001b[0m\u001b[0;34m:\u001b[0m\u001b[0;34m\u001b[0m\u001b[0m\n\u001b[1;32m    422\u001b[0m             \u001b[0;32mif\u001b[0m \u001b[0mtarget\u001b[0m \u001b[0;32mis\u001b[0m \u001b[0;32mnot\u001b[0m \u001b[0;32mNone\u001b[0m\u001b[0;34m:\u001b[0m\u001b[0;34m\u001b[0m\u001b[0m\n\u001b[0;32m--> 423\u001b[0;31m                 \u001b[0mgrad\u001b[0m \u001b[0;34m=\u001b[0m \u001b[0;34m-\u001b[0m\u001b[0;36m1\u001b[0m \u001b[0;34m*\u001b[0m \u001b[0mgradient_input\u001b[0m\u001b[0;34m(\u001b[0m\u001b[0mgrad_fn\u001b[0m\u001b[0;34m,\u001b[0m \u001b[0mx_cur\u001b[0m\u001b[0;34m,\u001b[0m \u001b[0my\u001b[0m\u001b[0;34m[\u001b[0m\u001b[0mi\u001b[0m\u001b[0;34m]\u001b[0m\u001b[0;34m)\u001b[0m\u001b[0;34m\u001b[0m\u001b[0m\n\u001b[0m\u001b[1;32m    424\u001b[0m             \u001b[0;32melse\u001b[0m\u001b[0;34m:\u001b[0m\u001b[0;34m\u001b[0m\u001b[0m\n\u001b[1;32m    425\u001b[0m                 \u001b[0mgrad\u001b[0m \u001b[0;34m=\u001b[0m \u001b[0mgradient_input\u001b[0m\u001b[0;34m(\u001b[0m\u001b[0mgrad_fn\u001b[0m\u001b[0;34m,\u001b[0m \u001b[0mx_cur\u001b[0m\u001b[0;34m,\u001b[0m \u001b[0my\u001b[0m\u001b[0;34m[\u001b[0m\u001b[0mi\u001b[0m\u001b[0;34m]\u001b[0m\u001b[0;34m)\u001b[0m\u001b[0;34m\u001b[0m\u001b[0m\n",
      "\u001b[0;32m~/aml/lib/keras_utils.py\u001b[0m in \u001b[0;36mgradient_input\u001b[0;34m(grad_fn, x, y)\u001b[0m\n\u001b[1;32m     79\u001b[0m     \u001b[0;34m\"\"\"Wrapper function to use gradient function more cleanly\"\"\"\u001b[0m\u001b[0;34m\u001b[0m\u001b[0m\n\u001b[1;32m     80\u001b[0m \u001b[0;34m\u001b[0m\u001b[0m\n\u001b[0;32m---> 81\u001b[0;31m     \u001b[0;32mreturn\u001b[0m \u001b[0mgrad_fn\u001b[0m\u001b[0;34m(\u001b[0m\u001b[0;34m[\u001b[0m\u001b[0mx\u001b[0m\u001b[0;34m.\u001b[0m\u001b[0mreshape\u001b[0m\u001b[0;34m(\u001b[0m\u001b[0;34m(\u001b[0m\u001b[0;36m1\u001b[0m\u001b[0;34m,\u001b[0m\u001b[0;34m)\u001b[0m \u001b[0;34m+\u001b[0m \u001b[0mINPUT_SHAPE\u001b[0m\u001b[0;34m)\u001b[0m\u001b[0;34m,\u001b[0m \u001b[0my\u001b[0m\u001b[0;34m,\u001b[0m \u001b[0;36m0\u001b[0m\u001b[0;34m]\u001b[0m\u001b[0;34m)\u001b[0m\u001b[0;34m[\u001b[0m\u001b[0;36m0\u001b[0m\u001b[0;34m]\u001b[0m\u001b[0;34m[\u001b[0m\u001b[0;36m0\u001b[0m\u001b[0;34m]\u001b[0m\u001b[0;34m\u001b[0m\u001b[0m\n\u001b[0m",
      "\u001b[0;32m~/anaconda3/envs/gan/lib/python3.6/site-packages/keras/backend/tensorflow_backend.py\u001b[0m in \u001b[0;36m__call__\u001b[0;34m(self, inputs)\u001b[0m\n\u001b[1;32m   2271\u001b[0m         updated = session.run(self.outputs + [self.updates_op],\n\u001b[1;32m   2272\u001b[0m                               \u001b[0mfeed_dict\u001b[0m\u001b[0;34m=\u001b[0m\u001b[0mfeed_dict\u001b[0m\u001b[0;34m,\u001b[0m\u001b[0;34m\u001b[0m\u001b[0m\n\u001b[0;32m-> 2273\u001b[0;31m                               **self.session_kwargs)\n\u001b[0m\u001b[1;32m   2274\u001b[0m         \u001b[0;32mreturn\u001b[0m \u001b[0mupdated\u001b[0m\u001b[0;34m[\u001b[0m\u001b[0;34m:\u001b[0m\u001b[0mlen\u001b[0m\u001b[0;34m(\u001b[0m\u001b[0mself\u001b[0m\u001b[0;34m.\u001b[0m\u001b[0moutputs\u001b[0m\u001b[0;34m)\u001b[0m\u001b[0;34m]\u001b[0m\u001b[0;34m\u001b[0m\u001b[0m\n\u001b[1;32m   2275\u001b[0m \u001b[0;34m\u001b[0m\u001b[0m\n",
      "\u001b[0;32m~/anaconda3/envs/gan/lib/python3.6/site-packages/tensorflow/python/client/session.py\u001b[0m in \u001b[0;36mrun\u001b[0;34m(self, fetches, feed_dict, options, run_metadata)\u001b[0m\n\u001b[1;32m    893\u001b[0m     \u001b[0;32mtry\u001b[0m\u001b[0;34m:\u001b[0m\u001b[0;34m\u001b[0m\u001b[0m\n\u001b[1;32m    894\u001b[0m       result = self._run(None, fetches, feed_dict, options_ptr,\n\u001b[0;32m--> 895\u001b[0;31m                          run_metadata_ptr)\n\u001b[0m\u001b[1;32m    896\u001b[0m       \u001b[0;32mif\u001b[0m \u001b[0mrun_metadata\u001b[0m\u001b[0;34m:\u001b[0m\u001b[0;34m\u001b[0m\u001b[0m\n\u001b[1;32m    897\u001b[0m         \u001b[0mproto_data\u001b[0m \u001b[0;34m=\u001b[0m \u001b[0mtf_session\u001b[0m\u001b[0;34m.\u001b[0m\u001b[0mTF_GetBuffer\u001b[0m\u001b[0;34m(\u001b[0m\u001b[0mrun_metadata_ptr\u001b[0m\u001b[0;34m)\u001b[0m\u001b[0;34m\u001b[0m\u001b[0m\n",
      "\u001b[0;32m~/anaconda3/envs/gan/lib/python3.6/site-packages/tensorflow/python/client/session.py\u001b[0m in \u001b[0;36m_run\u001b[0;34m(self, handle, fetches, feed_dict, options, run_metadata)\u001b[0m\n\u001b[1;32m   1122\u001b[0m     \u001b[0;32mif\u001b[0m \u001b[0mfinal_fetches\u001b[0m \u001b[0;32mor\u001b[0m \u001b[0mfinal_targets\u001b[0m \u001b[0;32mor\u001b[0m \u001b[0;34m(\u001b[0m\u001b[0mhandle\u001b[0m \u001b[0;32mand\u001b[0m \u001b[0mfeed_dict_tensor\u001b[0m\u001b[0;34m)\u001b[0m\u001b[0;34m:\u001b[0m\u001b[0;34m\u001b[0m\u001b[0m\n\u001b[1;32m   1123\u001b[0m       results = self._do_run(handle, final_targets, final_fetches,\n\u001b[0;32m-> 1124\u001b[0;31m                              feed_dict_tensor, options, run_metadata)\n\u001b[0m\u001b[1;32m   1125\u001b[0m     \u001b[0;32melse\u001b[0m\u001b[0;34m:\u001b[0m\u001b[0;34m\u001b[0m\u001b[0m\n\u001b[1;32m   1126\u001b[0m       \u001b[0mresults\u001b[0m \u001b[0;34m=\u001b[0m \u001b[0;34m[\u001b[0m\u001b[0;34m]\u001b[0m\u001b[0;34m\u001b[0m\u001b[0m\n",
      "\u001b[0;32m~/anaconda3/envs/gan/lib/python3.6/site-packages/tensorflow/python/client/session.py\u001b[0m in \u001b[0;36m_do_run\u001b[0;34m(self, handle, target_list, fetch_list, feed_dict, options, run_metadata)\u001b[0m\n\u001b[1;32m   1319\u001b[0m     \u001b[0;32mif\u001b[0m \u001b[0mhandle\u001b[0m \u001b[0;32mis\u001b[0m \u001b[0;32mNone\u001b[0m\u001b[0;34m:\u001b[0m\u001b[0;34m\u001b[0m\u001b[0m\n\u001b[1;32m   1320\u001b[0m       return self._do_call(_run_fn, self._session, feeds, fetches, targets,\n\u001b[0;32m-> 1321\u001b[0;31m                            options, run_metadata)\n\u001b[0m\u001b[1;32m   1322\u001b[0m     \u001b[0;32melse\u001b[0m\u001b[0;34m:\u001b[0m\u001b[0;34m\u001b[0m\u001b[0m\n\u001b[1;32m   1323\u001b[0m       \u001b[0;32mreturn\u001b[0m \u001b[0mself\u001b[0m\u001b[0;34m.\u001b[0m\u001b[0m_do_call\u001b[0m\u001b[0;34m(\u001b[0m\u001b[0m_prun_fn\u001b[0m\u001b[0;34m,\u001b[0m \u001b[0mself\u001b[0m\u001b[0;34m.\u001b[0m\u001b[0m_session\u001b[0m\u001b[0;34m,\u001b[0m \u001b[0mhandle\u001b[0m\u001b[0;34m,\u001b[0m \u001b[0mfeeds\u001b[0m\u001b[0;34m,\u001b[0m \u001b[0mfetches\u001b[0m\u001b[0;34m)\u001b[0m\u001b[0;34m\u001b[0m\u001b[0m\n",
      "\u001b[0;32m~/anaconda3/envs/gan/lib/python3.6/site-packages/tensorflow/python/client/session.py\u001b[0m in \u001b[0;36m_do_call\u001b[0;34m(self, fn, *args)\u001b[0m\n\u001b[1;32m   1325\u001b[0m   \u001b[0;32mdef\u001b[0m \u001b[0m_do_call\u001b[0m\u001b[0;34m(\u001b[0m\u001b[0mself\u001b[0m\u001b[0;34m,\u001b[0m \u001b[0mfn\u001b[0m\u001b[0;34m,\u001b[0m \u001b[0;34m*\u001b[0m\u001b[0margs\u001b[0m\u001b[0;34m)\u001b[0m\u001b[0;34m:\u001b[0m\u001b[0;34m\u001b[0m\u001b[0m\n\u001b[1;32m   1326\u001b[0m     \u001b[0;32mtry\u001b[0m\u001b[0;34m:\u001b[0m\u001b[0;34m\u001b[0m\u001b[0m\n\u001b[0;32m-> 1327\u001b[0;31m       \u001b[0;32mreturn\u001b[0m \u001b[0mfn\u001b[0m\u001b[0;34m(\u001b[0m\u001b[0;34m*\u001b[0m\u001b[0margs\u001b[0m\u001b[0;34m)\u001b[0m\u001b[0;34m\u001b[0m\u001b[0m\n\u001b[0m\u001b[1;32m   1328\u001b[0m     \u001b[0;32mexcept\u001b[0m \u001b[0merrors\u001b[0m\u001b[0;34m.\u001b[0m\u001b[0mOpError\u001b[0m \u001b[0;32mas\u001b[0m \u001b[0me\u001b[0m\u001b[0;34m:\u001b[0m\u001b[0;34m\u001b[0m\u001b[0m\n\u001b[1;32m   1329\u001b[0m       \u001b[0mmessage\u001b[0m \u001b[0;34m=\u001b[0m \u001b[0mcompat\u001b[0m\u001b[0;34m.\u001b[0m\u001b[0mas_text\u001b[0m\u001b[0;34m(\u001b[0m\u001b[0me\u001b[0m\u001b[0;34m.\u001b[0m\u001b[0mmessage\u001b[0m\u001b[0;34m)\u001b[0m\u001b[0;34m\u001b[0m\u001b[0m\n",
      "\u001b[0;32m~/anaconda3/envs/gan/lib/python3.6/site-packages/tensorflow/python/client/session.py\u001b[0m in \u001b[0;36m_run_fn\u001b[0;34m(session, feed_dict, fetch_list, target_list, options, run_metadata)\u001b[0m\n\u001b[1;32m   1304\u001b[0m           return tf_session.TF_Run(session, options,\n\u001b[1;32m   1305\u001b[0m                                    \u001b[0mfeed_dict\u001b[0m\u001b[0;34m,\u001b[0m \u001b[0mfetch_list\u001b[0m\u001b[0;34m,\u001b[0m \u001b[0mtarget_list\u001b[0m\u001b[0;34m,\u001b[0m\u001b[0;34m\u001b[0m\u001b[0m\n\u001b[0;32m-> 1306\u001b[0;31m                                    status, run_metadata)\n\u001b[0m\u001b[1;32m   1307\u001b[0m \u001b[0;34m\u001b[0m\u001b[0m\n\u001b[1;32m   1308\u001b[0m     \u001b[0;32mdef\u001b[0m \u001b[0m_prun_fn\u001b[0m\u001b[0;34m(\u001b[0m\u001b[0msession\u001b[0m\u001b[0;34m,\u001b[0m \u001b[0mhandle\u001b[0m\u001b[0;34m,\u001b[0m \u001b[0mfeed_dict\u001b[0m\u001b[0;34m,\u001b[0m \u001b[0mfetch_list\u001b[0m\u001b[0;34m)\u001b[0m\u001b[0;34m:\u001b[0m\u001b[0;34m\u001b[0m\u001b[0m\n",
      "\u001b[0;31mKeyboardInterrupt\u001b[0m: "
     ]
    }
   ],
   "source": [
    "test_len = 1000\n",
    "y_t = np.array([0])\n",
    "y_t = keras.utils.to_categorical(y_t, NUM_LABELS)\n",
    "\n",
    "x_rnd = np.zeros((test_len,) + INPUT_SHAPE)\n",
    "\n",
    "for j in range(test_len):\n",
    "    tmp = rnd_pgd(model, x_s.reshape((1,) + INPUT_SHAPE), y_t, \n",
    "                  norm=\"inf\", n_step=40, step_size=0.01, target=True, init_rnd=0.1)\n",
    "    x_rnd[j] = tmp"
   ]
  },
  {
   "cell_type": "code",
   "execution_count": null,
   "metadata": {},
   "outputs": [],
   "source": [
    "loss_s, loss_t = get_loss(x_rnd, y_s, y_t)"
   ]
  },
  {
   "cell_type": "markdown",
   "metadata": {},
   "source": [
    "Histogram of loss with respect to the target label"
   ]
  },
  {
   "cell_type": "code",
   "execution_count": null,
   "metadata": {
    "scrolled": true
   },
   "outputs": [],
   "source": [
    "plt.hist(loss_t, bins=30)"
   ]
  },
  {
   "cell_type": "markdown",
   "metadata": {},
   "source": [
    "Calculate the angle between all pairs of adversarial examples generated"
   ]
  },
  {
   "cell_type": "code",
   "execution_count": 9,
   "metadata": {
    "collapsed": true
   },
   "outputs": [],
   "source": [
    "diff = get_angle(x_rnd)"
   ]
  },
  {
   "cell_type": "code",
   "execution_count": 11,
   "metadata": {},
   "outputs": [
    {
     "data": {
      "text/plain": [
       "0.89698024003700838"
      ]
     },
     "execution_count": 11,
     "metadata": {},
     "output_type": "execute_result"
    }
   ],
   "source": [
    "np.mean(diff)"
   ]
  },
  {
   "cell_type": "code",
   "execution_count": 12,
   "metadata": {
    "scrolled": true
   },
   "outputs": [
    {
     "data": {
      "text/plain": [
       "(array([  8.00000000e+00,   2.00000000e+01,   1.16000000e+02,\n",
       "          2.80000000e+02,   6.38000000e+02,   1.52400000e+03,\n",
       "          2.87800000e+03,   5.16200000e+03,   7.92000000e+03,\n",
       "          1.13540000e+04,   1.58940000e+04,   2.08660000e+04,\n",
       "          2.60860000e+04,   3.34420000e+04,   4.37380000e+04,\n",
       "          5.66060000e+04,   7.21360000e+04,   8.83780000e+04,\n",
       "          1.02178000e+05,   1.12102000e+05,   1.10002000e+05,\n",
       "          9.89480000e+04,   7.78060000e+04,   5.41400000e+04,\n",
       "          3.18040000e+04,   1.57640000e+04,   6.60400000e+03,\n",
       "          2.09600000e+03,   4.62000000e+02,   4.80000000e+01]),\n",
       " array([ 0.80075926,  0.8059307 ,  0.81110213,  0.81627357,  0.821445  ,\n",
       "         0.82661643,  0.83178787,  0.8369593 ,  0.84213074,  0.84730217,\n",
       "         0.8524736 ,  0.85764504,  0.86281647,  0.86798791,  0.87315934,\n",
       "         0.87833077,  0.88350221,  0.88867364,  0.89384508,  0.89901651,\n",
       "         0.90418795,  0.90935938,  0.91453081,  0.91970225,  0.92487368,\n",
       "         0.93004512,  0.93521655,  0.94038798,  0.94555942,  0.95073085,\n",
       "         0.95590229]),\n",
       " <a list of 30 Patch objects>)"
      ]
     },
     "execution_count": 12,
     "metadata": {},
     "output_type": "execute_result"
    },
    {
     "data": {
      "image/png": "[encoded data removed]",
      "text/plain": [
       "<matplotlib.figure.Figure at 0x7ff57e531c50>"
      ]
     },
     "metadata": {},
     "output_type": "display_data"
    }
   ],
   "source": [
    "plt.hist(diff, bins=30)"
   ]
  },
  {
   "cell_type": "markdown",
   "metadata": {
    "collapsed": true
   },
   "source": [
    "Test `s_pgd`  "
   ]
  },
  {
   "cell_type": "code",
   "execution_count": 37,
   "metadata": {},
   "outputs": [
    {
     "name": "stdout",
     "output_type": "stream",
     "text": [
      "0\n",
      "100\n",
      "200\n",
      "300\n",
      "400\n",
      "500\n",
      "600\n",
      "700\n",
      "800\n",
      "900\n"
     ]
    }
   ],
   "source": [
    "test_len = 1000\n",
    "y_t = np.array([7])\n",
    "y_t = keras.utils.to_categorical(y_t, NUM_LABELS)\n",
    "\n",
    "x_rnd = np.zeros((test_len,) + INPUT_SHAPE)\n",
    "\n",
    "for j in range(test_len):\n",
    "    if j % 100 == 0:\n",
    "        print(j)\n",
    "    tmp = s_pgd(model, x_s.reshape((1,) + INPUT_SHAPE), y_t,  \n",
    "                norm=\"inf\", n_step=40, step_size=0.01, \n",
    "                target=True, beta=0.5, early_stop=True)\n",
    "    x_rnd[j] = tmp"
   ]
  },
  {
   "cell_type": "code",
   "execution_count": 39,
   "metadata": {},
   "outputs": [],
   "source": [
    "import pickle\n",
    "pickle.dump(x_rnd, open(\"save_0.5_i10_t7.p\", \"wb\"))\n",
    "#x_rnd = pickle.load(open(\"save_0.5_i10_t7.p\", \"rb\"))"
   ]
  },
  {
   "cell_type": "code",
   "execution_count": 18,
   "metadata": {},
   "outputs": [],
   "source": [
    "diff = get_angle(x_rnd)"
   ]
  },
  {
   "cell_type": "code",
   "execution_count": 19,
   "metadata": {
    "scrolled": true
   },
   "outputs": [
    {
     "data": {
      "text/plain": [
       "(array([  2.00000000e+00,   2.00000000e+00,   1.20000000e+01,\n",
       "          3.60000000e+01,   9.00000000e+01,   2.06000000e+02,\n",
       "          4.52000000e+02,   1.06600000e+03,   2.11800000e+03,\n",
       "          3.93000000e+03,   7.80000000e+03,   1.34560000e+04,\n",
       "          2.24280000e+04,   3.40240000e+04,   4.97180000e+04,\n",
       "          6.87960000e+04,   8.74260000e+04,   1.05580000e+05,\n",
       "          1.17078000e+05,   1.20202000e+05,   1.11258000e+05,\n",
       "          9.39680000e+04,   7.10540000e+04,   4.59640000e+04,\n",
       "          2.53320000e+04,   1.15120000e+04,   4.17800000e+03,\n",
       "          1.13200000e+03,   1.54000000e+02,   2.60000000e+01]),\n",
       " array([ 0.96488814,  0.96583756,  0.96678698,  0.9677364 ,  0.96868582,\n",
       "         0.96963524,  0.97058466,  0.97153408,  0.9724835 ,  0.97343292,\n",
       "         0.97438234,  0.97533176,  0.97628118,  0.9772306 ,  0.97818002,\n",
       "         0.97912944,  0.98007886,  0.98102828,  0.9819777 ,  0.98292712,\n",
       "         0.98387654,  0.98482596,  0.98577538,  0.9867248 ,  0.98767422,\n",
       "         0.98862364,  0.98957306,  0.99052248,  0.9914719 ,  0.99242132,\n",
       "         0.99337074]),\n",
       " <a list of 30 Patch objects>)"
      ]
     },
     "execution_count": 19,
     "metadata": {},
     "output_type": "execute_result"
    },
    {
     "data": {
      "image/png": "[encoded data removed]",
      "text/plain": [
       "<matplotlib.figure.Figure at 0x7f7cd29665f8>"
      ]
     },
     "metadata": {},
     "output_type": "display_data"
    }
   ],
   "source": [
    "# step_size, beta = 0.01, 0.2\n",
    "plt.hist(diff, bins=30)"
   ]
  },
  {
   "cell_type": "markdown",
   "metadata": {},
   "source": [
    "Calculate histogram and variance of angle difference for uniformly random points in \\[0, 1\\]"
   ]
  },
  {
   "cell_type": "code",
   "execution_count": 14,
   "metadata": {},
   "outputs": [
    {
     "name": "stdout",
     "output_type": "stream",
     "text": [
      "Variance:  0.000125037195272\n"
     ]
    },
    {
     "data": {
      "image/png": "[encoded data removed]",
      "text/plain": [
       "<matplotlib.figure.Figure at 0x7f7cd29f4438>"
      ]
     },
     "metadata": {},
     "output_type": "display_data"
    }
   ],
   "source": [
    "h, w, c = x_test[0].shape\n",
    "len_rnd = 1000\n",
    "\n",
    "rnd = np.random.rand(len_rnd, h, w, c)\n",
    "diff = get_angle(rnd)\n",
    "plt.hist(diff, bins=30)\n",
    "print(\"Variance: \", np.var(diff))"
   ]
  },
  {
   "cell_type": "markdown",
   "metadata": {},
   "source": [
    "Estimate hyperplane to fit all generated adversarial examples  \n",
    "Try fitting with adversarial examples from (`n_step=40, step_size=0.01, beta=0.2`)"
   ]
  },
  {
   "cell_type": "code",
   "execution_count": 20,
   "metadata": {},
   "outputs": [],
   "source": [
    "pca = PCA(n_components=783)\n",
    "x_flat = x_rnd.reshape((-1, 784))\n",
    "pca.fit(x_flat - np.mean(x_flat, axis=0))\n",
    "\n",
    "proj_matrix = np.dot(pca.components_.T, pca.components_)\n",
    "x_tran = np.dot(x_flat, proj_matrix)"
   ]
  },
  {
   "cell_type": "code",
   "execution_count": null,
   "metadata": {},
   "outputs": [],
   "source": [
    "plt.hist(np.linalg.norm(x_tran - x_flat.reshape(-1, 784), axis=1), bins=30)"
   ]
  },
  {
   "cell_type": "code",
   "execution_count": 21,
   "metadata": {
    "scrolled": true
   },
   "outputs": [
    {
     "data": {
      "text/plain": [
       "(array([  1.,   2.,   3.,   6.,   9.,  13.,  12.,  33.,  39.,  44.,  51.,\n",
       "         64.,  53.,  59.,  90.,  69.,  69.,  86.,  61.,  58.,  46.,  46.,\n",
       "         31.,  21.,  14.,   7.,   8.,   1.,   2.,   2.]),\n",
       " array([ 3.67595954,  3.68642543,  3.69689132,  3.70735722,  3.71782311,\n",
       "         3.728289  ,  3.73875489,  3.74922078,  3.75968668,  3.77015257,\n",
       "         3.78061846,  3.79108435,  3.80155024,  3.81201613,  3.82248203,\n",
       "         3.83294792,  3.84341381,  3.8538797 ,  3.86434559,  3.87481149,\n",
       "         3.88527738,  3.89574327,  3.90620916,  3.91667505,  3.92714095,\n",
       "         3.93760684,  3.94807273,  3.95853862,  3.96900451,  3.9794704 ,\n",
       "         3.9899363 ]),\n",
       " <a list of 30 Patch objects>)"
      ]
     },
     "execution_count": 21,
     "metadata": {},
     "output_type": "execute_result"
    },
    {
     "data": {
      "image/png": "[encoded data removed]",
      "text/plain": [
       "<matplotlib.figure.Figure at 0x7f7cd16c1be0>"
      ]
     },
     "metadata": {},
     "output_type": "display_data"
    }
   ],
   "source": [
    "plt.hist(np.linalg.norm(x_tran - x_s.reshape(1, 784), axis=1), bins=30)"
   ]
  },
  {
   "cell_type": "code",
   "execution_count": 22,
   "metadata": {},
   "outputs": [
    {
     "name": "stdout",
     "output_type": "stream",
     "text": [
      "Distance from original sample to hyperplane: 0.00154478231123\n"
     ]
    }
   ],
   "source": [
    "x_s_proj = np.dot(x_s.reshape(1, 784), proj_matrix)\n",
    "print(\"Distance from original sample to hyperplane:\", np.linalg.norm(x_s_proj - x_s.reshape(1, 784), axis=1)[0])"
   ]
  },
  {
   "cell_type": "code",
   "execution_count": 24,
   "metadata": {},
   "outputs": [
    {
     "data": {
      "image/png": "[encoded data removed]",
      "text/plain": [
       "<matplotlib.figure.Figure at 0x7f77b1a60ac8>"
      ]
     },
     "metadata": {},
     "output_type": "display_data"
    },
    {
     "data": {
      "image/png": "[encoded data removed]",
      "text/plain": [
       "<matplotlib.figure.Figure at 0x7f77b18b41d0>"
      ]
     },
     "metadata": {},
     "output_type": "display_data"
    },
    {
     "data": {
      "image/png": "[encoded data removed]",
      "text/plain": [
       "<matplotlib.figure.Figure at 0x7f77b1954780>"
      ]
     },
     "metadata": {},
     "output_type": "display_data"
    },
    {
     "data": {
      "image/png": "[encoded data removed]",
      "text/plain": [
       "<matplotlib.figure.Figure at 0x7f77b185d940>"
      ]
     },
     "metadata": {},
     "output_type": "display_data"
    },
    {
     "data": {
      "image/png": "[encoded data removed]",
      "text/plain": [
       "<matplotlib.figure.Figure at 0x7f77b17c6668>"
      ]
     },
     "metadata": {},
     "output_type": "display_data"
    },
    {
     "data": {
      "image/png": "[encoded data removed]",
      "text/plain": [
       "<matplotlib.figure.Figure at 0x7f77b149ab38>"
      ]
     },
     "metadata": {},
     "output_type": "display_data"
    },
    {
     "data": {
      "image/png": "[encoded data removed]",
      "text/plain": [
       "<matplotlib.figure.Figure at 0x7f77b19e9080>"
      ]
     },
     "metadata": {},
     "output_type": "display_data"
    },
    {
     "data": {
      "image/png": "[encoded data removed]",
      "text/plain": [
       "<matplotlib.figure.Figure at 0x7f77b149a908>"
      ]
     },
     "metadata": {},
     "output_type": "display_data"
    },
    {
     "data": {
      "image/png": "[encoded data removed]",
      "text/plain": [
       "<matplotlib.figure.Figure at 0x7f77b13c0c18>"
      ]
     },
     "metadata": {},
     "output_type": "display_data"
    },
    {
     "data": {
      "image/png": "[encoded data removed]",
      "text/plain": [
       "<matplotlib.figure.Figure at 0x7f77b1077080>"
      ]
     },
     "metadata": {},
     "output_type": "display_data"
    }
   ],
   "source": [
    "for j in range(10):\n",
    "    f, (ax1, ax2) = plt.subplots(1, 2)\n",
    "    ax1.imshow(x_rnd[j].reshape(28, 28), cmap='gray')\n",
    "    ax2.imshow(x_tran[j].reshape(28, 28), cmap='gray')\n",
    "    plt.show()"
   ]
  },
  {
   "cell_type": "markdown",
   "metadata": {},
   "source": [
    "Look like adversarial examples generated are very close to one another, resulting in the hyperplane overfitting a dense cluster of points. Or alternatively, the boundary is highly nonlinear and the approximation just does not work.  \n",
    "\n",
    "#### beta = 0.5"
   ]
  },
  {
   "cell_type": "code",
   "execution_count": 24,
   "metadata": {},
   "outputs": [
    {
     "data": {
      "text/plain": [
       "(array([  1.40000000e+01,   4.20000000e+01,   6.20000000e+01,\n",
       "          1.36000000e+02,   2.92000000e+02,   4.66000000e+02,\n",
       "          9.38000000e+02,   1.62600000e+03,   3.19400000e+03,\n",
       "          5.57600000e+03,   9.72000000e+03,   1.70480000e+04,\n",
       "          2.80100000e+04,   4.35520000e+04,   6.36100000e+04,\n",
       "          8.60480000e+04,   1.06942000e+05,   1.23040000e+05,\n",
       "          1.27436000e+05,   1.19210000e+05,   9.91140000e+04,\n",
       "          7.37680000e+04,   4.68300000e+04,   2.54600000e+04,\n",
       "          1.13800000e+04,   4.14600000e+03,   1.06200000e+03,\n",
       "          2.20000000e+02,   5.60000000e+01,   2.00000000e+00]),\n",
       " array([ 0.9503538 ,  0.95158116,  0.95280852,  0.95403589,  0.95526325,\n",
       "         0.95649061,  0.95771797,  0.95894533,  0.9601727 ,  0.96140006,\n",
       "         0.96262742,  0.96385478,  0.96508215,  0.96630951,  0.96753687,\n",
       "         0.96876423,  0.96999159,  0.97121896,  0.97244632,  0.97367368,\n",
       "         0.97490104,  0.97612841,  0.97735577,  0.97858313,  0.97981049,\n",
       "         0.98103785,  0.98226522,  0.98349258,  0.98471994,  0.9859473 ,\n",
       "         0.98717467]),\n",
       " <a list of 30 Patch objects>)"
      ]
     },
     "execution_count": 24,
     "metadata": {},
     "output_type": "execute_result"
    },
    {
     "data": {
      "image/png": "[encoded data removed]",
      "text/plain": [
       "<matplotlib.figure.Figure at 0x7f7cd15e1588>"
      ]
     },
     "metadata": {},
     "output_type": "display_data"
    }
   ],
   "source": [
    "# step_size, beta = 0.01, 0.5\n",
    "diff = get_angle(x_rnd)\n",
    "plt.hist(diff, bins=30)"
   ]
  },
  {
   "cell_type": "code",
   "execution_count": 25,
   "metadata": {},
   "outputs": [
    {
     "data": {
      "text/plain": [
       "(array([   1.,    0.,    0.,    0.,    1.,    1.,    0.,    2.,    4.,\n",
       "           4.,    6.,   11.,   18.,   27.,   41.,   60.,   89.,  105.,\n",
       "         105.,  120.,  120.,   94.,   60.,   61.,   25.,   21.,   14.,\n",
       "           4.,    3.,    3.]),\n",
       " array([ 3.4553959 ,  3.47659566,  3.49779542,  3.51899518,  3.54019494,\n",
       "         3.5613947 ,  3.58259446,  3.60379422,  3.62499398,  3.64619374,\n",
       "         3.6673935 ,  3.68859326,  3.70979302,  3.73099278,  3.75219254,\n",
       "         3.7733923 ,  3.79459206,  3.81579182,  3.83699158,  3.85819134,\n",
       "         3.8793911 ,  3.90059086,  3.92179062,  3.94299038,  3.96419014,\n",
       "         3.9853899 ,  4.00658966,  4.02778942,  4.04898918,  4.07018894,\n",
       "         4.0913887 ]),\n",
       " <a list of 30 Patch objects>)"
      ]
     },
     "execution_count": 25,
     "metadata": {},
     "output_type": "execute_result"
    },
    {
     "data": {
      "image/png": "[encoded data removed]",
      "text/plain": [
       "<matplotlib.figure.Figure at 0x7f7cd1566d30>"
      ]
     },
     "metadata": {},
     "output_type": "display_data"
    }
   ],
   "source": [
    "pca = PCA(n_components=783)\n",
    "x_flat = x_rnd.reshape((-1, 784))\n",
    "pca.fit(x_flat - np.mean(x_flat, axis=0))\n",
    "\n",
    "proj_matrix = np.dot(pca.components_.T, pca.components_)\n",
    "x_tran = np.dot(x_flat, proj_matrix)\n",
    "plt.hist(np.linalg.norm(x_tran - x_s.reshape(1, 784), axis=1), bins=30)"
   ]
  },
  {
   "cell_type": "code",
   "execution_count": 26,
   "metadata": {},
   "outputs": [
    {
     "name": "stdout",
     "output_type": "stream",
     "text": [
      "Distance from original sample to hyperplane: 0.00273882584101\n"
     ]
    }
   ],
   "source": [
    "x_s_proj = np.dot(x_s.reshape(1, 784), proj_matrix)\n",
    "print(\"Distance from original sample to hyperplane:\", np.linalg.norm(x_s_proj - x_s.reshape(1, 784), axis=1)[0])"
   ]
  },
  {
   "cell_type": "code",
   "execution_count": 14,
   "metadata": {},
   "outputs": [
    {
     "data": {
      "image/png": "[encoded data removed]",
      "text/plain": [
       "<matplotlib.figure.Figure at 0x7f6624778550>"
      ]
     },
     "metadata": {},
     "output_type": "display_data"
    },
    {
     "data": {
      "image/png": "[encoded data removed]",
      "text/plain": [
       "<matplotlib.figure.Figure at 0x7f662467d080>"
      ]
     },
     "metadata": {},
     "output_type": "display_data"
    },
    {
     "data": {
      "image/png": "[encoded data removed]",
      "text/plain": [
       "<matplotlib.figure.Figure at 0x7f6624716c88>"
      ]
     },
     "metadata": {},
     "output_type": "display_data"
    },
    {
     "data": {
      "image/png": "[encoded data removed]",
      "text/plain": [
       "<matplotlib.figure.Figure at 0x7f662467d0b8>"
      ]
     },
     "metadata": {},
     "output_type": "display_data"
    },
    {
     "data": {
      "image/png": "[encoded data removed]",
      "text/plain": [
       "<matplotlib.figure.Figure at 0x7f66243b8be0>"
      ]
     },
     "metadata": {},
     "output_type": "display_data"
    },
    {
     "data": {
      "image/png": "[encoded data removed]",
      "text/plain": [
       "<matplotlib.figure.Figure at 0x7f66240169e8>"
      ]
     },
     "metadata": {},
     "output_type": "display_data"
    },
    {
     "data": {
      "image/png": "[encoded data removed]",
      "text/plain": [
       "<matplotlib.figure.Figure at 0x7f6624168b00>"
      ]
     },
     "metadata": {},
     "output_type": "display_data"
    },
    {
     "data": {
      "image/png": "[encoded data removed]",
      "text/plain": [
       "<matplotlib.figure.Figure at 0x7f6610394438>"
      ]
     },
     "metadata": {},
     "output_type": "display_data"
    },
    {
     "data": {
      "image/png": "[encoded data removed]",
      "text/plain": [
       "<matplotlib.figure.Figure at 0x7f6610115ef0>"
      ]
     },
     "metadata": {},
     "output_type": "display_data"
    },
    {
     "data": {
      "image/png": "[encoded data removed]",
      "text/plain": [
       "<matplotlib.figure.Figure at 0x7f6610175b70>"
      ]
     },
     "metadata": {},
     "output_type": "display_data"
    }
   ],
   "source": [
    "for j in range(10):\n",
    "    f, (ax1, ax2) = plt.subplots(1, 2)\n",
    "    ax1.imshow(x_rnd[j].reshape(28, 28), cmap='gray')\n",
    "    ax2.imshow(x_tran[j].reshape(28, 28), cmap='gray')\n",
    "    plt.show()"
   ]
  },
  {
   "cell_type": "markdown",
   "metadata": {},
   "source": [
    "Find distance between each pair of generated adversarial examples."
   ]
  },
  {
   "cell_type": "code",
   "execution_count": 16,
   "metadata": {
    "scrolled": true
   },
   "outputs": [
    {
     "data": {
      "text/plain": [
       "(array([  2.00000000e+00,   4.00000000e+00,   4.20000000e+01,\n",
       "          1.26000000e+02,   4.42000000e+02,   1.41000000e+03,\n",
       "          4.14800000e+03,   9.67000000e+03,   2.03220000e+04,\n",
       "          3.60120000e+04,   5.83360000e+04,   8.29740000e+04,\n",
       "          1.05048000e+05,   1.21668000e+05,   1.26512000e+05,\n",
       "          1.18628000e+05,   1.00760000e+05,   7.80340000e+04,\n",
       "          5.47900000e+04,   3.55580000e+04,   2.11320000e+04,\n",
       "          1.15000000e+04,   6.11000000e+03,   3.16800000e+03,\n",
       "          1.42000000e+03,   6.42000000e+02,   3.28000000e+02,\n",
       "          1.42000000e+02,   5.80000000e+01,   1.40000000e+01]),\n",
       " array([ 1.20464865,  1.24454203,  1.28443541,  1.32432878,  1.36422216,\n",
       "         1.40411554,  1.44400891,  1.48390229,  1.52379567,  1.56368904,\n",
       "         1.60358242,  1.6434758 ,  1.68336917,  1.72326255,  1.76315593,\n",
       "         1.8030493 ,  1.84294268,  1.88283606,  1.92272943,  1.96262281,\n",
       "         2.00251619,  2.04240956,  2.08230294,  2.12219632,  2.16208969,\n",
       "         2.20198307,  2.24187645,  2.28176982,  2.3216632 ,  2.36155658,\n",
       "         2.40144995]),\n",
       " <a list of 30 Patch objects>)"
      ]
     },
     "execution_count": 16,
     "metadata": {},
     "output_type": "execute_result"
    },
    {
     "data": {
      "image/png": "[encoded data removed]",
      "text/plain": [
       "<matplotlib.figure.Figure at 0x7f66241b3d68>"
      ]
     },
     "metadata": {},
     "output_type": "display_data"
    }
   ],
   "source": [
    "dist = get_dist(x_rnd)\n",
    "plt.hist(a, bins=30)"
   ]
  },
  {
   "cell_type": "markdown",
   "metadata": {},
   "source": [
    "Distance from each samples in `x_test` to the origin"
   ]
  },
  {
   "cell_type": "code",
   "execution_count": 20,
   "metadata": {},
   "outputs": [],
   "source": [
    "dist_from_origin = np.zeros(len(x_test))\n",
    "for j in range(len(x_test)):\n",
    "    dist_from_origin[j] = np.linalg.norm(x_test[j].reshape(N_FEATURE))"
   ]
  },
  {
   "cell_type": "code",
   "execution_count": 21,
   "metadata": {},
   "outputs": [
    {
     "data": {
      "text/plain": [
       "(array([   2.,    7.,   23.,   40.,   75.,  142.,  196.,  265.,  368.,\n",
       "         527.,  647.,  786.,  822.,  926.,  952.,  910.,  765.,  647.,\n",
       "         559.,  444.,  319.,  187.,  142.,   91.,   65.,   44.,   24.,\n",
       "          15.,    8.,    2.]),\n",
       " array([  3.67629433,   4.07176183,   4.46722933,   4.86269684,\n",
       "          5.25816434,   5.65363185,   6.04909935,   6.44456685,\n",
       "          6.84003436,   7.23550186,   7.63096937,   8.02643687,\n",
       "          8.42190437,   8.81737188,   9.21283938,   9.60830688,\n",
       "         10.00377439,  10.39924189,  10.7947094 ,  11.1901769 ,\n",
       "         11.5856444 ,  11.98111191,  12.37657941,  12.77204692,\n",
       "         13.16751442,  13.56298192,  13.95844943,  14.35391693,\n",
       "         14.74938444,  15.14485194,  15.54031944]),\n",
       " <a list of 30 Patch objects>)"
      ]
     },
     "execution_count": 21,
     "metadata": {},
     "output_type": "execute_result"
    },
    {
     "data": {
      "image/png": "[encoded data removed]",
      "text/plain": [
       "<matplotlib.figure.Figure at 0x7f65a3559ac8>"
      ]
     },
     "metadata": {},
     "output_type": "display_data"
    }
   ],
   "source": [
    "plt.hist(dist_from_origin, bins=30)"
   ]
  },
  {
   "cell_type": "code",
   "execution_count": 33,
   "metadata": {},
   "outputs": [
    {
     "data": {
      "text/plain": [
       "array([[  1.99999996e-02,   3.99999917e-02,   6.99999779e-02, ...,\n",
       "          2.40168780e-16,  -2.36139194e-17,   3.99999991e-02],\n",
       "       [  1.31055134e-15,   1.01987490e-15,   5.49999811e-02, ...,\n",
       "          1.04999997e-01,   1.95000023e-01,   1.85000002e-01],\n",
       "       [  1.36092345e-15,   6.99999779e-02,   2.99999975e-02, ...,\n",
       "          4.50000018e-02,   6.00000024e-02,   2.49999985e-02],\n",
       "       ..., \n",
       "       [  1.25568369e-15,   6.99999854e-02,   7.99999908e-02, ...,\n",
       "          2.04999983e-01,   2.04999983e-01,   1.25000000e-01],\n",
       "       [  1.49999866e-02,   1.49999978e-02,   8.50000083e-02, ...,\n",
       "          2.44999975e-01,   2.74999946e-01,   2.69999951e-01],\n",
       "       [  1.37007167e-15,   1.35000035e-01,   1.14999980e-01, ...,\n",
       "          2.09999979e-01,   2.94999927e-01,   3.29999924e-01]])"
      ]
     },
     "execution_count": 33,
     "metadata": {},
     "output_type": "execute_result"
    }
   ],
   "source": [
    "x_tran"
   ]
  },
  {
   "cell_type": "code",
   "execution_count": 30,
   "metadata": {},
   "outputs": [],
   "source": [
    "temp = pca.transform(x_rnd.reshape(-1, N_FEATURE))\n",
    "x_tran_pca = pca.inverse_transform(temp)"
   ]
  },
  {
   "cell_type": "code",
   "execution_count": 32,
   "metadata": {},
   "outputs": [
    {
     "data": {
      "text/plain": [
       "array([[  1.99999996e-02,   3.99999917e-02,   6.99999779e-02, ...,\n",
       "          2.50393929e-16,  -1.27575317e-16,   3.99999991e-02],\n",
       "       [  1.34250099e-15,   9.33505217e-16,   5.49999811e-02, ...,\n",
       "          1.04999997e-01,   1.95000023e-01,   1.85000002e-01],\n",
       "       [  1.53975597e-15,   6.99999779e-02,   2.99999975e-02, ...,\n",
       "          4.50000018e-02,   6.00000024e-02,   2.49999985e-02],\n",
       "       ..., \n",
       "       [  1.27386055e-15,   6.99999854e-02,   7.99999908e-02, ...,\n",
       "          2.04999983e-01,   2.04999983e-01,   1.25000000e-01],\n",
       "       [  1.49999866e-02,   1.49999978e-02,   8.50000083e-02, ...,\n",
       "          2.44999975e-01,   2.74999946e-01,   2.69999951e-01],\n",
       "       [  1.40395398e-15,   1.35000035e-01,   1.14999980e-01, ...,\n",
       "          2.09999979e-01,   2.94999927e-01,   3.29999924e-01]])"
      ]
     },
     "execution_count": 32,
     "metadata": {},
     "output_type": "execute_result"
    }
   ],
   "source": [
    "x_tran_pca"
   ]
  },
  {
   "cell_type": "code",
   "execution_count": 34,
   "metadata": {},
   "outputs": [
    {
     "data": {
      "text/plain": [
       "array([  4.49169406e-02,   4.26196810e-02,   2.82571165e-02,\n",
       "         2.62812008e-02,   2.40845838e-02,   2.20811495e-02,\n",
       "         2.01020847e-02,   1.90401496e-02,   1.75842392e-02,\n",
       "         1.70564171e-02,   1.46409619e-02,   1.43071145e-02,\n",
       "         1.33313195e-02,   1.17831988e-02,   1.11427511e-02,\n",
       "         1.06101868e-02,   1.03341273e-02,   9.70102444e-03,\n",
       "         9.48115883e-03,   8.95966005e-03,   8.65707620e-03,\n",
       "         8.48322375e-03,   8.18564792e-03,   7.74703851e-03,\n",
       "         7.60534815e-03,   7.11905447e-03,   6.84451280e-03,\n",
       "         6.78405957e-03,   6.50515592e-03,   6.42492274e-03,\n",
       "         6.25034008e-03,   6.19710669e-03,   5.96710707e-03,\n",
       "         5.73503193e-03,   5.63485255e-03,   5.46853210e-03,\n",
       "         5.37253039e-03,   5.33891792e-03,   5.32407572e-03,\n",
       "         5.00680119e-03,   4.96869900e-03,   4.76997584e-03,\n",
       "         4.64321727e-03,   4.44725910e-03,   4.39235317e-03,\n",
       "         4.34496552e-03,   4.25411839e-03,   4.12164029e-03,\n",
       "         4.05183106e-03,   3.98048766e-03,   3.86233174e-03,\n",
       "         3.76442291e-03,   3.73103070e-03,   3.66859726e-03,\n",
       "         3.57598492e-03,   3.47439370e-03,   3.41084320e-03,\n",
       "         3.38478716e-03,   3.31626602e-03,   3.25120043e-03,\n",
       "         3.21558901e-03,   3.19242899e-03,   3.15358342e-03,\n",
       "         3.10353741e-03,   3.06515502e-03,   3.02901324e-03,\n",
       "         2.99094163e-03,   2.98520823e-03,   2.88929608e-03,\n",
       "         2.85549966e-03,   2.83676869e-03,   2.79591626e-03,\n",
       "         2.77638425e-03,   2.69657915e-03,   2.68573974e-03,\n",
       "         2.64122068e-03,   2.60149132e-03,   2.57674443e-03,\n",
       "         2.51982280e-03,   2.51088004e-03,   2.50244564e-03,\n",
       "         2.46655745e-03,   2.41573328e-03,   2.40159938e-03,\n",
       "         2.37114391e-03,   2.36210601e-03,   2.33778965e-03,\n",
       "         2.30338821e-03,   2.27834957e-03,   2.24993924e-03,\n",
       "         2.24274035e-03,   2.21098210e-03,   2.20646349e-03,\n",
       "         2.17916818e-03,   2.14551020e-03,   2.14302188e-03,\n",
       "         2.11334594e-03,   2.08303491e-03,   2.07197880e-03,\n",
       "         2.06165070e-03,   2.03722158e-03,   2.01321536e-03,\n",
       "         1.99002757e-03,   1.96530557e-03,   1.96252320e-03,\n",
       "         1.93703413e-03,   1.92376565e-03,   1.90459148e-03,\n",
       "         1.89754252e-03,   1.88326276e-03,   1.85843384e-03,\n",
       "         1.84399491e-03,   1.83544871e-03,   1.83177693e-03,\n",
       "         1.81301236e-03,   1.79226176e-03,   1.77024212e-03,\n",
       "         1.76969031e-03,   1.75665479e-03,   1.74243326e-03,\n",
       "         1.73328705e-03,   1.72147650e-03,   1.71875016e-03,\n",
       "         1.69939762e-03,   1.69340765e-03,   1.68133108e-03,\n",
       "         1.66733687e-03,   1.65874948e-03,   1.65466794e-03,\n",
       "         1.64554033e-03,   1.63213831e-03,   1.61678293e-03,\n",
       "         1.58837236e-03,   1.58238717e-03,   1.57157253e-03,\n",
       "         1.54743209e-03,   1.54560275e-03,   1.53854749e-03,\n",
       "         1.52996147e-03,   1.51046857e-03,   1.50638115e-03,\n",
       "         1.48921499e-03,   1.48182608e-03,   1.47895268e-03,\n",
       "         1.47258810e-03,   1.45898841e-03,   1.45018446e-03,\n",
       "         1.43231232e-03,   1.42040251e-03,   1.41093573e-03,\n",
       "         1.40042115e-03,   1.39455582e-03,   1.38733233e-03,\n",
       "         1.36664185e-03,   1.36277438e-03,   1.35702883e-03,\n",
       "         1.35246813e-03,   1.34579786e-03,   1.33909739e-03,\n",
       "         1.32340612e-03,   1.31762708e-03,   1.31215486e-03,\n",
       "         1.30138145e-03,   1.29162949e-03,   1.28218201e-03,\n",
       "         1.27810638e-03,   1.26510722e-03,   1.26025971e-03,\n",
       "         1.25574683e-03,   1.24604003e-03,   1.23958956e-03,\n",
       "         1.23444637e-03,   1.22290668e-03,   1.21817140e-03,\n",
       "         1.20887123e-03,   1.20069048e-03,   1.19458291e-03,\n",
       "         1.19032704e-03,   1.18508631e-03,   1.18180403e-03,\n",
       "         1.17609693e-03,   1.17191470e-03,   1.15848691e-03,\n",
       "         1.14308510e-03,   1.13762055e-03,   1.13512533e-03,\n",
       "         1.13381751e-03,   1.12404006e-03,   1.11286064e-03,\n",
       "         1.11055210e-03,   1.10584600e-03,   1.09635615e-03,\n",
       "         1.09170519e-03,   1.08075606e-03,   1.07267975e-03,\n",
       "         1.07138021e-03,   1.06771639e-03,   1.06283134e-03,\n",
       "         1.05437182e-03,   1.04793396e-03,   1.04282376e-03,\n",
       "         1.03809476e-03,   1.03347514e-03,   1.02628373e-03,\n",
       "         1.02305136e-03,   1.01781438e-03,   1.01315303e-03,\n",
       "         1.00659492e-03,   1.00108926e-03,   9.92404406e-04,\n",
       "         9.87068457e-04,   9.81159375e-04,   9.78826494e-04,\n",
       "         9.75850661e-04,   9.65571559e-04,   9.64115756e-04,\n",
       "         9.60092511e-04,   9.54422673e-04,   9.50583886e-04,\n",
       "         9.38091129e-04,   9.36170912e-04,   9.30319637e-04,\n",
       "         9.23025578e-04,   9.13359388e-04,   9.12329273e-04,\n",
       "         9.02763490e-04,   8.98173470e-04,   8.93916174e-04,\n",
       "         8.91184167e-04,   8.83879940e-04,   8.81563360e-04,\n",
       "         8.72921540e-04,   8.71848175e-04,   8.61356728e-04,\n",
       "         8.59726440e-04,   8.56704637e-04,   8.44520873e-04,\n",
       "         8.42251911e-04,   8.40554462e-04,   8.35028169e-04,\n",
       "         8.32581162e-04,   8.27447934e-04,   8.21734336e-04,\n",
       "         8.17301690e-04,   8.16381500e-04,   8.13142327e-04,\n",
       "         8.08766019e-04,   8.05479173e-04,   7.98400582e-04,\n",
       "         7.89722766e-04,   7.86074794e-04,   7.83363319e-04,\n",
       "         7.80207281e-04,   7.73867844e-04,   7.72712935e-04,\n",
       "         7.69534135e-04,   7.66384095e-04,   7.57390240e-04,\n",
       "         7.53228384e-04,   7.52180497e-04,   7.49302448e-04,\n",
       "         7.42449805e-04,   7.35938452e-04,   7.33270407e-04,\n",
       "         7.28249375e-04,   7.25531191e-04,   7.22319018e-04,\n",
       "         7.18679806e-04,   7.14524176e-04,   7.12656327e-04,\n",
       "         7.07749370e-04,   7.06142506e-04,   6.95780610e-04,\n",
       "         6.93296343e-04,   6.90464925e-04,   6.89871767e-04,\n",
       "         6.86485717e-04,   6.81901569e-04,   6.80172205e-04,\n",
       "         6.75156789e-04,   6.74084224e-04,   6.68934551e-04,\n",
       "         6.66209842e-04,   6.62912019e-04,   6.59724212e-04,\n",
       "         6.53675215e-04,   6.46715802e-04,   6.45949326e-04,\n",
       "         6.40636584e-04,   6.34982258e-04,   6.32768476e-04,\n",
       "         6.30798755e-04,   6.26439075e-04,   6.23553118e-04,\n",
       "         6.21656745e-04,   6.18444707e-04,   6.13943289e-04,\n",
       "         6.11950269e-04,   6.07171984e-04,   6.05524767e-04,\n",
       "         6.02071768e-04,   5.96578089e-04,   5.93008064e-04,\n",
       "         5.87567783e-04,   5.86190515e-04,   5.81956080e-04,\n",
       "         5.79134739e-04,   5.74663177e-04,   5.71664833e-04,\n",
       "         5.67983546e-04,   5.65833865e-04,   5.59736266e-04,\n",
       "         5.59163739e-04,   5.55718121e-04,   5.53206192e-04,\n",
       "         5.50957102e-04,   5.47233773e-04,   5.44753413e-04,\n",
       "         5.41505826e-04,   5.36779555e-04,   5.33697733e-04,\n",
       "         5.32838111e-04,   5.27030109e-04,   5.25737898e-04,\n",
       "         5.23673864e-04,   5.20110051e-04,   5.19411458e-04,\n",
       "         5.16275302e-04,   5.11221841e-04,   5.07858994e-04,\n",
       "         5.05507554e-04,   5.04224742e-04,   5.02703065e-04,\n",
       "         4.99407938e-04,   4.96347120e-04,   4.90462245e-04,\n",
       "         4.88148330e-04,   4.86267988e-04,   4.83020385e-04,\n",
       "         4.81513923e-04,   4.77886394e-04,   4.74171832e-04,\n",
       "         4.70095580e-04,   4.69345652e-04,   4.68457939e-04,\n",
       "         4.64701084e-04,   4.59814388e-04,   4.59238052e-04,\n",
       "         4.57406403e-04,   4.53653902e-04,   4.50076168e-04,\n",
       "         4.49388768e-04,   4.45513161e-04,   4.40616572e-04,\n",
       "         4.39252539e-04,   4.37527857e-04,   4.34882389e-04,\n",
       "         4.31367513e-04,   4.27930728e-04,   4.26288522e-04,\n",
       "         4.23951928e-04,   4.21381838e-04,   4.19587070e-04,\n",
       "         4.17766571e-04,   4.16794315e-04,   4.13571368e-04,\n",
       "         4.11115833e-04,   4.09249940e-04,   4.04445994e-04,\n",
       "         4.02942010e-04,   3.99177894e-04,   3.96668689e-04,\n",
       "         3.95681324e-04,   3.93413509e-04,   3.90024385e-04,\n",
       "         3.88054255e-04,   3.86284827e-04,   3.84571729e-04,\n",
       "         3.81513375e-04,   3.79847868e-04,   3.78398858e-04,\n",
       "         3.77210729e-04,   3.72681692e-04,   3.70418915e-04,\n",
       "         3.67815105e-04,   3.65889324e-04,   3.64778732e-04,\n",
       "         3.61396970e-04,   3.58057112e-04,   3.55035495e-04,\n",
       "         3.52421299e-04,   3.50556048e-04,   3.49273173e-04,\n",
       "         3.48259498e-04,   3.42843363e-04,   3.39983417e-04,\n",
       "         3.39627746e-04,   3.37819126e-04,   3.36160734e-04,\n",
       "         3.34026866e-04,   3.32930222e-04,   3.31032389e-04,\n",
       "         3.27844915e-04,   3.26845455e-04,   3.24327538e-04,\n",
       "         3.23372176e-04,   3.19680945e-04,   3.17831987e-04,\n",
       "         3.15601662e-04,   3.13000665e-04,   3.12068957e-04,\n",
       "         3.10443515e-04,   3.08771655e-04,   3.08318223e-04,\n",
       "         3.03844577e-04,   3.01019497e-04,   3.00350493e-04,\n",
       "         2.96174693e-04,   2.95481693e-04,   2.94301330e-04,\n",
       "         2.91396666e-04,   2.90841271e-04,   2.89160342e-04,\n",
       "         2.88391350e-04,   2.87235094e-04,   2.84549492e-04,\n",
       "         2.82011906e-04,   2.80321771e-04,   2.77186609e-04,\n",
       "         2.75676580e-04,   2.74780526e-04,   2.73059171e-04,\n",
       "         2.71143661e-04,   2.69342204e-04,   2.68146766e-04,\n",
       "         2.66405449e-04,   2.63314144e-04,   2.61842976e-04,\n",
       "         2.60999323e-04,   2.59082318e-04,   2.58238431e-04,\n",
       "         2.56274725e-04,   2.54519879e-04,   2.54014285e-04,\n",
       "         2.52233829e-04,   2.48768229e-04,   2.47949098e-04,\n",
       "         2.44846400e-04,   2.43909253e-04,   2.42890345e-04,\n",
       "         2.41677041e-04,   2.40294975e-04,   2.37716736e-04,\n",
       "         2.35968210e-04,   2.34672067e-04,   2.34226207e-04,\n",
       "         2.31294464e-04,   2.29760390e-04,   2.28216420e-04,\n",
       "         2.27061648e-04,   2.26044364e-04,   2.24624659e-04,\n",
       "         2.20540237e-04,   2.19554067e-04,   2.18856627e-04,\n",
       "         2.16214474e-04,   2.15516090e-04,   2.14361519e-04,\n",
       "         2.13731947e-04,   2.10463100e-04,   2.08387374e-04,\n",
       "         2.07410737e-04,   2.06689496e-04,   2.04759294e-04,\n",
       "         2.03090769e-04,   2.01590860e-04,   1.99483229e-04,\n",
       "         1.98746112e-04,   1.97457030e-04,   1.96951536e-04,\n",
       "         1.96221973e-04,   1.93875622e-04,   1.91951617e-04,\n",
       "         1.91734698e-04,   1.90343085e-04,   1.88443163e-04,\n",
       "         1.87410498e-04,   1.86016153e-04,   1.83736971e-04,\n",
       "         1.82816462e-04,   1.81317597e-04,   1.79612597e-04,\n",
       "         1.78947794e-04,   1.77873226e-04,   1.75479411e-04,\n",
       "         1.74507773e-04,   1.73800211e-04,   1.73061492e-04,\n",
       "         1.71818973e-04,   1.70661594e-04,   1.69340881e-04,\n",
       "         1.68295899e-04,   1.67541285e-04,   1.65632221e-04,\n",
       "         1.63440499e-04,   1.61551860e-04,   1.60452838e-04,\n",
       "         1.58325939e-04,   1.56842000e-04,   1.56603578e-04,\n",
       "         1.55773747e-04,   1.54263094e-04,   1.51860206e-04,\n",
       "         1.51220534e-04,   1.50409848e-04,   1.48175919e-04,\n",
       "         1.46973006e-04,   1.46224090e-04,   1.45392739e-04,\n",
       "         1.45218066e-04,   1.42977088e-04,   1.41936605e-04,\n",
       "         1.41405457e-04,   1.39588566e-04,   1.37929357e-04,\n",
       "         1.37070556e-04,   1.36570981e-04,   1.35612432e-04,\n",
       "         1.35231134e-04,   1.33870051e-04,   1.32711578e-04,\n",
       "         1.32074578e-04,   1.30635803e-04,   1.29275820e-04,\n",
       "         1.28332490e-04,   1.27198955e-04,   1.26234229e-04,\n",
       "         1.24224606e-04,   1.22900610e-04,   1.22366100e-04,\n",
       "         1.20688869e-04,   1.19937191e-04,   1.18431400e-04,\n",
       "         1.17048991e-04,   1.15888591e-04,   1.15172904e-04,\n",
       "         1.14391630e-04,   1.13647649e-04,   1.12766046e-04,\n",
       "         1.12592918e-04,   1.11923871e-04,   1.10616824e-04,\n",
       "         1.08928532e-04,   1.08391271e-04,   1.07540463e-04,\n",
       "         1.06428829e-04,   1.05264328e-04,   1.04725074e-04,\n",
       "         1.03309358e-04,   1.02963012e-04,   1.01634510e-04,\n",
       "         1.00987538e-04,   9.97806525e-05,   9.85081910e-05,\n",
       "         9.79750238e-05,   9.68643716e-05,   9.58427493e-05,\n",
       "         9.55418415e-05,   9.42581620e-05,   9.32849325e-05,\n",
       "         9.21818573e-05,   9.16353804e-05,   9.08882939e-05,\n",
       "         9.02847077e-05,   8.92969114e-05,   8.84801479e-05,\n",
       "         8.74644331e-05,   8.64910112e-05,   8.62312455e-05,\n",
       "         8.41540307e-05,   8.32465158e-05,   8.30168841e-05,\n",
       "         8.22953541e-05,   8.15118725e-05,   8.02672658e-05,\n",
       "         7.97095427e-05,   7.92805624e-05,   7.86185339e-05,\n",
       "         7.66798358e-05,   7.63495593e-05,   7.59319049e-05,\n",
       "         7.49627155e-05,   7.39625078e-05,   7.38475721e-05,\n",
       "         7.24995537e-05,   7.21350438e-05,   7.10810126e-05,\n",
       "         7.02402793e-05,   6.96991464e-05,   6.88864712e-05,\n",
       "         6.79982731e-05,   6.73025721e-05,   6.66975418e-05,\n",
       "         6.53985951e-05,   6.49901536e-05,   6.41850651e-05,\n",
       "         6.32032901e-05,   6.29877811e-05,   6.23138831e-05,\n",
       "         6.11490368e-05,   6.01767614e-05,   5.97273662e-05,\n",
       "         5.88818320e-05,   5.81960095e-05,   5.78642519e-05,\n",
       "         5.73228570e-05,   5.70649465e-05,   5.62336081e-05,\n",
       "         5.60286729e-05,   5.43703371e-05,   5.39674073e-05,\n",
       "         5.39189319e-05,   5.26682586e-05,   5.21363526e-05,\n",
       "         5.12505640e-05,   5.07598925e-05,   5.01910579e-05,\n",
       "         4.96141277e-05,   4.90209131e-05,   4.80471074e-05,\n",
       "         4.75993920e-05,   4.66007270e-05,   4.64460785e-05,\n",
       "         4.57134639e-05,   4.49032725e-05,   4.44727182e-05,\n",
       "         4.43323572e-05,   4.39382958e-05,   4.32291508e-05,\n",
       "         4.28746857e-05,   4.22671629e-05,   4.18516019e-05,\n",
       "         4.09599403e-05,   4.06653208e-05,   4.00423915e-05,\n",
       "         3.91793139e-05,   3.86339027e-05,   3.80109878e-05,\n",
       "         3.75189798e-05,   3.69562341e-05,   3.67779144e-05,\n",
       "         3.64390104e-05,   3.57423798e-05,   3.48592347e-05,\n",
       "         3.42195567e-05,   3.34824860e-05,   3.30766704e-05,\n",
       "         3.26074260e-05,   3.20260306e-05,   3.14697917e-05,\n",
       "         3.11446269e-05,   3.09943078e-05,   2.99422350e-05,\n",
       "         2.98628451e-05,   2.92303541e-05,   2.88058406e-05,\n",
       "         2.84794374e-05,   2.81813640e-05,   2.72110777e-05,\n",
       "         2.60303940e-05,   2.59021345e-05,   2.53590670e-05,\n",
       "         2.50678427e-05,   2.49672294e-05,   2.44121667e-05,\n",
       "         2.37912976e-05,   2.33919178e-05,   2.28840664e-05,\n",
       "         2.23300362e-05,   2.20394765e-05,   2.18573689e-05,\n",
       "         2.14023686e-05,   2.12424464e-05,   2.10600162e-05,\n",
       "         2.06021407e-05,   2.02863728e-05,   1.99670417e-05,\n",
       "         1.95923864e-05,   1.91173112e-05,   1.89933941e-05,\n",
       "         1.84499375e-05,   1.82771212e-05,   1.77492252e-05,\n",
       "         1.71521526e-05,   1.66877957e-05,   1.64274530e-05,\n",
       "         1.61146724e-05,   1.57055807e-05,   1.53321589e-05,\n",
       "         1.49671921e-05,   1.48012636e-05,   1.45597320e-05,\n",
       "         1.40023140e-05,   1.36782137e-05,   1.35006184e-05,\n",
       "         1.29807387e-05,   1.25306348e-05,   1.19938284e-05,\n",
       "         1.18811658e-05,   1.17803498e-05,   1.11047111e-05,\n",
       "         1.08339353e-05,   1.04699624e-05,   1.03802169e-05,\n",
       "         9.83030118e-06,   9.63805615e-06,   9.38062109e-06,\n",
       "         8.98941629e-06,   8.37265741e-06,   8.26853660e-06,\n",
       "         8.11408849e-06,   8.04018123e-06,   7.85490303e-06,\n",
       "         7.02773634e-06,   6.76588636e-06,   6.43433803e-06,\n",
       "         6.18793444e-06,   6.10335503e-06,   5.46386369e-06,\n",
       "         5.36919803e-06,   4.94544647e-06,   4.70384304e-06,\n",
       "         4.69792584e-06,   4.34080587e-06,   3.99657497e-06,\n",
       "         3.92134614e-06,   3.82133873e-06,   3.49060076e-06,\n",
       "         3.16419825e-06,   3.03344994e-06,   2.68810254e-06,\n",
       "         2.51495280e-06,   2.29787695e-06,   1.90144396e-06,\n",
       "         1.83944034e-06,   1.78111116e-06,   1.75167498e-06,\n",
       "         1.40800840e-06,   1.29941420e-06,   1.26499225e-06,\n",
       "         9.93304746e-07,   9.14190666e-07,   8.06615001e-07,\n",
       "         7.35841063e-07,   6.82929348e-07,   6.48306620e-07,\n",
       "         5.43145210e-07,   4.80067967e-07,   4.71439726e-07,\n",
       "         4.31123210e-07,   3.70418748e-07,   3.56724087e-07,\n",
       "         2.97031069e-07,   2.25066283e-07,   1.08854993e-07,\n",
       "         4.24465508e-08,   2.84484984e-08,   1.44436787e-09,\n",
       "         7.34250696e-12,   1.68567014e-24,   8.85830461e-33,\n",
       "         2.09764090e-34,   1.82206002e-34,   1.82206002e-34,\n",
       "         1.82206002e-34,   1.82206002e-34,   1.82206002e-34,\n",
       "         1.82206002e-34,   1.82206002e-34,   1.82206002e-34,\n",
       "         1.82206002e-34,   1.82206002e-34,   1.82206002e-34])"
      ]
     },
     "execution_count": 34,
     "metadata": {},
     "output_type": "execute_result"
    }
   ],
   "source": [
    "pca.explained_variance_ratio_"
   ]
  },
  {
   "cell_type": "code",
   "execution_count": 40,
   "metadata": {},
   "outputs": [],
   "source": [
    "diff = get_angle(x_rnd)"
   ]
  },
  {
   "cell_type": "code",
   "execution_count": 41,
   "metadata": {
    "scrolled": true
   },
   "outputs": [
    {
     "data": {
      "text/plain": [
       "(array([  1.00000000e+01,   3.40000000e+01,   1.54000000e+02,\n",
       "          4.34000000e+02,   9.34000000e+02,   2.18400000e+03,\n",
       "          4.41600000e+03,   8.16200000e+03,   1.28100000e+04,\n",
       "          1.93800000e+04,   2.75140000e+04,   3.72280000e+04,\n",
       "          4.81060000e+04,   5.80900000e+04,   6.89900000e+04,\n",
       "          7.74920000e+04,   8.40260000e+04,   8.77160000e+04,\n",
       "          8.75760000e+04,   8.39100000e+04,   7.56020000e+04,\n",
       "          6.48960000e+04,   5.31800000e+04,   4.03440000e+04,\n",
       "          2.69860000e+04,   1.64840000e+04,   8.31400000e+03,\n",
       "          3.14200000e+03,   7.88000000e+02,   9.80000000e+01]),\n",
       " array([ 0.94549228,  0.94703583,  0.94857938,  0.95012293,  0.95166648,\n",
       "         0.95321002,  0.95475357,  0.95629712,  0.95784067,  0.95938422,\n",
       "         0.96092777,  0.96247131,  0.96401486,  0.96555841,  0.96710196,\n",
       "         0.96864551,  0.97018906,  0.97173261,  0.97327615,  0.9748197 ,\n",
       "         0.97636325,  0.9779068 ,  0.97945035,  0.9809939 ,  0.98253744,\n",
       "         0.98408099,  0.98562454,  0.98716809,  0.98871164,  0.99025519,\n",
       "         0.99179873]),\n",
       " <a list of 30 Patch objects>)"
      ]
     },
     "execution_count": 41,
     "metadata": {},
     "output_type": "execute_result"
    },
    {
     "data": {
      "image/png": "[encoded data removed]",
      "text/plain": [
       "<matplotlib.figure.Figure at 0x7f7cd1378208>"
      ]
     },
     "metadata": {},
     "output_type": "display_data"
    }
   ],
   "source": [
    "plt.hist(diff, bins=30)"
   ]
  },
  {
   "cell_type": "code",
   "execution_count": 72,
   "metadata": {},
   "outputs": [
    {
     "data": {
      "text/plain": [
       "(array([   1.,    0.,    2.,    1.,   16.,   25.,   25.,   43.,   76.,\n",
       "          57.,   84.,   86.,  107.,   86.,   80.,   73.,   70.,   41.,\n",
       "          37.,   27.,   25.,   18.,    8.,    5.,    5.,    1.,    0.,\n",
       "           0.,    0.,    1.]),\n",
       " array([ 5.26082474,  5.27356707,  5.28630939,  5.29905171,  5.31179404,\n",
       "         5.32453636,  5.33727868,  5.350021  ,  5.36276333,  5.37550565,\n",
       "         5.38824797,  5.4009903 ,  5.41373262,  5.42647494,  5.43921727,\n",
       "         5.45195959,  5.46470191,  5.47744424,  5.49018656,  5.50292888,\n",
       "         5.51567121,  5.52841353,  5.54115585,  5.55389817,  5.5666405 ,\n",
       "         5.57938282,  5.59212514,  5.60486747,  5.61760979,  5.63035211,\n",
       "         5.64309444]),\n",
       " <a list of 30 Patch objects>)"
      ]
     },
     "execution_count": 72,
     "metadata": {},
     "output_type": "execute_result"
    },
    {
     "data": {
      "image/png": "[encoded data removed]",
      "text/plain": [
       "<matplotlib.figure.Figure at 0x7f7c37f5f4a8>"
      ]
     },
     "metadata": {},
     "output_type": "display_data"
    }
   ],
   "source": [
    "pca = PCA(n_components=700)\n",
    "x_flat = x_rnd.reshape((-1, 784))\n",
    "pca.fit(x_flat - np.mean(x_flat, axis=0))\n",
    "\n",
    "proj_matrix = np.dot(pca.components_.T, pca.components_)\n",
    "x_tran = np.dot(x_flat, proj_matrix)\n",
    "plt.hist(np.linalg.norm(x_tran - x_s.reshape(1, 784), axis=1), bins=30)"
   ]
  },
  {
   "cell_type": "code",
   "execution_count": 73,
   "metadata": {},
   "outputs": [
    {
     "name": "stdout",
     "output_type": "stream",
     "text": [
      "Distance from original sample to hyperplane: 2.85569899993\n"
     ]
    }
   ],
   "source": [
    "x_s_proj = np.dot(x_s.reshape(1, 784), proj_matrix)\n",
    "print(\"Distance from original sample to hyperplane:\", np.linalg.norm(x_s_proj - x_s.reshape(1, 784), axis=1)[0])"
   ]
  },
  {
   "cell_type": "code",
   "execution_count": 74,
   "metadata": {},
   "outputs": [
    {
     "data": {
      "image/png": "[encoded data removed]",
      "text/plain": [
       "<matplotlib.figure.Figure at 0x7f7c39ed2f60>"
      ]
     },
     "metadata": {},
     "output_type": "display_data"
    },
    {
     "data": {
      "image/png": "[encoded data removed]",
      "text/plain": [
       "<matplotlib.figure.Figure at 0x7f7c37824358>"
      ]
     },
     "metadata": {},
     "output_type": "display_data"
    },
    {
     "data": {
      "image/png": "[encoded data removed]",
      "text/plain": [
       "<matplotlib.figure.Figure at 0x7f7c37715f60>"
      ]
     },
     "metadata": {},
     "output_type": "display_data"
    },
    {
     "data": {
      "image/png": "[encoded data removed]",
      "text/plain": [
       "<matplotlib.figure.Figure at 0x7f7c376c66a0>"
      ]
     },
     "metadata": {},
     "output_type": "display_data"
    },
    {
     "data": {
      "image/png": "[encoded data removed]",
      "text/plain": [
       "<matplotlib.figure.Figure at 0x7f7c37669c50>"
      ]
     },
     "metadata": {},
     "output_type": "display_data"
    },
    {
     "data": {
      "image/png": "[encoded data removed]",
      "text/plain": [
       "<matplotlib.figure.Figure at 0x7f7c3743dac8>"
      ]
     },
     "metadata": {},
     "output_type": "display_data"
    },
    {
     "data": {
      "image/png": "[encoded data removed]",
      "text/plain": [
       "<matplotlib.figure.Figure at 0x7f7c37368710>"
      ]
     },
     "metadata": {},
     "output_type": "display_data"
    },
    {
     "data": {
      "image/png": "[encoded data removed]",
      "text/plain": [
       "<matplotlib.figure.Figure at 0x7f7c372ad7f0>"
      ]
     },
     "metadata": {},
     "output_type": "display_data"
    },
    {
     "data": {
      "image/png": "[encoded data removed]",
      "text/plain": [
       "<matplotlib.figure.Figure at 0x7f7c372323c8>"
      ]
     },
     "metadata": {},
     "output_type": "display_data"
    },
    {
     "data": {
      "image/png": "[encoded data removed]",
      "text/plain": [
       "<matplotlib.figure.Figure at 0x7f7c372adc18>"
      ]
     },
     "metadata": {},
     "output_type": "display_data"
    }
   ],
   "source": [
    "for j in range(10):\n",
    "    f, (ax1, ax2) = plt.subplots(1, 2)\n",
    "    ax1.imshow(x_rnd[j].reshape(28, 28), cmap='gray')\n",
    "    ax2.imshow(x_tran[j].reshape(28, 28), cmap='gray')\n",
    "    plt.show()"
   ]
  },
  {
   "cell_type": "code",
   "execution_count": 46,
   "metadata": {
    "scrolled": true
   },
   "outputs": [
    {
     "data": {
      "text/plain": [
       "(array([  2.80000000e+01,   1.26000000e+02,   4.82000000e+02,\n",
       "          1.25800000e+03,   3.04000000e+03,   6.10200000e+03,\n",
       "          1.04100000e+04,   1.69040000e+04,   2.51300000e+04,\n",
       "          3.52900000e+04,   4.60740000e+04,   5.71440000e+04,\n",
       "          6.78820000e+04,   7.84200000e+04,   8.58160000e+04,\n",
       "          8.97600000e+04,   8.92520000e+04,   8.53640000e+04,\n",
       "          7.72740000e+04,   6.61160000e+04,   5.39560000e+04,\n",
       "          4.01880000e+04,   2.82560000e+04,   1.74960000e+04,\n",
       "          1.02100000e+04,   4.62800000e+03,   1.68600000e+03,\n",
       "          5.70000000e+02,   1.22000000e+02,   1.60000000e+01]),\n",
       " array([ 1.2153509 ,  1.27930018,  1.34324947,  1.40719875,  1.47114804,\n",
       "         1.53509732,  1.59904661,  1.66299589,  1.72694518,  1.79089446,\n",
       "         1.85484375,  1.91879303,  1.98274232,  2.0466916 ,  2.11064089,\n",
       "         2.17459017,  2.23853946,  2.30248874,  2.36643803,  2.43038732,\n",
       "         2.4943366 ,  2.55828589,  2.62223517,  2.68618446,  2.75013374,\n",
       "         2.81408303,  2.87803231,  2.9419816 ,  3.00593088,  3.06988017,\n",
       "         3.13382945]),\n",
       " <a list of 30 Patch objects>)"
      ]
     },
     "execution_count": 46,
     "metadata": {},
     "output_type": "execute_result"
    },
    {
     "data": {
      "image/png": "[encoded data removed]",
      "text/plain": [
       "<matplotlib.figure.Figure at 0x7f7c39f3dc18>"
      ]
     },
     "metadata": {},
     "output_type": "display_data"
    }
   ],
   "source": [
    "dist = get_dist(x_rnd)\n",
    "plt.hist(dist, bins=30)"
   ]
  },
  {
   "cell_type": "code",
   "execution_count": 57,
   "metadata": {},
   "outputs": [
    {
     "data": {
      "text/plain": [
       "array([ 0.26090621,  0.26090621,  0.26090621,  0.26090621,  0.26090621,\n",
       "        0.26090621,  0.26090621,  0.26090621,  0.26090621,  0.26090621,\n",
       "        0.26090621,  0.26090621,  0.26090621,  0.26090621,  0.26090621,\n",
       "        0.26090621,  0.26090621,  0.26090621,  0.26090621,  0.26090621,\n",
       "        0.26090621,  0.26090621,  0.26090621,  0.26090621,  0.26090621,\n",
       "        0.26090621,  0.26090621,  0.26090621,  0.26090621,  0.26090621,\n",
       "        0.26090621,  0.26090621,  0.26090621,  0.26090621,  0.26090621,\n",
       "        0.26090621,  0.26090621,  0.26090621,  0.26090621,  0.26090621,\n",
       "        0.26090621,  0.26090621,  0.26090621,  0.26090621,  0.26090621,\n",
       "        0.26090621,  0.26090621,  0.26090621,  0.26090621,  0.26090621,\n",
       "        0.26090621,  0.26090621,  0.26090621,  0.26090621,  0.26090621,\n",
       "        0.26090621,  0.26090621,  0.26090621,  0.26090621,  0.26090621,\n",
       "        0.26090621,  0.26090621,  0.26090621,  0.26090621,  0.26090621,\n",
       "        0.26090621,  0.26090621,  0.26090621,  0.26090621,  0.26090621,\n",
       "        0.26090621,  0.26090621,  0.26090621,  0.26090621,  0.26090621,\n",
       "        0.26090621,  0.26090621,  0.26090621,  0.26090621,  0.26090621,\n",
       "        0.26090621,  0.26090621,  0.26090621,  0.26090621,  0.26090621,\n",
       "        0.26090621,  0.26090621,  0.26090621,  0.26090621,  0.26090621,\n",
       "        0.26090621,  0.26090621,  0.26090621,  0.26090621,  0.26090621,\n",
       "        0.26090621,  0.26090621,  0.26090621,  0.26090621,  0.26090621,\n",
       "        0.26090621,  0.26090621,  0.26090621,  0.26090621,  0.26090621,\n",
       "        0.26090621,  0.26090621,  0.26090621,  0.26090621,  0.26090621,\n",
       "        0.26090621,  0.26090621,  0.26090621,  0.26090621,  0.26090621,\n",
       "        0.26090621,  0.26090621,  0.26090621,  0.26090621,  0.26090621,\n",
       "        0.26090621,  0.26090621,  0.26090621,  0.26090621,  0.26090621,\n",
       "        0.26090621,  0.26090621,  0.26090621,  0.26090621,  0.26090621,\n",
       "        0.26090621,  0.26090621,  0.26090621,  0.26090621,  0.26090621,\n",
       "        0.26090621,  0.26090621,  0.26090621,  0.26090621,  0.26090621,\n",
       "        0.26090621,  0.26090621,  0.26090621,  0.26090621,  0.26090621,\n",
       "        0.26090621,  0.26090621,  0.26090621,  0.26090621,  0.26090621,\n",
       "        0.26090621,  0.26090621,  0.26090621,  0.26090621,  0.26090621,\n",
       "        0.26090621,  0.26090621,  0.26090621,  0.26090621,  0.26090621,\n",
       "        0.26090621,  0.26090621,  0.26090621,  0.26090621,  0.26090621,\n",
       "        0.26090621,  0.26090621,  0.26090621,  0.26090621,  0.26090621,\n",
       "        0.26090621,  0.26090621,  0.26090621,  0.26090621,  0.26090621,\n",
       "        0.26090621,  0.26090621,  0.26090621,  0.26090621,  0.26090621,\n",
       "        0.26090621,  0.26090621,  0.26090621,  0.26090621,  0.26090621,\n",
       "        0.26090621,  0.26090621,  0.26090621,  0.26090621,  0.26090621,\n",
       "        0.26090621,  0.26090621,  0.26090621,  0.26090621,  0.26090621,\n",
       "        0.26090621,  0.26090621,  0.26090621,  0.26090621,  0.26090621,\n",
       "        0.26090621,  0.26090621,  0.26090621,  0.26090621,  0.26090621,\n",
       "        0.26090621,  0.26090621,  0.26090621,  0.26090621,  0.26090621,\n",
       "        0.26090621,  0.26090621,  0.26090621,  0.26090621,  0.26090621,\n",
       "        0.26090621,  0.26090621,  0.26090621,  0.26090621,  0.26090621,\n",
       "        0.26090621,  0.26090621,  0.26090621,  0.26090621,  0.26090621,\n",
       "        0.26090621,  0.26090621,  0.26090621,  0.26090621,  0.26090621,\n",
       "        0.26090621,  0.26090621,  0.26090621,  0.26090621,  0.26090621,\n",
       "        0.26090621,  0.26090621,  0.26090621,  0.26090621,  0.26090621,\n",
       "        0.26090621,  0.26090621,  0.26090621,  0.26090621,  0.26090621,\n",
       "        0.26090621,  0.26090621,  0.26090621,  0.26090621,  0.26090621,\n",
       "        0.26090621,  0.26090621,  0.26090621,  0.26090621,  0.26090621,\n",
       "        0.26090621,  0.26090621,  0.26090621,  0.26090621,  0.26090621,\n",
       "        0.26090621,  0.26090621,  0.26090621,  0.26090621,  0.26090621,\n",
       "        0.26090621,  0.26090621,  0.26090621,  0.26090621,  0.26090621,\n",
       "        0.26090621,  0.26090621,  0.26090621,  0.26090621,  0.26090621,\n",
       "        0.26090621,  0.26090621,  0.26090621,  0.26090621,  0.26090621,\n",
       "        0.26090621,  0.26090621,  0.26090621,  0.26090621,  0.26090621,\n",
       "        0.26090621,  0.26090621,  0.26090621,  0.26090621,  0.26090621,\n",
       "        0.26090621,  0.26090621,  0.26090621,  0.26090621,  0.26090621,\n",
       "        0.26090621,  0.26090621,  0.26090621,  0.26090621,  0.26090621,\n",
       "        0.26090621,  0.26090621,  0.26090621,  0.26090621,  0.26090621,\n",
       "        0.26090621,  0.26090621,  0.26090621,  0.26090621,  0.26090621,\n",
       "        0.26090621,  0.26090621,  0.26090621,  0.26090621,  0.26090621,\n",
       "        0.26090621,  0.26090621,  0.26090621,  0.26090621,  0.26090621,\n",
       "        0.26090621,  0.26090621,  0.26090621,  0.26090621,  0.26090621,\n",
       "        0.26090621,  0.26090621,  0.26090621,  0.26090621,  0.26090621,\n",
       "        0.26090621,  0.26090621,  0.26090621,  0.26090621,  0.26090621,\n",
       "        0.26090621,  0.26090621,  0.26090621,  0.26090621,  0.26090621,\n",
       "        0.26090621,  0.26090621,  0.26090621,  0.26090621,  0.26090621,\n",
       "        0.26090621,  0.26090621,  0.26090621,  0.26090621,  0.26090621,\n",
       "        0.26090621,  0.26090621,  0.26090621,  0.26090621,  0.26090621,\n",
       "        0.26090621,  0.26090621,  0.26090621,  0.26090621,  0.26090621,\n",
       "        0.26090621,  0.26090621,  0.26090621,  0.26090621,  0.26090621,\n",
       "        0.26090621,  0.26090621,  0.26090621,  0.26090621,  0.26090621,\n",
       "        0.26090621,  0.26090621,  0.26090621,  0.26090621,  0.26090621,\n",
       "        0.26090621,  0.26090621,  0.26090621,  0.26090621,  0.26090621,\n",
       "        0.26090621,  0.26090621,  0.26090621,  0.26090621,  0.26090621,\n",
       "        0.26090621,  0.26090621,  0.26090621,  0.26090621,  0.26090621,\n",
       "        0.26090621,  0.26090621,  0.26090621,  0.26090621,  0.26090621,\n",
       "        0.26090621,  0.26090621,  0.26090621,  0.26090621,  0.26090621,\n",
       "        0.26090621,  0.26090621,  0.26090621,  0.26090621,  0.26090621,\n",
       "        0.26090621,  0.26090621,  0.26090621,  0.26090621,  0.26090621,\n",
       "        0.26090621,  0.26090621,  0.26090621,  0.26090621,  0.26090621,\n",
       "        0.26090621,  0.26090621,  0.26090621,  0.26090621,  0.26090621,\n",
       "        0.26090621,  0.26090621,  0.26090621,  0.26090621,  0.26090621,\n",
       "        0.26090621,  0.26090621,  0.26090621,  0.26090621,  0.26090621,\n",
       "        0.26090621,  0.26090621,  0.26090621,  0.26090621,  0.26090621,\n",
       "        0.26090621,  0.26090621,  0.26090621,  0.26090621,  0.26090621,\n",
       "        0.26090621,  0.26090621,  0.26090621,  0.26090621,  0.26090621,\n",
       "        0.26090621,  0.26090621,  0.26090621,  0.26090621,  0.26090621,\n",
       "        0.26090621,  0.26090621,  0.26090621,  0.26090621,  0.26090621,\n",
       "        0.26090621,  0.26090621,  0.26090621,  0.26090621,  0.26090621,\n",
       "        0.26090621,  0.26090621,  0.26090621,  0.26090621,  0.26090621,\n",
       "        0.26090621,  0.26090621,  0.26090621,  0.26090621,  0.26090621,\n",
       "        0.26090621,  0.26090621,  0.26090621,  0.26090621,  0.26090621,\n",
       "        0.26090621,  0.26090621,  0.26090621,  0.26090621,  0.26090621,\n",
       "        0.26090621,  0.26090621,  0.26090621,  0.26090621,  0.26090621,\n",
       "        0.26090621,  0.26090621,  0.26090621,  0.26090621,  0.26090621,\n",
       "        0.26090621,  0.26090621,  0.26090621,  0.26090621,  0.26090621,\n",
       "        0.26090621,  0.26090621,  0.26090621,  0.26090621,  0.26090621,\n",
       "        0.26090621,  0.26090621,  0.26090621,  0.26090621,  0.26090621,\n",
       "        0.26090621,  0.26090621,  0.26090621,  0.26090621,  0.26090621,\n",
       "        0.26090621,  0.26090621,  0.26090621,  0.26090621,  0.26090621,\n",
       "        0.26090621,  0.26090621,  0.26090621,  0.26090621,  0.26090621,\n",
       "        0.26090621,  0.26090621,  0.26090621,  0.26090621,  0.26090621,\n",
       "        0.26090621,  0.26090621,  0.26090621,  0.26090621,  0.26090621,\n",
       "        0.26090621,  0.26090621,  0.26090621,  0.26090621,  0.26090621,\n",
       "        0.26090621,  0.26090621,  0.26090621,  0.26090621,  0.26090621,\n",
       "        0.26090621,  0.26090621,  0.26090621,  0.26090621,  0.26090621,\n",
       "        0.26090621,  0.26090621,  0.26090621,  0.26090621,  0.26090621,\n",
       "        0.26090621,  0.26090621,  0.26090621,  0.26090621,  0.26090621,\n",
       "        0.26090621,  0.26090621,  0.26090621,  0.26090621,  0.26090621,\n",
       "        0.26090621,  0.26090621,  0.26090621,  0.26090621,  0.26090621,\n",
       "        0.26090621,  0.26090621,  0.26090621,  0.26090621,  0.26090621,\n",
       "        0.26090621,  0.26090621,  0.26090621,  0.26090621,  0.26090621,\n",
       "        0.26090621,  0.26090621,  0.26090621,  0.26090621,  0.26090621,\n",
       "        0.26090621,  0.26090621,  0.26090621,  0.26090621,  0.26090621,\n",
       "        0.26090621,  0.26090621,  0.26090621,  0.26090621,  0.26090621,\n",
       "        0.26090621,  0.26090621,  0.26090621,  0.26090621,  0.26090621,\n",
       "        0.26090621,  0.26090621,  0.26090621,  0.26090621,  0.26090621,\n",
       "        0.26090621,  0.26090621,  0.26090621,  0.26090621,  0.26090621,\n",
       "        0.26090621,  0.26090621,  0.26090621,  0.26090621,  0.26090621,\n",
       "        0.26090621,  0.26090621,  0.26090621,  0.26090621,  0.26090621,\n",
       "        0.26090621,  0.26090621,  0.26090621,  0.26090621,  0.26090621,\n",
       "        0.26090621,  0.26090621,  0.26090621,  0.26090621,  0.26090621,\n",
       "        0.26090621,  0.26090621,  0.26090621,  0.26090621,  0.26090621,\n",
       "        0.26090621,  0.26090621,  0.26090621,  0.26090621,  0.26090621,\n",
       "        0.26090621,  0.26090621,  0.26090621,  0.26090621,  0.26090621,\n",
       "        0.26090621,  0.26090621,  0.26090621,  0.26090621,  0.26090621,\n",
       "        0.26090621,  0.26090621,  0.26090621,  0.26090621,  0.26090621,\n",
       "        0.26090621,  0.26090621,  0.26090621,  0.26090621,  0.26090621,\n",
       "        0.26090621,  0.26090621,  0.26090621,  0.26090621,  0.26090621,\n",
       "        0.26090621,  0.26090621,  0.26090621,  0.26090621,  0.26090621,\n",
       "        0.26090621,  0.26090621,  0.26090621,  0.26090621,  0.26090621,\n",
       "        0.26090621,  0.26090621,  0.26090621,  0.26090621,  0.26090621,\n",
       "        0.26090621,  0.26090621,  0.26090621,  0.26090621,  0.26090621,\n",
       "        0.26090621,  0.26090621,  0.26090621,  0.26090621,  0.26090621,\n",
       "        0.26090621,  0.26090621,  0.26090621,  0.26090621,  0.26090621,\n",
       "        0.26090621,  0.26090621,  0.26090621,  0.26090621,  0.26090621,\n",
       "        0.26090621,  0.26090621,  0.26090621,  0.26090621,  0.26090621,\n",
       "        0.26090621,  0.26090621,  0.26090621,  0.26090621,  0.26090621,\n",
       "        0.26090621,  0.26090621,  0.26090621,  0.26090621,  0.26090621,\n",
       "        0.26090621,  0.26090621,  0.26090621,  0.26090621,  0.26090621,\n",
       "        0.26090621,  0.26090621,  0.26090621,  0.26090621,  0.26090621,\n",
       "        0.26090621,  0.26090621,  0.26090621,  0.26090621,  0.26090621,\n",
       "        0.26090621,  0.26090621,  0.26090621,  0.26090621,  0.26090621,\n",
       "        0.26090621,  0.26090621,  0.26090621,  0.26090621,  0.26090621,\n",
       "        0.26090621,  0.26090621,  0.26090621,  0.26090621,  0.26090621,\n",
       "        0.26090621,  0.26090621,  0.26090621,  0.26090621,  0.26090621,\n",
       "        0.26090621,  0.26090621,  0.26090621,  0.26090621,  0.26090621,\n",
       "        0.26090621,  0.26090621,  0.26090621,  0.26090621,  0.26090621,\n",
       "        0.26090621,  0.26090621,  0.26090621,  0.26090621,  0.26090621,\n",
       "        0.26090621,  0.26090621,  0.26090621,  0.26090621,  0.26090621,\n",
       "        0.26090621,  0.26090621,  0.26090621,  0.26090621,  0.26090621,\n",
       "        0.26090621,  0.26090621,  0.26090621,  0.26090621,  0.26090621,\n",
       "        0.26090621,  0.26090621,  0.26090621,  0.26090621,  0.26090621,\n",
       "        0.26090621,  0.26090621,  0.26090621,  0.26090621,  0.26090621,\n",
       "        0.26090621,  0.26090621,  0.26090621,  0.26090621,  0.26090621,\n",
       "        0.26090621,  0.26090621,  0.26090621,  0.26090621,  0.26090621,\n",
       "        0.26090621,  0.26090621,  0.26090621,  0.26090621,  0.26090621,\n",
       "        0.26090621,  0.26090621,  0.26090621,  0.26090621,  0.26090621,\n",
       "        0.26090621,  0.26090621,  0.26090621,  0.26090621,  0.26090621,\n",
       "        0.26090621,  0.26090621,  0.26090621,  0.26090621,  0.26090621,\n",
       "        0.26090621,  0.26090621,  0.26090621,  0.26090621,  0.26090621,\n",
       "        0.26090621,  0.26090621,  0.26090621,  0.26090621,  0.26090621,\n",
       "        0.26090621,  0.26090621,  0.26090621,  0.26090621,  0.26090621,\n",
       "        0.26090621,  0.26090621,  0.26090621,  0.26090621,  0.26090621,\n",
       "        0.26090621,  0.26090621,  0.26090621,  0.26090621,  0.26090621,\n",
       "        0.26090621,  0.26090621,  0.26090621,  0.26090621,  0.26090621,\n",
       "        0.26090621,  0.26090621,  0.26090621,  0.26090621,  0.26090621,\n",
       "        0.26090621,  0.26090621,  0.26090621,  0.26090621,  0.26090621,\n",
       "        0.26090621,  0.26090621,  0.26090621,  0.26090621,  0.26090621,\n",
       "        0.26090621,  0.26090621,  0.26090621,  0.26090621,  0.26090621,\n",
       "        0.26090621,  0.26090621,  0.26090621,  0.26090621,  0.26090621,\n",
       "        0.26090621,  0.26090621,  0.26090621,  0.26090621,  0.26090621,\n",
       "        0.26090621,  0.26090621,  0.26090621,  0.26090621,  0.26090621,\n",
       "        0.26090621,  0.26090621,  0.26090621,  0.26090621,  0.26090621,\n",
       "        0.26090621,  0.26090621,  0.26090621,  0.26090621,  0.26090621,\n",
       "        0.26090621,  0.26090621,  0.26090621,  0.26090621,  0.26090621,\n",
       "        0.26090621,  0.26090621,  0.26090621,  0.26090621,  0.26090621,\n",
       "        0.26090621,  0.26090621,  0.26090621,  0.26090621,  0.26090621,\n",
       "        0.26090621,  0.26090621,  0.26090621,  0.26090621,  0.26090621,\n",
       "        0.26090621,  0.26090621,  0.26090621,  0.26090621,  0.26090621,\n",
       "        0.26090621,  0.26090621,  0.26090621,  0.26090621,  0.26090621,\n",
       "        0.26090621,  0.26090621,  0.26090621,  0.26090621,  0.26090621,\n",
       "        0.26090621,  0.26090621,  0.26090621,  0.26090621,  0.26090621,\n",
       "        0.26090621,  0.26090621,  0.26090621,  0.26090621,  0.26090621,\n",
       "        0.26090621,  0.26090621,  0.26090621,  0.26090621,  0.26090621,\n",
       "        0.26090621,  0.26090621,  0.26090621,  0.26090621,  0.26090621,\n",
       "        0.26090621,  0.26090621,  0.26090621,  0.26090621,  0.26090621,\n",
       "        0.26090621,  0.26090621,  0.26090621,  0.26090621,  0.26090621,\n",
       "        0.26090621,  0.26090621,  0.26090621,  0.26090621,  0.26090621,\n",
       "        0.26090621,  0.26090621,  0.26090621,  0.26090621,  0.26090621,\n",
       "        0.26090621,  0.26090621,  0.26090621,  0.26090621,  0.26090621,\n",
       "        0.26090621,  0.26090621,  0.26090621,  0.26090621,  0.26090621,\n",
       "        0.26090621,  0.26090621,  0.26090621,  0.26090621,  0.26090621,\n",
       "        0.26090621,  0.26090621,  0.26090621,  0.26090621,  0.26090621,\n",
       "        0.26090621,  0.26090621,  0.26090621,  0.26090621,  0.26090621,\n",
       "        0.26090621,  0.26090621,  0.26090621,  0.26090621,  0.26090621,\n",
       "        0.26090621,  0.26090621,  0.26090621,  0.26090621,  0.26090621])"
      ]
     },
     "execution_count": 57,
     "metadata": {},
     "output_type": "execute_result"
    }
   ],
   "source": [
    "np.linalg.norm(x_tran - x_flat, axis=1)"
   ]
  },
  {
   "cell_type": "code",
   "execution_count": 58,
   "metadata": {},
   "outputs": [
    {
     "data": {
      "text/plain": [
       "(array([  1.,   0.,   1.,   2.,  12.,  24.,  28.,  38.,  69.,  63.,  74.,\n",
       "         96.,  99.,  88.,  82.,  73.,  73.,  46.,  33.,  34.,  22.,  19.,\n",
       "         11.,   5.,   3.,   3.,   0.,   0.,   0.,   1.]),\n",
       " array([ 4.55675121,  4.57128191,  4.58581261,  4.6003433 ,  4.614874  ,\n",
       "         4.62940469,  4.64393539,  4.65846609,  4.67299678,  4.68752748,\n",
       "         4.70205818,  4.71658887,  4.73111957,  4.74565027,  4.76018096,\n",
       "         4.77471166,  4.78924235,  4.80377305,  4.81830375,  4.83283444,\n",
       "         4.84736514,  4.86189584,  4.87642653,  4.89095723,  4.90548792,\n",
       "         4.92001862,  4.93454932,  4.94908001,  4.96361071,  4.97814141,\n",
       "         4.9926721 ]),\n",
       " <a list of 30 Patch objects>)"
      ]
     },
     "execution_count": 58,
     "metadata": {},
     "output_type": "execute_result"
    },
    {
     "data": {
      "image/png": "[encoded data removed]",
      "text/plain": [
       "<matplotlib.figure.Figure at 0x7f7c396939b0>"
      ]
     },
     "metadata": {},
     "output_type": "display_data"
    }
   ],
   "source": [
    "plt.hist(np.linalg.norm(x_tran - x_s.reshape(1, 784), axis=1), bins=30)"
   ]
  },
  {
   "cell_type": "code",
   "execution_count": 59,
   "metadata": {},
   "outputs": [
    {
     "data": {
      "text/plain": [
       "(array([  1.,   0.,   1.,   2.,  12.,  24.,  28.,  38.,  69.,  63.,  74.,\n",
       "         96.,  99.,  88.,  82.,  73.,  73.,  46.,  33.,  34.,  22.,  19.,\n",
       "         11.,   5.,   3.,   3.,   0.,   0.,   0.,   1.]),\n",
       " array([ 4.55126662,  4.5658133 ,  4.58035998,  4.59490665,  4.60945333,\n",
       "         4.624     ,  4.63854668,  4.65309335,  4.66764003,  4.6821867 ,\n",
       "         4.69673338,  4.71128005,  4.72582673,  4.74037341,  4.75492008,\n",
       "         4.76946676,  4.78401343,  4.79856011,  4.81310678,  4.82765346,\n",
       "         4.84220013,  4.85674681,  4.87129348,  4.88584016,  4.90038684,\n",
       "         4.91493351,  4.92948019,  4.94402686,  4.95857354,  4.97312021,\n",
       "         4.98766689]),\n",
       " <a list of 30 Patch objects>)"
      ]
     },
     "execution_count": 59,
     "metadata": {},
     "output_type": "execute_result"
    },
    {
     "data": {
      "image/png": "[encoded data removed]",
      "text/plain": [
       "<matplotlib.figure.Figure at 0x7f7c39634160>"
      ]
     },
     "metadata": {},
     "output_type": "display_data"
    }
   ],
   "source": [
    "plt.hist(np.linalg.norm(x_rnd.reshape(-1, 784) - x_s.reshape(1, 784), axis=1), bins=30)"
   ]
  },
  {
   "cell_type": "markdown",
   "metadata": {},
   "source": [
    "---"
   ]
  },
  {
   "cell_type": "code",
   "execution_count": 7,
   "metadata": {},
   "outputs": [
    {
     "data": {
      "text/plain": [
       "[<keras.layers.convolutional.Conv2D at 0x7f501b8c9208>,\n",
       " <keras.layers.convolutional.Conv2D at 0x7f501b8c92e8>,\n",
       " <keras.layers.pooling.MaxPooling2D at 0x7f501b8c9320>,\n",
       " <keras.layers.core.Dropout at 0x7f501b823358>,\n",
       " <keras.layers.core.Flatten at 0x7f501b823a20>,\n",
       " <keras.layers.core.Dense at 0x7f501b870550>,\n",
       " <keras.layers.core.Dropout at 0x7f501b823f60>,\n",
       " <keras.layers.core.Dense at 0x7f50191900f0>]"
      ]
     },
     "execution_count": 7,
     "metadata": {},
     "output_type": "execute_result"
    }
   ],
   "source": [
    "model.layers"
   ]
  },
  {
   "cell_type": "code",
   "execution_count": 8,
   "metadata": {},
   "outputs": [],
   "source": [
    "from keras import backend as K\n",
    "\n",
    "# input placeholder\n",
    "inp = model.input \n",
    "# Output of second-to-last layer\n",
    "out = model.layers[5].output\n",
    "# evaluation functions\n",
    "eval_fnc = K.function([inp, K.learning_phase()], [out])"
   ]
  },
  {
   "cell_type": "code",
   "execution_count": 9,
   "metadata": {},
   "outputs": [
    {
     "name": "stdout",
     "output_type": "stream",
     "text": [
      "[array([[ 0.        ,  0.        ,  0.        ,  0.        ,  0.        ,\n",
      "         1.67312407,  3.78914928,  0.        ,  0.        ,  2.56387568,\n",
      "         3.3312068 ,  1.91257739,  0.        ,  1.93400908,  0.        ,\n",
      "         0.        ,  0.        ,  2.8909266 ,  0.        ,  0.        ,\n",
      "         2.35000515,  0.        ,  0.        ,  0.        ,  2.72177529,\n",
      "         2.98210478,  2.29121685,  0.        ,  1.98073077,  0.        ,\n",
      "         0.        ,  0.        ,  0.        ,  0.        ,  1.72890234,\n",
      "         2.23965049,  0.        ,  2.08872056,  1.8678807 ,  0.        ,\n",
      "         0.        ,  1.80429077,  0.        ,  0.        ,  3.66508579,\n",
      "         0.62776995,  1.84535694,  0.        ,  1.8484062 ,  2.83016562,\n",
      "         0.        ,  2.74846768,  0.        ,  0.        ,  3.29759502,\n",
      "         0.        ,  2.26741266,  0.        ,  0.        ,  2.83797765,\n",
      "         0.        ,  3.05007672,  0.        ,  0.        ,  4.9599967 ,\n",
      "         0.        ,  0.        ,  0.        ,  0.        ,  0.        ,\n",
      "         1.98864579,  0.        ,  0.        ,  0.        ,  4.01014948,\n",
      "         1.30056512,  0.        ,  0.47457412,  1.52448714,  0.98641068,\n",
      "         0.67503625,  0.        ,  0.        ,  0.        ,  0.        ,\n",
      "         3.64196491,  0.        ,  0.        ,  0.        ,  0.        ,\n",
      "         4.06869411,  2.85251141,  2.36635399,  1.57643652,  0.        ,\n",
      "         0.        ,  0.        ,  3.87721586,  0.        ,  0.        ,\n",
      "         0.        ,  0.        ,  1.23657393,  0.        ,  0.        ,\n",
      "         2.45127344,  0.60142565,  0.        ,  2.49107146,  1.98082209,\n",
      "         0.        ,  0.        ,  0.        ,  0.        ,  0.        ,\n",
      "         0.25291464,  0.55029267,  0.        ,  0.        ,  0.36773291,\n",
      "         2.58773041,  0.        ,  0.        ,  2.90917754,  1.2683084 ,\n",
      "         0.        ,  3.53153253,  1.20443034]], dtype=float32)]\n"
     ]
    }
   ],
   "source": [
    "# Testing\n",
    "x = x_test[0][np.newaxis, ...]\n",
    "layer_outs = eval_fnc([x, 0])\n",
    "print(layer_outs)"
   ]
  },
  {
   "cell_type": "code",
   "execution_count": 10,
   "metadata": {},
   "outputs": [],
   "source": [
    "n_feat = 128\n",
    "x_nn_train = np.zeros((len(x_train), n_feat))\n",
    "x_nn_test = np.zeros((len(x_test), n_feat))\n",
    "\n",
    "for i, x in enumerate(x_train):\n",
    "    x_in = x[np.newaxis, ...]\n",
    "    layer_outs = eval_fnc([x_in, 0])\n",
    "    x_nn_train[i] = layer_outs[0][0]\n",
    "    \n",
    "for i, x in enumerate(x_test):\n",
    "    x_in = x[np.newaxis, ...]\n",
    "    layer_outs = eval_fnc([x_in, 0])\n",
    "    x_nn_test[i] = layer_outs[0][0]"
   ]
  },
  {
   "cell_type": "code",
   "execution_count": 11,
   "metadata": {},
   "outputs": [
    {
     "data": {
      "text/plain": [
       "SVC(C=1.0, cache_size=200, class_weight=None, coef0=0.0,\n",
       "  decision_function_shape='ovr', degree=3, gamma='auto', kernel='linear',\n",
       "  max_iter=-1, probability=False, random_state=None, shrinking=True,\n",
       "  tol=0.001, verbose=False)"
      ]
     },
     "execution_count": 11,
     "metadata": {},
     "output_type": "execute_result"
    }
   ],
   "source": [
    "from sklearn.svm import SVC\n",
    "\n",
    "clf = SVC(kernel='linear')\n",
    "clf.fit(x_nn_train, np.argmax(y_train, axis=1))"
   ]
  },
  {
   "cell_type": "code",
   "execution_count": 12,
   "metadata": {},
   "outputs": [
    {
     "data": {
      "text/plain": [
       "0.98929999999999996"
      ]
     },
     "execution_count": 12,
     "metadata": {},
     "output_type": "execute_result"
    }
   ],
   "source": [
    "clf.score(x_nn_test, np.argmax(y_test, axis=1))"
   ]
  },
  {
   "cell_type": "code",
   "execution_count": 13,
   "metadata": {},
   "outputs": [],
   "source": [
    "w = clf.coef_\n",
    "b = clf.intercept_"
   ]
  },
  {
   "cell_type": "code",
   "execution_count": 144,
   "metadata": {},
   "outputs": [
    {
     "data": {
      "text/plain": [
       "<keras.layers.core.Dense at 0x7f4ec07a24a8>"
      ]
     },
     "execution_count": 144,
     "metadata": {},
     "output_type": "execute_result"
    }
   ],
   "source": [
    "# Pop last layer out of cnn\n",
    "model.layers.pop()"
   ]
  },
  {
   "cell_type": "code",
   "execution_count": 145,
   "metadata": {},
   "outputs": [
    {
     "name": "stdout",
     "output_type": "stream",
     "text": [
      "_________________________________________________________________\n",
      "Layer (type)                 Output Shape              Param #   \n",
      "=================================================================\n",
      "conv2d_1_input (InputLayer)  (None, 28, 28, 1)         0         \n",
      "_________________________________________________________________\n",
      "conv2d_1 (Conv2D)            (None, 26, 26, 32)        320       \n",
      "_________________________________________________________________\n",
      "conv2d_2 (Conv2D)            (None, 24, 24, 64)        18496     \n",
      "_________________________________________________________________\n",
      "max_pooling2d_1 (MaxPooling2 (None, 12, 12, 64)        0         \n",
      "_________________________________________________________________\n",
      "dropout_1 (Dropout)          (None, 12, 12, 64)        0         \n",
      "_________________________________________________________________\n",
      "flatten_1 (Flatten)          (None, 9216)              0         \n",
      "_________________________________________________________________\n",
      "dense_1 (Dense)              (None, 128)               1179776   \n",
      "_________________________________________________________________\n",
      "dropout_2 (Dropout)          (None, 128)               0         \n",
      "_________________________________________________________________\n",
      "new_layer (Dense)            (None, 1)                 129       \n",
      "=================================================================\n",
      "Total params: 1,198,721\n",
      "Trainable params: 1,198,721\n",
      "Non-trainable params: 0\n",
      "_________________________________________________________________\n"
     ]
    }
   ],
   "source": [
    "from keras import Model\n",
    "\n",
    "new_layer = Dense(1, activation='linear', name='new_layer')\n",
    "\n",
    "inp = model.input\n",
    "out = new_layer(model.layers[-1].output)\n",
    "\n",
    "model2 = Model(inp, out)\n",
    "model2.summary()"
   ]
  },
  {
   "cell_type": "code",
   "execution_count": 146,
   "metadata": {},
   "outputs": [],
   "source": [
    "i = 27\n",
    "model2.layers[-1].set_weights([w[i].reshape((n_feat, 1)), b[i].reshape(1)])"
   ]
  },
  {
   "cell_type": "code",
   "execution_count": 106,
   "metadata": {},
   "outputs": [],
   "source": [
    "# y_sum = np.zeros(10)\n",
    "\n",
    "# for i, x in enumerate(x_test):\n",
    "#     y = model2.predict(x[np.newaxis, ...])[0][0]\n",
    "#     y_sum[np.argmax(y_test[i])] += y"
   ]
  },
  {
   "cell_type": "code",
   "execution_count": 17,
   "metadata": {},
   "outputs": [
    {
     "name": "stdout",
     "output_type": "stream",
     "text": [
      "(1010, 28, 28, 1) (1028, 28, 28, 1)\n"
     ]
    }
   ],
   "source": [
    "x_3 = []\n",
    "x_7 = []\n",
    "\n",
    "for i, x in enumerate(x_test):\n",
    "    if np.argmax(y_test[i]) == 3:\n",
    "        x_3.append(x)\n",
    "    elif np.argmax(y_test[i]) == 7:\n",
    "        x_7.append(x)\n",
    "        \n",
    "x_3 = np.array(x_3)\n",
    "x_7 = np.array(x_7)\n",
    "print(x_3.shape, x_7.shape)"
   ]
  },
  {
   "cell_type": "code",
   "execution_count": 143,
   "metadata": {},
   "outputs": [],
   "source": [
    "def custom_grad_fn(model):\n",
    "    \"\"\"Return gradient function of model's loss w.r.t. input\"\"\"\n",
    "\n",
    "#     x_in = K.placeholder(dtype=tf.float32, shape=INPUT_SHAPE)\n",
    "#     y_true = K.placeholder(shape=(OUTPUT_DIM, ))\n",
    "#     loss = K.categorical_crossentropy(y_true, model(x_in)[0], from_logits=False)\n",
    "#     grad = K.gradients(loss, x_in)\n",
    "\n",
    "#     return K.function([x_in, y_true, K.learning_phase()], grad)\n",
    "   \n",
    "    y_true = K.placeholder(shape=(OUTPUT_DIM, ))\n",
    "    loss = K.categorical_crossentropy(y_true, model.output, from_logits=False)\n",
    "    grad = K.gradients(loss, model.input)\n",
    "\n",
    "    return K.function([model.input, y_true, K.learning_phase()], grad)\n",
    "\n",
    "\n",
    "def custom_grad_fn2(model):\n",
    "    \"\"\"Return gradient function of model's loss w.r.t. input\"\"\"\n",
    "\n",
    "    y_true = K.placeholder(shape=(1, ))\n",
    "    # mean_absolute_error\n",
    "    # mean_squared_error\n",
    "    # hinge\n",
    "    # binary_crossentropy\n",
    "    loss = keras.losses.mean_absolute_error(y_true, model.output)\n",
    "    grad = K.gradients(loss, model.input)\n",
    "\n",
    "    return K.function([model.input, y_true, K.learning_phase()], grad)\n",
    "\n",
    "\n",
    "def test_s_pgd(model, x, y, norm=\"2\", n_step=40, step_size=0.01, target=True,\n",
    "          mask=None, beta=0.1, early_stop=True, grad_fn=None):\n",
    "    \"\"\"\n",
    "    Projected gradient descent with added randomness during each step\n",
    "    \"\"\"\n",
    "\n",
    "    x_adv = np.zeros_like(x)\n",
    "    if grad_fn is None:\n",
    "        grad_fn = gradient_fn(model)\n",
    "    start_time = time.time()\n",
    "\n",
    "    for i, x_in in enumerate(x):\n",
    "\n",
    "        x_cur = np.copy(x_in)\n",
    "        # Get mask with the same shape as gradient\n",
    "        if mask is not None:\n",
    "            mask_rep = np.repeat(mask[i, :, :, np.newaxis], N_CHANNEL, axis=2)\n",
    "\n",
    "        # Start update in steps\n",
    "        for _ in range(n_step):\n",
    "\n",
    "            # Get gradient\n",
    "            if target is not None:\n",
    "                grad = -1 * gradient_input(grad_fn, x_cur, y[i])\n",
    "            else:\n",
    "                grad = gradient_input(grad_fn, x_cur, y[i])\n",
    "\n",
    "            # Get uniformly random direction\n",
    "            h, w, c = x_cur.shape\n",
    "            epsilon = np.random.rand(h, w, c) - 0.5\n",
    "\n",
    "            if norm == \"2\":\n",
    "                try:\n",
    "                    grad /= np.linalg.norm(grad)\n",
    "                    epsilon /= np.linalg.norm(epsilon)\n",
    "                except ZeroDivisionError:\n",
    "                    raise\n",
    "            elif norm == \"inf\":\n",
    "                grad = np.sign(grad)\n",
    "                epsilon = np.sign(epsilon)\n",
    "            else:\n",
    "                raise ValueError(\"Invalid norm!\")\n",
    "\n",
    "            # Apply mask\n",
    "            if mask is not None:\n",
    "                grad *= mask_rep\n",
    "                epsilon += mask_rep\n",
    "\n",
    "            x_cur += (grad * step_size + beta * epsilon * step_size)\n",
    "            # Clip to stay in range [0, 1]\n",
    "            x_cur = np.clip(x_cur, 0, 1)\n",
    "\n",
    "            if early_stop:\n",
    "                # Stop when sample becomes adversarial\n",
    "                if model.predict(x_cur[np.newaxis, ...])[0][0] < 0:\n",
    "                    break\n",
    "\n",
    "        x_adv[i] = x_cur\n",
    "\n",
    "        # Progress printing\n",
    "        if (i % 200 == 0) and (i > 0):\n",
    "            elasped_time = time.time() - start_time\n",
    "            print(\"Finished {} samples in {:.2f}s.\".format(i, elasped_time))\n",
    "            start_time = time.time()\n",
    "\n",
    "    return x_adv\n",
    "\n",
    "\n",
    "def test_fg(model, x, y, mag_list, target=True, mask=None):\n",
    "    \"\"\"\n",
    "    Fast Gradient attack. Similar to iterative attack but only takes one step\n",
    "    and then clip result afterward.\n",
    "\n",
    "    Parameters\n",
    "    ----------\n",
    "    model    : Keras Model\n",
    "               Model to attack\n",
    "    x        : np.array, shape=(n_sample, height, width, n_channel)\n",
    "               Benign samples to attack\n",
    "    y        : np.array, shape=(n_sample, NUM_LABELS)\n",
    "               Target label for each of the sample in x if target is True.\n",
    "               Otherwise, corresponding labels of x. Must be one-hot encoded.\n",
    "    mag_list : list of float\n",
    "               List of perturbation magnitude to use in the attack\n",
    "    target   : (optional) bool\n",
    "               True, if targeted attack. False, otherwise.\n",
    "    mask     : (optional) np.array of 0 or 1, shape=(n_sample, height, width)\n",
    "               Mask to restrict gradient update on valid pixels\n",
    "\n",
    "    Return\n",
    "    ------\n",
    "    x_adv    : np.array, shape=(n_mag, n_sample, height, width, n_channel)\n",
    "               Adversarial examples\n",
    "    \"\"\"\n",
    "\n",
    "    x_adv = np.zeros((len(mag_list), ) + x.shape, dtype=np.float32)\n",
    "    grad_fn = custom_gradient_fn2(model)\n",
    "    start_time = time.time()\n",
    "\n",
    "    for i, x_in in enumerate(x):\n",
    "\n",
    "        # Retrieve gradient\n",
    "        if target:\n",
    "            grad = -1 * gradient_input(grad_fn, x_in, y[i])\n",
    "        else:\n",
    "            grad = gradient_input(grad_fn, x_in, y[i])\n",
    "        print(np.linalg.norm(grad))\n",
    "\n",
    "        # Apply mask\n",
    "        if mask is not None:\n",
    "            mask_rep = np.repeat(mask[i, :, :, np.newaxis], N_CHANNEL, axis=2)\n",
    "            grad *= mask_rep\n",
    "\n",
    "        # Normalize gradient\n",
    "        try:\n",
    "            grad /= np.linalg.norm(grad)\n",
    "        except ZeroDivisionError:\n",
    "            raise\n",
    "\n",
    "        for j, mag in enumerate(mag_list):\n",
    "            x_adv[j, i] = x_in + grad * mag\n",
    "\n",
    "        # Progress printing\n",
    "        if (i % 1000 == 0) and (i > 0):\n",
    "            elasped_time = time.time() - start_time\n",
    "            print(\"Finished {} samples in {:.2f}s.\".format(i, elasped_time))\n",
    "            start_time = time.time()\n",
    "\n",
    "    # Clip adversarial examples to stay in range [0, 1]\n",
    "    x_adv = np.clip(x_adv, 0, 1)\n",
    "\n",
    "    return x_adv"
   ]
  },
  {
   "cell_type": "code",
   "execution_count": 148,
   "metadata": {
    "scrolled": true
   },
   "outputs": [],
   "source": [
    "test_len = 100\n",
    "grad_fn = custom_grad_fn2(model2)\n",
    "# Reshape to (n_sample, output_dim)\n",
    "y_t = np.array([-1] * test_len).reshape(-1, 1)\n",
    "\n",
    "x_adv = test_s_pgd(model2, x_3[:test_len], y_t, norm=\"inf\", \n",
    "                   n_step=40, step_size=0.01, target=False, beta=0, \n",
    "                   early_stop=True, grad_fn=grad_fn)"
   ]
  },
  {
   "cell_type": "code",
   "execution_count": 229,
   "metadata": {},
   "outputs": [
    {
     "data": {
      "image/png": "[encoded data removed]",
      "text/plain": [
       "<matplotlib.figure.Figure at 0x7f4dd067d978>"
      ]
     },
     "metadata": {},
     "output_type": "display_data"
    }
   ],
   "source": [
    "plt.imshow(x_adv[2].reshape(28, 28), cmap='gray')\n",
    "plt.axis('off')\n",
    "plt.savefig('3_2.png', bbox_inches='tight')"
   ]
  },
  {
   "cell_type": "code",
   "execution_count": 158,
   "metadata": {
    "scrolled": true
   },
   "outputs": [
    {
     "name": "stdout",
     "output_type": "stream",
     "text": [
      "100 2.97069602907\n"
     ]
    }
   ],
   "source": [
    "n_suc = 0\n",
    "dist = 0\n",
    "\n",
    "for i, x in enumerate(x_adv):\n",
    "    y = model2.predict(x[np.newaxis, ...])[0]\n",
    "    if y < 0:\n",
    "        n_suc += 1\n",
    "        dist += np.linalg.norm(x_3[i] - x)\n",
    "\n",
    "print(n_suc, dist / n_suc)"
   ]
  },
  {
   "cell_type": "code",
   "execution_count": 207,
   "metadata": {},
   "outputs": [],
   "source": [
    "grad_fn = custom_grad_fn(model)\n",
    "y_t = np.array([7] * test_len)\n",
    "y_t = keras.utils.to_categorical(y_t, 10)\n",
    "\n",
    "x_adv_nn = s_pgd(model, x_3[:test_len], y_t, norm=\"inf\", \n",
    "                 n_step=40, step_size=0.01, target=True, beta=0, \n",
    "                 early_stop=True, grad_fn=grad_fn)"
   ]
  },
  {
   "cell_type": "code",
   "execution_count": 208,
   "metadata": {},
   "outputs": [
    {
     "name": "stdout",
     "output_type": "stream",
     "text": [
      "3\n"
     ]
    },
    {
     "data": {
      "image/png": "[encoded data removed]",
      "text/plain": [
       "<matplotlib.figure.Figure at 0x7f4dfa812dd8>"
      ]
     },
     "metadata": {},
     "output_type": "display_data"
    }
   ],
   "source": [
    "x = x_adv_nn[1]\n",
    "plt.imshow(x.reshape(28, 28), cmap='gray')\n",
    "print(np.argmax(model.predict(x[np.newaxis, ...])[0]))"
   ]
  },
  {
   "cell_type": "code",
   "execution_count": 210,
   "metadata": {},
   "outputs": [
    {
     "name": "stdout",
     "output_type": "stream",
     "text": [
      "36 3.01192386945\n"
     ]
    }
   ],
   "source": [
    "n_suc = 0\n",
    "n = 0\n",
    "dist = 0\n",
    "\n",
    "for i, x in enumerate(x_adv_nn):\n",
    "    y = model.predict(x[np.newaxis, ...])[0]\n",
    "    if x[0,0,0] == x[0,0,0]:\n",
    "        n += 1\n",
    "    else:\n",
    "        continue\n",
    "    if np.argmax(y) != 3:\n",
    "        n_suc += 1\n",
    "        dist += np.linalg.norm(x_3[i] - x)\n",
    "\n",
    "print(n_suc, dist / n_suc)"
   ]
  },
  {
   "cell_type": "code",
   "execution_count": 205,
   "metadata": {},
   "outputs": [
    {
     "name": "stdout",
     "output_type": "stream",
     "text": [
      "_________________________________________________________________\n",
      "Layer (type)                 Output Shape              Param #   \n",
      "=================================================================\n",
      "conv2d_1 (Conv2D)            (None, 26, 26, 32)        320       \n",
      "_________________________________________________________________\n",
      "conv2d_2 (Conv2D)            (None, 24, 24, 64)        18496     \n",
      "_________________________________________________________________\n",
      "max_pooling2d_1 (MaxPooling2 (None, 12, 12, 64)        0         \n",
      "_________________________________________________________________\n",
      "dropout_1 (Dropout)          (None, 12, 12, 64)        0         \n",
      "_________________________________________________________________\n",
      "flatten_1 (Flatten)          (None, 9216)              0         \n",
      "_________________________________________________________________\n",
      "dense_1 (Dense)              (None, 128)               1179776   \n",
      "_________________________________________________________________\n",
      "dropout_2 (Dropout)          (None, 128)               0         \n",
      "_________________________________________________________________\n",
      "dense_2 (Dense)              (None, 10)                1290      \n",
      "=================================================================\n",
      "Total params: 1,199,882\n",
      "Trainable params: 1,199,882\n",
      "Non-trainable params: 0\n",
      "_________________________________________________________________\n"
     ]
    }
   ],
   "source": [
    "# Fix early_stop svm\n",
    "# Adjust svm param C\n",
    "model = load_model('../Adversarial-Examples-GAN/test_cnn_mnist.h5')\n",
    "model.summary()"
   ]
  },
  {
   "cell_type": "code",
   "execution_count": 213,
   "metadata": {},
   "outputs": [],
   "source": [
    "model.pop()"
   ]
  },
  {
   "cell_type": "code",
   "execution_count": 214,
   "metadata": {},
   "outputs": [
    {
     "name": "stdout",
     "output_type": "stream",
     "text": [
      "1e-05 0.9871\n"
     ]
    }
   ],
   "source": [
    "c = [0.00001]\n",
    "svm = []\n",
    "\n",
    "for i, C in enumerate(c):\n",
    "    \n",
    "    clf = SVC(kernel='linear', C=C)\n",
    "    clf.fit(x_nn_train, np.argmax(y_train, axis=1))\n",
    "    score = clf.score(x_nn_test, np.argmax(y_test, axis=1))\n",
    "    print(C, score)\n",
    "\n",
    "    w = clf.coef_\n",
    "    b = clf.intercept_\n",
    "\n",
    "    new_layer = Dense(1, activation='linear', name='new_layer')\n",
    "\n",
    "    inp = model.input\n",
    "    out = new_layer(model.layers[-1].output)\n",
    "\n",
    "    tmp = Model(inp, out)\n",
    "    tmp.layers[-1].set_weights([w[27].reshape((n_feat, 1)), b[27].reshape(1)])\n",
    "    \n",
    "    svm.append(tmp)"
   ]
  },
  {
   "cell_type": "code",
   "execution_count": 177,
   "metadata": {},
   "outputs": [
    {
     "name": "stdout",
     "output_type": "stream",
     "text": [
      "2038 2034 0.9980372914622179\n"
     ]
    }
   ],
   "source": [
    "n = 0\n",
    "n_cor = 0\n",
    "\n",
    "for i, x in enumerate(x_test):\n",
    "    y = svm[0].predict(x[np.newaxis,...])[0][0]\n",
    "    y_ = np.argmax(y_test[i])\n",
    "    if y_ == 3:\n",
    "        n += 1\n",
    "        if y > 0:\n",
    "            n_cor += 1\n",
    "    elif y_ == 7:\n",
    "        n += 1\n",
    "        if y < 0:\n",
    "            n_cor += 1\n",
    "    else:\n",
    "        continue\n",
    "print(n, n_cor, n_cor / float(n))"
   ]
  },
  {
   "cell_type": "code",
   "execution_count": 215,
   "metadata": {},
   "outputs": [
    {
     "name": "stdout",
     "output_type": "stream",
     "text": [
      "100 3.02843365982\n"
     ]
    }
   ],
   "source": [
    "y_t = np.array([-1] * test_len).reshape(-1, 1)\n",
    "\n",
    "for clf in svm:\n",
    "    \n",
    "    grad_fn = custom_grad_fn2(clf)\n",
    "    # Reshape to (n_sample, output_dim)\n",
    "    x_adv = test_s_pgd(clf, x_3[:test_len], y_t, norm=\"inf\", \n",
    "                       n_step=40, step_size=0.01, target=False, beta=0, \n",
    "                       early_stop=True, grad_fn=grad_fn)\n",
    "    \n",
    "    n_suc = 0\n",
    "    dist = 0\n",
    "    for i, x in enumerate(x_adv):\n",
    "        y = clf.predict(x[np.newaxis, ...])[0]\n",
    "        if y < 0:\n",
    "            n_suc += 1\n",
    "            dist += np.linalg.norm(x_3[i] - x)\n",
    "\n",
    "    print(n_suc, dist / n_suc)"
   ]
  },
  {
   "cell_type": "code",
   "execution_count": 220,
   "metadata": {},
   "outputs": [
    {
     "data": {
      "image/png": "[encoded data removed]",
      "text/plain": [
       "<matplotlib.figure.Figure at 0x7f4dd0db9dd8>"
      ]
     },
     "metadata": {},
     "output_type": "display_data"
    }
   ],
   "source": [
    "c = [0.00001,0.0001,0.001,0.01,0.1,1,10]\n",
    "dist = [3.02843365982, 3.28195833027, 3.49320551276, \n",
    "        3.4917006731, 3.33224222422, 2.97408321261, \n",
    "        2.97069602907]\n",
    "\n",
    "plt.figure(figsize=(7,7))\n",
    "plt.semilogx(c, dist)\n",
    "plt.xticks(fontsize=16)\n",
    "plt.yticks(fontsize=16)\n",
    "plt.savefig('dist.png', bbox_inches='tight')\n",
    "plt.show()"
   ]
  },
  {
   "cell_type": "code",
   "execution_count": 179,
   "metadata": {},
   "outputs": [
    {
     "data": {
      "text/plain": [
       "<keras.layers.core.Dropout at 0x7f4ec803d4a8>"
      ]
     },
     "execution_count": 179,
     "metadata": {},
     "output_type": "execute_result"
    }
   ],
   "source": [
    "model.layers[-1]"
   ]
  },
  {
   "cell_type": "code",
   "execution_count": 194,
   "metadata": {},
   "outputs": [],
   "source": [
    "weight = model.layers[-1].get_weights()\n",
    "model.pop()\n",
    "new_layer = Dense(10, activation='linear', name='new_layer')\n",
    "inp = model.input\n",
    "out = new_layer(model.layers[-1].output)\n",
    "model = Model(inp, out)\n",
    "model.layers[-1].set_weights(weight)"
   ]
  },
  {
   "cell_type": "code",
   "execution_count": 201,
   "metadata": {},
   "outputs": [
    {
     "name": "stdout",
     "output_type": "stream",
     "text": [
      "_________________________________________________________________\n",
      "Layer (type)                 Output Shape              Param #   \n",
      "=================================================================\n",
      "conv2d_1_input (InputLayer)  (None, 28, 28, 1)         0         \n",
      "_________________________________________________________________\n",
      "conv2d_1 (Conv2D)            (None, 26, 26, 32)        320       \n",
      "_________________________________________________________________\n",
      "conv2d_2 (Conv2D)            (None, 24, 24, 64)        18496     \n",
      "_________________________________________________________________\n",
      "max_pooling2d_1 (MaxPooling2 (None, 12, 12, 64)        0         \n",
      "_________________________________________________________________\n",
      "dropout_1 (Dropout)          (None, 12, 12, 64)        0         \n",
      "_________________________________________________________________\n",
      "flatten_1 (Flatten)          (None, 9216)              0         \n",
      "_________________________________________________________________\n",
      "dense_1 (Dense)              (None, 128)               1179776   \n",
      "_________________________________________________________________\n",
      "dropout_2 (Dropout)          (None, 128)               0         \n",
      "_________________________________________________________________\n",
      "new_layer (Dense)            (None, 10)                1290      \n",
      "=================================================================\n",
      "Total params: 1,199,882\n",
      "Trainable params: 1,199,882\n",
      "Non-trainable params: 0\n",
      "_________________________________________________________________\n"
     ]
    }
   ],
   "source": [
    "model.summary()"
   ]
  },
  {
   "cell_type": "code",
   "execution_count": null,
   "metadata": {},
   "outputs": [],
   "source": []
  },
  {
   "cell_type": "markdown",
   "metadata": {
    "collapsed": true
   },
   "source": [
    "------"
   ]
  },
  {
   "cell_type": "code",
   "execution_count": 7,
   "metadata": {
    "scrolled": true
   },
   "outputs": [
    {
     "name": "stdout",
     "output_type": "stream",
     "text": [
      "x_train shape: (60000, 28, 28, 1)\n",
      "60000 train samples\n",
      "10000 test samples\n",
      "Train on 60000 samples, validate on 10000 samples\n",
      "Epoch 1/12\n",
      "60000/60000 [==============================] - 7s 117us/step - loss: 0.3474 - acc: 0.8931 - val_loss: 0.0806 - val_acc: 0.9747\n",
      "Epoch 2/12\n",
      "60000/60000 [==============================] - 5s 80us/step - loss: 0.1185 - acc: 0.9652 - val_loss: 0.0575 - val_acc: 0.9807\n",
      "Epoch 3/12\n",
      "60000/60000 [==============================] - 5s 81us/step - loss: 0.0885 - acc: 0.9730 - val_loss: 0.0427 - val_acc: 0.9853\n",
      "Epoch 4/12\n",
      "60000/60000 [==============================] - 5s 84us/step - loss: 0.0737 - acc: 0.9782 - val_loss: 0.0391 - val_acc: 0.9864\n",
      "Epoch 5/12\n",
      "60000/60000 [==============================] - 5s 80us/step - loss: 0.0636 - acc: 0.9812 - val_loss: 0.0368 - val_acc: 0.9876\n",
      "Epoch 6/12\n",
      "60000/60000 [==============================] - 5s 80us/step - loss: 0.0586 - acc: 0.9827 - val_loss: 0.0333 - val_acc: 0.9882\n",
      "Epoch 7/12\n",
      "60000/60000 [==============================] - 5s 77us/step - loss: 0.0528 - acc: 0.9840 - val_loss: 0.0311 - val_acc: 0.9880\n",
      "Epoch 8/12\n",
      "60000/60000 [==============================] - 5s 80us/step - loss: 0.0487 - acc: 0.9857 - val_loss: 0.0326 - val_acc: 0.9893\n",
      "Epoch 9/12\n",
      "60000/60000 [==============================] - 5s 81us/step - loss: 0.0454 - acc: 0.9863 - val_loss: 0.0294 - val_acc: 0.9898\n",
      "Epoch 10/12\n",
      "60000/60000 [==============================] - 5s 81us/step - loss: 0.0408 - acc: 0.9877 - val_loss: 0.0279 - val_acc: 0.9904\n",
      "Epoch 11/12\n",
      "60000/60000 [==============================] - 5s 82us/step - loss: 0.0387 - acc: 0.9883 - val_loss: 0.0271 - val_acc: 0.9902\n",
      "Epoch 12/12\n",
      "60000/60000 [==============================] - 5s 80us/step - loss: 0.0381 - acc: 0.9885 - val_loss: 0.0288 - val_acc: 0.9904\n",
      "Test loss: 0.0287840322343\n",
      "Test accuracy: 0.9904\n"
     ]
    }
   ],
   "source": [
    "'''Trains a simple convnet on the MNIST dataset.\n",
    "\n",
    "Gets to 99.25% test accuracy after 12 epochs\n",
    "(there is still a lot of margin for parameter tuning).\n",
    "16 seconds per epoch on a GRID K520 GPU.\n",
    "'''\n",
    "\n",
    "from __future__ import print_function\n",
    "import keras\n",
    "from keras.datasets import mnist\n",
    "from keras.models import Sequential\n",
    "from keras.layers import Dense, Dropout, Flatten\n",
    "from keras.layers import Conv2D, MaxPooling2D\n",
    "from keras import backend as K\n",
    "\n",
    "batch_size = 128\n",
    "num_classes = 10\n",
    "epochs = 12\n",
    "\n",
    "# input image dimensions\n",
    "img_rows, img_cols = 28, 28\n",
    "\n",
    "# the data, shuffled and split between train and test sets\n",
    "(x_train, y_train), (x_test, y_test) = mnist.load_data()\n",
    "\n",
    "if K.image_data_format() == 'channels_first':\n",
    "    x_train = x_train.reshape(x_train.shape[0], 1, img_rows, img_cols)\n",
    "    x_test = x_test.reshape(x_test.shape[0], 1, img_rows, img_cols)\n",
    "    input_shape = (1, img_rows, img_cols)\n",
    "else:\n",
    "    x_train = x_train.reshape(x_train.shape[0], img_rows, img_cols, 1)\n",
    "    x_test = x_test.reshape(x_test.shape[0], img_rows, img_cols, 1)\n",
    "    input_shape = (img_rows, img_cols, 1)\n",
    "\n",
    "x_train = x_train.astype('float32')\n",
    "x_test = x_test.astype('float32')\n",
    "x_train /= 255\n",
    "x_test /= 255\n",
    "print('x_train shape:', x_train.shape)\n",
    "print(x_train.shape[0], 'train samples')\n",
    "print(x_test.shape[0], 'test samples')\n",
    "\n",
    "# convert class vectors to binary class matrices\n",
    "y_train = keras.utils.to_categorical(y_train, num_classes)\n",
    "y_test = keras.utils.to_categorical(y_test, num_classes)\n",
    "\n",
    "model = Sequential()\n",
    "model.add(Conv2D(32, kernel_size=(3, 3),\n",
    "                 activation='relu',\n",
    "                 input_shape=input_shape))\n",
    "model.add(Conv2D(64, (3, 3), activation='relu'))\n",
    "model.add(MaxPooling2D(pool_size=(2, 2)))\n",
    "model.add(Dropout(0.25))\n",
    "model.add(Flatten())\n",
    "model.add(Dense(128, activation='relu'))\n",
    "model.add(Dropout(0.5))\n",
    "model.add(Dense(num_classes, activation='softmax'))\n",
    "\n",
    "model.compile(loss=keras.losses.categorical_crossentropy,\n",
    "              optimizer=keras.optimizers.Adadelta(),\n",
    "              metrics=['accuracy'])\n",
    "\n",
    "model.fit(x_train, y_train,\n",
    "          batch_size=batch_size,\n",
    "          epochs=epochs,\n",
    "          verbose=1,\n",
    "          validation_data=(x_test, y_test))\n",
    "score = model.evaluate(x_test, y_test, verbose=0)\n",
    "print('Test loss:', score[0])\n",
    "print('Test accuracy:', score[1])"
   ]
  },
  {
   "cell_type": "code",
   "execution_count": 9,
   "metadata": {},
   "outputs": [],
   "source": [
    "model.save('../Adversarial-Examples-GAN/test_cnn_mnist.h5')"
   ]
  },
  {
   "cell_type": "code",
   "execution_count": null,
   "metadata": {},
   "outputs": [],
   "source": []
  }
 ],
 "metadata": {
  "kernelspec": {
   "display_name": "Python 3",
   "language": "python",
   "name": "python3"
  },
  "language_info": {
   "codemirror_mode": {
    "name": "ipython",
    "version": 3
   },
   "file_extension": ".py",
   "mimetype": "text/x-python",
   "name": "python",
   "nbconvert_exporter": "python",
   "pygments_lexer": "ipython3",
   "version": "3.6.2"
  }
 },
 "nbformat": 4,
 "nbformat_minor": 2
}
