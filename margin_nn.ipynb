{
 "cells": [
  {
   "cell_type": "code",
   "execution_count": 1,
   "metadata": {},
   "outputs": [],
   "source": [
    "%matplotlib inline\n",
    "\n",
    "%reload_ext autoreload\n",
    "%autoreload 2"
   ]
  },
  {
   "cell_type": "code",
   "execution_count": 2,
   "metadata": {},
   "outputs": [],
   "source": [
    "# Specify visible cuda device\n",
    "import os\n",
    "os.environ[\"CUDA_DEVICE_ORDER\"] = \"PCI_BUS_ID\"\n",
    "os.environ[\"CUDA_VISIBLE_DEVICES\"] = \"1\""
   ]
  },
  {
   "cell_type": "code",
   "execution_count": 3,
   "metadata": {},
   "outputs": [
    {
     "name": "stderr",
     "output_type": "stream",
     "text": [
      "Using TensorFlow backend.\n"
     ]
    }
   ],
   "source": [
    "from parameters import *\n",
    "from lib.utils import *"
   ]
  },
  {
   "cell_type": "code",
   "execution_count": 4,
   "metadata": {},
   "outputs": [],
   "source": [
    "from keras.datasets import mnist\n",
    "\n",
    "(x_train, y_train), (x_test, y_test) = mnist.load_data()\n",
    "\n",
    "x_train = x_train[:, :, :, np.newaxis]\n",
    "x_test = x_test[:, :, :, np.newaxis]\n",
    "x_train = x_train.astype('float32')\n",
    "x_test = x_test.astype('float32')\n",
    "x_train /= 255.\n",
    "x_test /= 255.\n",
    "\n",
    "y_train = keras.utils.to_categorical(y_train, NUM_LABELS)\n",
    "y_test = keras.utils.to_categorical(y_test, NUM_LABELS)"
   ]
  },
  {
   "cell_type": "code",
   "execution_count": 5,
   "metadata": {
    "scrolled": true
   },
   "outputs": [
    {
     "name": "stdout",
     "output_type": "stream",
     "text": [
      "_________________________________________________________________\n",
      "Layer (type)                 Output Shape              Param #   \n",
      "=================================================================\n",
      "conv2d_1 (Conv2D)            (None, 26, 26, 32)        320       \n",
      "_________________________________________________________________\n",
      "conv2d_2 (Conv2D)            (None, 24, 24, 64)        18496     \n",
      "_________________________________________________________________\n",
      "max_pooling2d_1 (MaxPooling2 (None, 12, 12, 64)        0         \n",
      "_________________________________________________________________\n",
      "dropout_1 (Dropout)          (None, 12, 12, 64)        0         \n",
      "_________________________________________________________________\n",
      "flatten_1 (Flatten)          (None, 9216)              0         \n",
      "_________________________________________________________________\n",
      "dense_1 (Dense)              (None, 128)               1179776   \n",
      "_________________________________________________________________\n",
      "dropout_2 (Dropout)          (None, 128)               0         \n",
      "_________________________________________________________________\n",
      "dense_2 (Dense)              (None, 10)                1290      \n",
      "=================================================================\n",
      "Total params: 1,199,882\n",
      "Trainable params: 1,199,882\n",
      "Non-trainable params: 0\n",
      "_________________________________________________________________\n"
     ]
    }
   ],
   "source": [
    "from keras.models import load_model\n",
    "\n",
    "model = load_model('test_cnn_mnist.h5')\n",
    "model.summary()"
   ]
  },
  {
   "cell_type": "code",
   "execution_count": 6,
   "metadata": {},
   "outputs": [],
   "source": [
    "def get_angle(x):\n",
    "    \"\"\"\n",
    "    Find 'similarity' of all members in x\n",
    "    Define as <x1,x2> / (||x1||*||x2||)\n",
    "    \"\"\"\n",
    "    \n",
    "    len_x = len(x)\n",
    "    diff = []\n",
    "    for j in range(len_x):\n",
    "        for k in range(len_x):\n",
    "            if j != k:\n",
    "                tmp = (np.dot(x[j].flatten(), x[k].flatten()) / \n",
    "                    (np.linalg.norm(x[j]) * np.linalg.norm(x[k])))\n",
    "                diff.append(tmp)\n",
    "    return np.array(diff)\n",
    "\n",
    "def get_loss(x, y_s, y_t):\n",
    "    \n",
    "    len_x = len(x)\n",
    "    loss_s = np.zeros((len_x,))\n",
    "    loss_t = np.zeros((len_x,))\n",
    "\n",
    "    for j in range(len_x):\n",
    "        x_cur = x_rnd[j].reshape((1,) + INPUT_SHAPE)\n",
    "        loss_s[j] = model.evaluate(x_cur, y_s.reshape(1, 10), verbose=0)[0]\n",
    "        loss_t[j] = model.evaluate(x_cur, y_t.reshape(1, 10), verbose=0)[0]\n",
    "        \n",
    "    return loss_s, loss_t"
   ]
  },
  {
   "cell_type": "markdown",
   "metadata": {},
   "source": [
    "Test with `rnd_pgd`  \n",
    "Pick one sample and one target label, repeatedly initialize a random point in a ball centered at the chosen sample. Perform projected gradient descent for a certain number of steps."
   ]
  },
  {
   "cell_type": "code",
   "execution_count": null,
   "metadata": {},
   "outputs": [],
   "source": [
    "i = 4\n",
    "test_len = 1000\n",
    "y_t = np.array([0])\n",
    "y_t = keras.utils.to_categorical(y_t, NUM_LABELS)\n",
    "\n",
    "x_rnd = np.zeros((test_len,) + INPUT_SHAPE)\n",
    "\n",
    "for j in range(test_len):\n",
    "    tmp = rnd_pgd(model, x_test[i].reshape((1,) + INPUT_SHAPE), y_t, \n",
    "                  norm=\"inf\", n_step=40, step_size=0.01, target=True, init_rnd=0.1)\n",
    "    x_rnd[j] = tmp"
   ]
  },
  {
   "cell_type": "code",
   "execution_count": 7,
   "metadata": {
    "collapsed": true
   },
   "outputs": [],
   "source": [
    "loss_s, loss_t = get_loss(x_rnd, y_test[i], y_t)"
   ]
  },
  {
   "cell_type": "markdown",
   "metadata": {},
   "source": [
    "Histogram of loss with respect to the target label"
   ]
  },
  {
   "cell_type": "code",
   "execution_count": 8,
   "metadata": {
    "scrolled": true
   },
   "outputs": [
    {
     "data": {
      "text/plain": [
       "(array([ 763.,   52.,   43.,   28.,   13.,    8.,    7.,    9.,    3.,\n",
       "           3.,    4.,    2.,    1.,    3.,    5.,    0.,    1.,    4.,\n",
       "           6.,    5.,    5.,    3.,    4.,    3.,    8.,    6.,    4.,\n",
       "           2.,    2.,    3.]),\n",
       " array([  1.16825786e-05,   3.11945955e-01,   6.23880227e-01,\n",
       "          9.35814500e-01,   1.24774877e+00,   1.55968304e+00,\n",
       "          1.87161732e+00,   2.18355159e+00,   2.49548586e+00,\n",
       "          2.80742013e+00,   3.11935441e+00,   3.43128868e+00,\n",
       "          3.74322295e+00,   4.05515722e+00,   4.36709150e+00,\n",
       "          4.67902577e+00,   4.99096004e+00,   5.30289431e+00,\n",
       "          5.61482859e+00,   5.92676286e+00,   6.23869713e+00,\n",
       "          6.55063140e+00,   6.86256568e+00,   7.17449995e+00,\n",
       "          7.48643422e+00,   7.79836849e+00,   8.11030277e+00,\n",
       "          8.42223704e+00,   8.73417131e+00,   9.04610558e+00,\n",
       "          9.35803986e+00]),\n",
       " <a list of 30 Patch objects>)"
      ]
     },
     "execution_count": 8,
     "metadata": {},
     "output_type": "execute_result"
    },
    {
     "data": {
      "image/png": "[encoded data removed]",
      "text/plain": [
       "<matplotlib.figure.Figure at 0x7ff57e7c2dd8>"
      ]
     },
     "metadata": {},
     "output_type": "display_data"
    }
   ],
   "source": [
    "plt.hist(loss_t, bins=30)"
   ]
  },
  {
   "cell_type": "markdown",
   "metadata": {},
   "source": [
    "Calculate the angle between all pairs of adversarial examples generated"
   ]
  },
  {
   "cell_type": "code",
   "execution_count": 9,
   "metadata": {
    "collapsed": true
   },
   "outputs": [],
   "source": [
    "diff = get_angle(x_rnd)"
   ]
  },
  {
   "cell_type": "code",
   "execution_count": 11,
   "metadata": {},
   "outputs": [
    {
     "data": {
      "text/plain": [
       "0.89698024003700838"
      ]
     },
     "execution_count": 11,
     "metadata": {},
     "output_type": "execute_result"
    }
   ],
   "source": [
    "np.mean(diff)"
   ]
  },
  {
   "cell_type": "code",
   "execution_count": 12,
   "metadata": {
    "scrolled": true
   },
   "outputs": [
    {
     "data": {
      "text/plain": [
       "(array([  8.00000000e+00,   2.00000000e+01,   1.16000000e+02,\n",
       "          2.80000000e+02,   6.38000000e+02,   1.52400000e+03,\n",
       "          2.87800000e+03,   5.16200000e+03,   7.92000000e+03,\n",
       "          1.13540000e+04,   1.58940000e+04,   2.08660000e+04,\n",
       "          2.60860000e+04,   3.34420000e+04,   4.37380000e+04,\n",
       "          5.66060000e+04,   7.21360000e+04,   8.83780000e+04,\n",
       "          1.02178000e+05,   1.12102000e+05,   1.10002000e+05,\n",
       "          9.89480000e+04,   7.78060000e+04,   5.41400000e+04,\n",
       "          3.18040000e+04,   1.57640000e+04,   6.60400000e+03,\n",
       "          2.09600000e+03,   4.62000000e+02,   4.80000000e+01]),\n",
       " array([ 0.80075926,  0.8059307 ,  0.81110213,  0.81627357,  0.821445  ,\n",
       "         0.82661643,  0.83178787,  0.8369593 ,  0.84213074,  0.84730217,\n",
       "         0.8524736 ,  0.85764504,  0.86281647,  0.86798791,  0.87315934,\n",
       "         0.87833077,  0.88350221,  0.88867364,  0.89384508,  0.89901651,\n",
       "         0.90418795,  0.90935938,  0.91453081,  0.91970225,  0.92487368,\n",
       "         0.93004512,  0.93521655,  0.94038798,  0.94555942,  0.95073085,\n",
       "         0.95590229]),\n",
       " <a list of 30 Patch objects>)"
      ]
     },
     "execution_count": 12,
     "metadata": {},
     "output_type": "execute_result"
    },
    {
     "data": {
      "image/png": "[encoded data removed]",
      "text/plain": [
       "<matplotlib.figure.Figure at 0x7ff57e531c50>"
      ]
     },
     "metadata": {},
     "output_type": "display_data"
    }
   ],
   "source": [
    "plt.hist(diff, bins=30)"
   ]
  },
  {
   "cell_type": "markdown",
   "metadata": {
    "collapsed": true
   },
   "source": [
    "Test `s_pgd`  "
   ]
  },
  {
   "cell_type": "code",
   "execution_count": 7,
   "metadata": {},
   "outputs": [
    {
     "name": "stdout",
     "output_type": "stream",
     "text": [
      "0\n",
      "100\n",
      "200\n",
      "300\n",
      "400\n",
      "500\n",
      "600\n",
      "700\n",
      "800\n",
      "900\n"
     ]
    }
   ],
   "source": [
    "i = 4\n",
    "test_len = 1000\n",
    "y_t = np.array([0])\n",
    "y_t = keras.utils.to_categorical(y_t, NUM_LABELS)\n",
    "\n",
    "x_rnd = np.zeros((test_len,) + INPUT_SHAPE)\n",
    "\n",
    "for j in range(test_len):\n",
    "    if j % 100 == 0:\n",
    "        print(j)\n",
    "    tmp = s_pgd(model, x_test[i].reshape((1,) + INPUT_SHAPE), y_t,  \n",
    "                norm=\"inf\", n_step=40, step_size=0.01, \n",
    "                target=True, beta=0.2, early_stop=True)\n",
    "    x_rnd[j] = tmp"
   ]
  },
  {
   "cell_type": "code",
   "execution_count": 29,
   "metadata": {},
   "outputs": [],
   "source": [
    "diff = get_angle(x_rnd)"
   ]
  },
  {
   "cell_type": "code",
   "execution_count": 17,
   "metadata": {},
   "outputs": [
    {
     "data": {
      "text/plain": [
       "(array([  20.,   28.,   86.,  156.,  122.,  116.,  218.,  240.,  208.,\n",
       "         212.,  284.,  276.,  268.,  282.,  374.,  346.,  320.,  372.,\n",
       "         366.,  392.,  408.,  416.,  452.,  478.,  498.,  514.,  534.,\n",
       "         552.,  600.,  762.]),\n",
       " array([ 0.99999938,  0.9999994 ,  0.99999942,  0.99999944,  0.99999946,\n",
       "         0.99999948,  0.9999995 ,  0.99999952,  0.99999954,  0.99999956,\n",
       "         0.99999958,  0.9999996 ,  0.99999962,  0.99999964,  0.99999966,\n",
       "         0.99999969,  0.99999971,  0.99999973,  0.99999975,  0.99999977,\n",
       "         0.99999979,  0.99999981,  0.99999983,  0.99999985,  0.99999987,\n",
       "         0.99999989,  0.99999991,  0.99999993,  0.99999995,  0.99999997,\n",
       "         0.99999999]),\n",
       " <a list of 30 Patch objects>)"
      ]
     },
     "execution_count": 17,
     "metadata": {},
     "output_type": "execute_result"
    },
    {
     "data": {
      "image/png": "[encoded data removed]",
      "text/plain": [
       "<matplotlib.figure.Figure at 0x7fb11054bda0>"
      ]
     },
     "metadata": {},
     "output_type": "display_data"
    }
   ],
   "source": [
    "# step_size, beta = 0.01, 0.01\n",
    "plt.hist(diff, bins=30)"
   ]
  },
  {
   "cell_type": "code",
   "execution_count": 12,
   "metadata": {
    "scrolled": true
   },
   "outputs": [
    {
     "data": {
      "text/plain": [
       "(array([  58252.,   12096.,    5934.,    4510.,    5304.,    4010.,\n",
       "           3890.,    3864.,    5242.,    4054.,    3834.,    7130.,\n",
       "           5566.,    5568.,    4682.,    4950.,    5632.,    5734.,\n",
       "           7246.,    8878.,    7556.,    8914.,    7922.,    9542.,\n",
       "          12252.,   12878.,   16210.,   17502.,   24000.,  715848.]),\n",
       " array([ 0.52218308,  0.53811029,  0.5540375 ,  0.56996472,  0.58589193,\n",
       "         0.60181914,  0.61774635,  0.63367356,  0.64960077,  0.66552798,\n",
       "         0.68145519,  0.6973824 ,  0.71330962,  0.72923683,  0.74516404,\n",
       "         0.76109125,  0.77701846,  0.79294567,  0.80887288,  0.82480009,\n",
       "         0.8407273 ,  0.85665451,  0.87258173,  0.88850894,  0.90443615,\n",
       "         0.92036336,  0.93629057,  0.95221778,  0.96814499,  0.9840722 ,\n",
       "         0.99999941]),\n",
       " <a list of 30 Patch objects>)"
      ]
     },
     "execution_count": 12,
     "metadata": {},
     "output_type": "execute_result"
    },
    {
     "data": {
      "image/png": "[encoded data removed]",
      "text/plain": [
       "<matplotlib.figure.Figure at 0x7fb5f2c02390>"
      ]
     },
     "metadata": {},
     "output_type": "display_data"
    }
   ],
   "source": [
    "# step_size, beta = 0.01, 0.1\n",
    "plt.hist(diff, bins=30)"
   ]
  },
  {
   "cell_type": "code",
   "execution_count": 20,
   "metadata": {},
   "outputs": [
    {
     "data": {
      "text/plain": [
       "(array([  20.,   64.,   94.,  108.,   88.,   96.,   70.,  122.,  112.,\n",
       "         162.,  200.,  262.,  310.,  304.,  324.,  338.,  356.,  400.,\n",
       "         398.,  412.,  422.,  456.,  504.,  508.,  548.,  562.,  596.,\n",
       "         620.,  648.,  796.]),\n",
       " array([ 0.99998304,  0.9999836 ,  0.99998416,  0.99998472,  0.99998528,\n",
       "         0.99998584,  0.9999864 ,  0.99998696,  0.99998752,  0.99998808,\n",
       "         0.99998864,  0.9999892 ,  0.99998976,  0.99999032,  0.99999088,\n",
       "         0.99999144,  0.999992  ,  0.99999256,  0.99999312,  0.99999368,\n",
       "         0.99999424,  0.9999948 ,  0.99999537,  0.99999593,  0.99999649,\n",
       "         0.99999705,  0.99999761,  0.99999817,  0.99999873,  0.99999929,\n",
       "         0.99999985]),\n",
       " <a list of 30 Patch objects>)"
      ]
     },
     "execution_count": 20,
     "metadata": {},
     "output_type": "execute_result"
    },
    {
     "data": {
      "image/png": "[encoded data removed]",
      "text/plain": [
       "<matplotlib.figure.Figure at 0x7fb10383b4a8>"
      ]
     },
     "metadata": {},
     "output_type": "display_data"
    }
   ],
   "source": [
    "# step_size, beta = 0.01, 0.05\n",
    "plt.hist(diff, bins=30)"
   ]
  },
  {
   "cell_type": "code",
   "execution_count": 32,
   "metadata": {},
   "outputs": [
    {
     "data": {
      "text/plain": [
       "(array([  18.,   60.,   86.,   76.,   94.,  102.,  132.,  124.,  158.,\n",
       "         230.,  184.,  244.,  254.,  282.,  330.,  330.,  340.,  364.,\n",
       "         398.,  406.,  418.,  450.,  524.,  546.,  584.,  588.,  610.,\n",
       "         610.,  600.,  758.]),\n",
       " array([ 0.99975551,  0.99976358,  0.99977165,  0.99977972,  0.99978779,\n",
       "         0.99979586,  0.99980393,  0.999812  ,  0.99982007,  0.99982814,\n",
       "         0.99983621,  0.99984428,  0.99985235,  0.99986042,  0.99986849,\n",
       "         0.99987656,  0.99988463,  0.9998927 ,  0.99990077,  0.99990884,\n",
       "         0.99991691,  0.99992498,  0.99993305,  0.99994111,  0.99994918,\n",
       "         0.99995725,  0.99996532,  0.99997339,  0.99998146,  0.99998953,\n",
       "         0.9999976 ]),\n",
       " <a list of 30 Patch objects>)"
      ]
     },
     "execution_count": 32,
     "metadata": {},
     "output_type": "execute_result"
    },
    {
     "data": {
      "image/png": "[encoded data removed]",
      "text/plain": [
       "<matplotlib.figure.Figure at 0x7fb11054b0f0>"
      ]
     },
     "metadata": {},
     "output_type": "display_data"
    }
   ],
   "source": [
    "# step_size, beta = 0.01, 0.2\n",
    "plt.hist(diff, bins=30)"
   ]
  },
  {
   "cell_type": "markdown",
   "metadata": {},
   "source": [
    "Calculate histogram and variance of angle difference for uniformly random points in \\[0, 1\\]"
   ]
  },
  {
   "cell_type": "code",
   "execution_count": 10,
   "metadata": {},
   "outputs": [
    {
     "name": "stdout",
     "output_type": "stream",
     "text": [
      "Variance:  0.00012455730524\n"
     ]
    },
    {
     "data": {
      "image/png": "[encoded data removed]",
      "text/plain": [
       "<matplotlib.figure.Figure at 0x7fb907447a90>"
      ]
     },
     "metadata": {},
     "output_type": "display_data"
    }
   ],
   "source": [
    "h, w, c = x_test[0].shape\n",
    "len_rnd = 1000\n",
    "\n",
    "rnd = np.random.rand(len_rnd, h, w, c)\n",
    "diff = get_angle(rnd)\n",
    "plt.hist(diff, bins=30)\n",
    "print(\"Variance: \", np.var(diff))"
   ]
  },
  {
   "cell_type": "markdown",
   "metadata": {},
   "source": [
    "Estimate hyperplane to fit all generated adversarial examples"
   ]
  },
  {
   "cell_type": "code",
   "execution_count": 14,
   "metadata": {},
   "outputs": [
    {
     "data": {
      "text/plain": [
       "PCA(copy=True, iterated_power='auto', n_components=783, random_state=None,\n",
       "  svd_solver='auto', tol=0.0, whiten=False)"
      ]
     },
     "execution_count": 14,
     "metadata": {},
     "output_type": "execute_result"
    }
   ],
   "source": [
    "from sklearn.decomposition import PCA\n",
    "\n",
    "pca = PCA(n_components=783)\n",
    "x_flat = x_rnd.reshape((-1, 784))\n",
    "pca.fit(x_flat - np.mean(x_flat, axis=0))"
   ]
  },
  {
   "cell_type": "code",
   "execution_count": 23,
   "metadata": {},
   "outputs": [],
   "source": [
    "proj_matrix = np.dot(pca.components_.T, pca.components_)"
   ]
  },
  {
   "cell_type": "code",
   "execution_count": 25,
   "metadata": {},
   "outputs": [],
   "source": [
    "x_tran = np.dot(x_flat, proj_matrix)"
   ]
  },
  {
   "cell_type": "code",
   "execution_count": 30,
   "metadata": {},
   "outputs": [
    {
     "data": {
      "text/plain": [
       "array([ 24.98604252,  25.05317965,  25.0199372 ,  24.93819245,\n",
       "        24.96798254,  24.99102437,  24.92680263,  24.90112348,\n",
       "        24.85826027,  24.94667539,  24.87636001,  24.90693064,\n",
       "        24.96553104,  24.91922073,  24.97049527,  24.92012705,\n",
       "        24.92881362,  24.93084759,  24.94914866,  24.94345114,\n",
       "        24.94618758,  24.97085743,  24.88376759,  24.94978845,\n",
       "        24.8954351 ,  24.85367802,  24.83692556,  24.89698486,\n",
       "        24.85006905,  24.8353253 ,  24.8280708 ,  24.8573715 ,\n",
       "        24.88185145,  24.8503544 ,  24.82900321,  24.74299258,\n",
       "        24.70378048,  24.70670802,  24.6206857 ,  24.58301794,\n",
       "        24.51860039,  24.45666108,  24.38813176,  24.32053759,\n",
       "        24.24921284,  24.17992553,  24.11118903,  24.04134236,\n",
       "        23.97238736,  23.89731016,  23.81316875,  23.72455791,\n",
       "        23.64669747,  23.55833977,  23.47632359,  23.38377669,\n",
       "        23.30365079,  23.21746417,  23.13174031,  23.0548939 ,\n",
       "        22.97151523,  22.89351785,  22.80647353,  22.7305874 ,\n",
       "        22.65060916,  22.6210078 ,  22.58269899,  22.52484025,\n",
       "        22.45855646,  22.38629412,  22.30888327,  22.24148366,\n",
       "        22.17056119,  22.09451027,  22.02148193,  21.95174182,\n",
       "        21.87320504,  21.79223112,  21.70648823,  21.61777669,\n",
       "        21.53321218,  21.44881656,  21.36298924,  21.28521696,\n",
       "        21.20264989,  21.12977126,  21.0500203 ,  20.9781349 ,\n",
       "        20.90212202,  20.82912262,  20.74987367,  20.67605874,\n",
       "        20.59805919,  20.5230949 ,  20.44135389,  20.36937356,\n",
       "        20.29875376,  20.22142774,  20.14126879,  20.06854808,\n",
       "        19.99389495,  19.9256464 ,  19.8442388 ,  19.76787502,\n",
       "        19.68344411,  19.6027529 ,  19.52418206,  19.44850067,\n",
       "        19.3767829 ,  19.30439454,  19.22764183,  19.15327799,\n",
       "        19.07914842,  19.00535081,  18.93421638,  18.86566954,\n",
       "        18.79776477,  18.73151236,  18.66883327,  18.60294244,\n",
       "        18.5416659 ,  18.48157205,  18.42523576,  18.37350882,\n",
       "        18.32235985,  18.2739247 ,  18.22398596,  18.17370322,\n",
       "        18.12673826,  18.08133543,  18.03314299,  17.99232828,\n",
       "        17.94355906,  17.90411529,  17.86223143,  17.82002518,\n",
       "        17.78006086,  17.74453197,  17.70997077,  17.67874844,\n",
       "        17.64114289,  17.61046127,  17.57648442,  17.55048069,\n",
       "        17.51836421,  17.49142525,  17.46366845,  17.43777798,\n",
       "        17.41282163,  17.38968667,  17.36613125,  17.34432217,\n",
       "        17.32241156,  17.30491691,  17.28737085,  17.27069358,\n",
       "        17.25358921,  17.23904976,  17.2246063 ,  17.21298917,\n",
       "        17.19988551,  17.18844973,  17.17600796,  17.16432181,\n",
       "        17.15373493,  17.14444908,  17.13586596,  17.12759287,\n",
       "        17.12020437,  17.11287038,  17.10744843,  17.10260514,\n",
       "        17.09810071,  17.09477809,  17.09111697,  17.08829885,\n",
       "        17.0862912 ,  17.08475415,  17.08287849,  17.08210504,\n",
       "        17.08158649,  17.08209558,  17.08219596,  17.0815499 ,\n",
       "        17.08035406,  17.07995056,  17.07858539,  17.07740738,\n",
       "        17.0764886 ,  17.07566182,  17.07483196,  17.07355717,\n",
       "        17.07216771,  17.07116664,  17.0708591 ,  17.07006345,\n",
       "        17.06993117,  17.06918352,  17.068834  ,  17.06890875,\n",
       "        17.06860832,  17.06797602,  17.06696826,  17.06640013,\n",
       "        17.0664347 ,  17.06627881,  17.06638639,  17.06632147,\n",
       "        17.06641068,  17.06534794,  17.06478565,  17.0645477 ,\n",
       "        17.06380136,  17.06318423,  17.06295719,  17.06201442,\n",
       "        17.06135704,  17.06064759,  17.06045732,  17.06048464,\n",
       "        17.06045252,  17.0602211 ,  17.06040586,  17.05976143,\n",
       "        17.05910865,  17.05866455,  17.05843111,  17.0583753 ,\n",
       "        17.05784068,  17.05754768,  17.05746912,  17.05731459,\n",
       "        17.05723228,  17.05740277,  17.05731307,  17.0571617 ,\n",
       "        17.05694725,  17.05687045,  17.05666115,  17.05669915,\n",
       "        17.0564773 ,  17.05653452,  17.05651423,  17.05561356,\n",
       "        17.05489987,  17.05435891,  17.05438635,  17.05429569,\n",
       "        17.05420316,  17.05421642,  17.05434436,  17.05418041,\n",
       "        17.05441344,  17.05447523,  17.05415016,  17.05337227,\n",
       "        17.0529775 ,  17.05269053,  17.05228836,  17.05189216,\n",
       "        17.05185709,  17.05155144,  17.05118502,  17.05092556,\n",
       "        17.05049848,  17.05022553,  17.05030002,  17.05008841,\n",
       "        17.04955726,  17.04947174,  17.04941414,  17.04909855,\n",
       "        17.04890394,  17.04906277,  17.04915967,  17.04888931,\n",
       "        17.04881165,  17.04887277,  17.04891207,  17.04880579,\n",
       "        17.04891946,  17.04880156,  17.0486656 ,  17.04858243,\n",
       "        17.0485167 ,  17.04835927,  17.04851611,  17.04862779,\n",
       "        17.04858791,  17.04860152,  17.04846227,  17.04848608,\n",
       "        17.04848432,  17.04834812,  17.04833604,  17.04827351,\n",
       "        17.04822294,  17.04822154,  17.0482477 ,  17.04816476,\n",
       "        17.04793505,  17.04778466,  17.0476427 ,  17.0476847 ,\n",
       "        17.04759636,  17.0476007 ,  17.04756527,  17.04774618,\n",
       "        17.04779158,  17.04782595,  17.04771403,  17.04763496,\n",
       "        17.04758545,  17.04753359,  17.04729087,  17.04715958,\n",
       "        17.04713025,  17.04712251,  17.04705939,  17.04691027,\n",
       "        17.04687262,  17.04674848,  17.04667093,  17.04670906,\n",
       "        17.04656675,  17.04645986,  17.04636425,  17.04646046,\n",
       "        17.04642139,  17.04623156,  17.04619237,  17.04614474,\n",
       "        17.04588944,  17.04583323,  17.04552171,  17.0455934 ,\n",
       "        17.04546117,  17.04535498,  17.04558167,  17.04545401,\n",
       "        17.04553439,  17.0454803 ,  17.04551304,  17.04544416,\n",
       "        17.04522064,  17.04488518,  17.04475834,  17.04470214,\n",
       "        17.04476162,  17.04484528,  17.04485455,  17.04471245,\n",
       "        17.04449725,  17.04448622,  17.04457094,  17.04459042,\n",
       "        17.04462758,  17.04459813,  17.04454603,  17.04473076,\n",
       "        17.04477711,  17.04453223,  17.04459231,  17.04442991,\n",
       "        17.04455523,  17.04452694,  17.04446054,  17.04425613,\n",
       "        17.04421772,  17.04420309,  17.04398355,  17.04412612,\n",
       "        17.04400291,  17.04397545,  17.04384849,  17.04379803,\n",
       "        17.04371049,  17.04381023,  17.04389214,  17.04371964,\n",
       "        17.04366531,  17.04374077,  17.04385635,  17.04392898,\n",
       "        17.04371788,  17.04368585,  17.04375449,  17.04357507,\n",
       "        17.04347251,  17.04354081,  17.04332325,  17.04314136,\n",
       "        17.04314911,  17.04306344,  17.04311472,  17.04304572,\n",
       "        17.04312   ,  17.04325037,  17.04312985,  17.0430889 ,\n",
       "        17.04291393,  17.04270023,  17.04269131,  17.04284434,\n",
       "        17.04294445,  17.04283918,  17.04277721,  17.04254204,\n",
       "        17.04256505,  17.04264802,  17.04267395,  17.04257714,\n",
       "        17.04272218,  17.04267196,  17.04271373,  17.04280433,\n",
       "        17.04275645,  17.04253067,  17.04246589,  17.04243819,\n",
       "        17.04228481,  17.04240627,  17.0421732 ,  17.04223399,\n",
       "        17.04204693,  17.0421664 ,  17.04205068,  17.04202145,\n",
       "        17.04192346,  17.04197498,  17.04207602,  17.04207825,\n",
       "        17.04204129,  17.04184354,  17.04174649,  17.041683  ,\n",
       "        17.04162866,  17.0415971 ,  17.04152727,  17.0414937 ,\n",
       "        17.04152539,  17.04154158,  17.04149113,  17.04161048,\n",
       "        17.04154922,  17.04143771,  17.04137176,  17.04129782,\n",
       "        17.04128538,  17.04116122,  17.0411807 ,  17.04109655,\n",
       "        17.04104562,  17.04096651,  17.04095583,  17.04100078,\n",
       "        17.04092215,  17.04103118,  17.04102449,  17.04111005,\n",
       "        17.04101369,  17.04094433,  17.04086159,  17.04084903,\n",
       "        17.04064986,  17.04058989,  17.04069247,  17.0405683 ,\n",
       "        17.04048027,  17.04049083,  17.04030657,  17.04015281,\n",
       "        17.04017007,  17.04012277,  17.03992747,  17.03991292,\n",
       "        17.03994519,  17.03981808,  17.03974238,  17.03963592,\n",
       "        17.03961268,  17.03949425,  17.03954977,  17.03929424,\n",
       "        17.03906243,  17.03912522,  17.03920798,  17.03921913,\n",
       "        17.03930316,  17.03934354,  17.03931091,  17.03935058,\n",
       "        17.03932641,  17.03916748,  17.03928357,  17.0392318 ,\n",
       "        17.03942676,  17.03939237,  17.03938686,  17.03937688,\n",
       "        17.03930845,  17.03948486,  17.03941033,  17.03933228,\n",
       "        17.03922369,  17.03911265,  17.03898049,  17.03893565,\n",
       "        17.03901852,  17.03894222,  17.03903119,  17.03912627,\n",
       "        17.03904856,  17.03899434,  17.03902321,  17.03894316,\n",
       "        17.03889269,  17.03873986,  17.03861849,  17.03857095,\n",
       "        17.0386368 ,  17.03855958,  17.03850793,  17.03854925,\n",
       "        17.03838444,  17.03838351,  17.03836425,  17.03819569,\n",
       "        17.03820086,  17.03818349,  17.038031  ,  17.03792806,\n",
       "        17.0379344 ,  17.037821  ,  17.03786831,  17.03798112,\n",
       "        17.03791479,  17.03793463,  17.03806223,  17.03807878,\n",
       "        17.03815742,  17.03810507,  17.03798839,  17.03787547,\n",
       "        17.03789578,  17.03786185,  17.03792066,  17.03777182,\n",
       "        17.03778719,  17.0378784 ,  17.03792112,  17.03790751,\n",
       "        17.03773494,  17.03763517,  17.03770665,  17.03773623,\n",
       "        17.03752353,  17.03752869,  17.03746378,  17.03750991,\n",
       "        17.03750243,  17.03760045,  17.03751558,  17.03739901,\n",
       "        17.03738868,  17.03721917,  17.03706375,  17.03688344,\n",
       "        17.03678201,  17.03674492,  17.03664537,  17.03668011,\n",
       "        17.03663046,  17.03681864,  17.03677931,  17.03683601,\n",
       "        17.03669396,  17.03662282,  17.03656331,  17.03660639,\n",
       "        17.03661461,  17.03654863,  17.03652867,  17.03637723,\n",
       "        17.03646528,  17.03651529,  17.03643945,  17.03641245,\n",
       "        17.03643476,  17.03638334,  17.03658362,  17.03658197,\n",
       "        17.03668199,  17.03669702,  17.03668176,  17.03664592,\n",
       "        17.03642921,  17.03637028,  17.03644729,  17.03646842,\n",
       "        17.03642757,  17.03644025,  17.03632755,  17.03614864,\n",
       "        17.03596256,  17.03592558,  17.0358137 ,  17.03580959,\n",
       "        17.03580301,  17.03569689,  17.03554098,  17.03542311,\n",
       "        17.03537568,  17.03526062,  17.03529267,  17.03507137,\n",
       "        17.03503814,  17.03508311,  17.03488035,  17.03492015,\n",
       "        17.03485546,  17.03479476,  17.03473852,  17.03467219,\n",
       "        17.03483386,  17.03490465,  17.03478079,  17.03464166,\n",
       "        17.03448351,  17.03443174,  17.0344234 ,  17.0342993 ,\n",
       "        17.03438571,  17.03437632,  17.03443092,  17.03435894,\n",
       "        17.03429002,  17.03418001,  17.03418154,  17.03430165,\n",
       "        17.03422663,  17.03410487,  17.03405427,  17.03391701,\n",
       "        17.03391901,  17.03395494,  17.03394637,  17.03386946,\n",
       "        17.03390927,  17.03384469,  17.03377718,  17.03377976,\n",
       "        17.03373256,  17.03366141,  17.03364473,  17.03356278,\n",
       "        17.03353061,  17.03353272,  17.03356536,  17.03365577,\n",
       "        17.03349303,  17.03348387,  17.03350853,  17.03357358,\n",
       "        17.03355644,  17.03342047,  17.03348646,  17.03338618,\n",
       "        17.03342787,  17.03330165,  17.03334556,  17.03347871,\n",
       "        17.03351793,  17.03357076,  17.03367949,  17.03361914,\n",
       "        17.03354939,  17.03333875,  17.03319902,  17.03316967,\n",
       "        17.03305812,  17.03319691,  17.03297863,  17.03300658,\n",
       "        17.03305425,  17.03289151,  17.03280309,  17.03258011,\n",
       "        17.03251846,  17.03244531,  17.03236253,  17.0324702 ,\n",
       "        17.03248699,  17.03241818,  17.03241185,  17.03225274,\n",
       "        17.03221082,  17.03221669,  17.03218545,  17.03205464,\n",
       "        17.03199428,  17.03187333,  17.03187439,  17.0318428 ,\n",
       "        17.03183787,  17.03176248,  17.03157424,  17.03147924,\n",
       "        17.03136769,  17.03136041,  17.03134502,  17.03127362,\n",
       "        17.03122102,  17.03118849,  17.03110828,  17.03097617,\n",
       "        17.03095738,  17.03087647,  17.03081799,  17.03072909,\n",
       "        17.03059968,  17.03022858,  17.03024281,  17.03016097,\n",
       "        17.03016566,  17.03015662,  17.03008169,  17.03006842,\n",
       "        17.03003801,  17.03011384,  17.03010483,  17.03006781,\n",
       "        17.03002635,  17.02980897,  17.02966076,  17.02942   ,\n",
       "        17.02926263,  17.02908317,  17.0289075 ,  17.02896056,\n",
       "        17.02891593,  17.02888445,  17.02886273,  17.02880893,\n",
       "        17.02867352,  17.02861691,  17.0285002 ,  17.02840998,\n",
       "        17.02829912,  17.02838602,  17.02835456,  17.02835829,\n",
       "        17.02831227,  17.02831216,  17.02833295,  17.02828915,\n",
       "        17.02828774,  17.02820646,  17.02823888,  17.02821292,\n",
       "        17.02797614,  17.02776695,  17.02780477,  17.0277989 ,\n",
       "        17.02772208,  17.02769495,  17.02774005,  17.02762776,\n",
       "        17.02763869,  17.02765407,  17.02765137,  17.02766253,\n",
       "        17.02760016,  17.02759441,  17.02757749,  17.02746873,\n",
       "        17.02746766,  17.02735184,  17.02728207,  17.02725636,\n",
       "        17.02703189,  17.02693404,  17.02688154,  17.02692312,\n",
       "        17.02688577,  17.02692911,  17.02700792,  17.02702457,\n",
       "        17.02703561,  17.02699121,  17.02693389,  17.02688103,\n",
       "        17.02683299,  17.02680022,  17.02675124,  17.02672129,\n",
       "        17.02665257,  17.02662121,  17.02657552,  17.02667336,\n",
       "        17.02656894,  17.02661651,  17.02667715,  17.02664404,\n",
       "        17.02658882,  17.02656717,  17.02659915,  17.02656766,\n",
       "        17.026586  ,  17.02655875,  17.0265221 ,  17.02650188,\n",
       "        17.0264629 ,  17.02641815,  17.02635859,  17.02634016,\n",
       "        17.02623114,  17.02614574,  17.02610522,  17.02598834,\n",
       "        17.02596332,  17.02584069,  17.02576785,  17.02566919,\n",
       "        17.02559002,  17.02550332,  17.02543777,  17.02529846,\n",
       "        17.0252517 ,  17.02520448,  17.02515667,  17.025009  ,\n",
       "        17.02495379,  17.02495955,  17.02490011,  17.02487132,\n",
       "        17.02478768,  17.02476701,  17.02470028,  17.024714  ,\n",
       "        17.02472284,  17.02469802,  17.02470037,  17.02470695,\n",
       "        17.0246984 ,  17.02467923,  17.02463074,  17.02455329,\n",
       "        17.02445499,  17.02435816,  17.02434726,  17.02433599,\n",
       "        17.02428336,  17.02424999,  17.02419125,  17.02413345,\n",
       "        17.0240612 ,  17.02403618,  17.02403019,  17.02400188,\n",
       "        17.02406085,  17.02392763,  17.02391553,  17.02387923,\n",
       "        17.02387923,  17.02379088,  17.02380416,  17.02387453,\n",
       "        17.02375493,  17.02375713,  17.02376903,  17.02373599,\n",
       "        17.02373563,  17.02367642,  17.02372753,  17.02373528,\n",
       "        17.02367302,  17.02356517,  17.02350137,  17.0234861 ,\n",
       "        17.02354945,  17.02343291,  17.02342821,  17.02345132,\n",
       "        17.02343385,  17.02345755,  17.02339047,  17.02329119,\n",
       "        17.02326241,  17.02323198,  17.02317735,  17.02311261,\n",
       "        17.023048  ,  17.02300347,  17.02300652,  17.02299078,\n",
       "        17.02294261,  17.02290677,  17.02291253,  17.02284603,\n",
       "        17.0228082 ,  17.02275345,  17.02274546,  17.02273277,\n",
       "        17.02270986,  17.02267791,  17.02269647,  17.02269189,\n",
       "        17.02263913,  17.02252552,  17.02249004,  17.02245362,\n",
       "        17.0224589 ,  17.02243905,  17.02238571,  17.02230652,\n",
       "        17.02224648,  17.02223461,  17.02220606,  17.02217539,\n",
       "        17.02219854,  17.02221816,  17.02218851,  17.02213129,\n",
       "        17.02210732,  17.02208582,  17.02202696,  17.02199982,\n",
       "        17.02197679,  17.02192161,  17.02188561,  17.02187508,\n",
       "        17.02182315,  17.02181868,  17.02180787,  17.02177027,\n",
       "        17.02174901,  17.02171764,  17.02169844,  17.02165043,\n",
       "        17.02159399,  17.02160578,  17.02153164,  17.0215193 ,\n",
       "        17.02149604,  17.02141261,  17.021385  ,  17.02136373,\n",
       "        17.02136702,  17.02132143,  17.02129805,  17.02126997,\n",
       "        17.02122297,  17.02121686,  17.02115529,  17.02115388,\n",
       "        17.02111863,  17.02108714,  17.02104449,  17.02098891,\n",
       "        17.02100501,  17.02098092,  17.02097963,  17.02095037,\n",
       "        17.02094485,  17.02091465,  17.02090384,  17.02088927,\n",
       "        17.02085684,  17.02084321,  17.02082206,  17.02078164,\n",
       "        17.02074533,  17.02070115,  17.02065943,  17.02062501,\n",
       "        17.02056285,  17.02052442,  17.02050656,  17.02046896,\n",
       "        17.02044558,  17.02040786,  17.02038953,  17.02035545,\n",
       "        17.02035099,  17.02032067,  17.02029141,  17.02025651,\n",
       "        17.02022185,  17.02017285,  17.02012855,  17.02008636,\n",
       "        17.02007038,  17.0200215 ,  17.01999435,  17.01995757,\n",
       "        17.01993501,  17.01990211,  17.01987778,  17.01984523])"
      ]
     },
     "execution_count": 30,
     "metadata": {},
     "output_type": "execute_result"
    }
   ],
   "source": [
    "np.linalg.norm(x_tran - x_test[i].reshape(1, 784), axis=1)"
   ]
  },
  {
   "cell_type": "code",
   "execution_count": null,
   "metadata": {},
   "outputs": [],
   "source": []
  },
  {
   "cell_type": "code",
   "execution_count": null,
   "metadata": {},
   "outputs": [],
   "source": []
  },
  {
   "cell_type": "code",
   "execution_count": null,
   "metadata": {},
   "outputs": [],
   "source": []
  },
  {
   "cell_type": "code",
   "execution_count": null,
   "metadata": {},
   "outputs": [],
   "source": []
  },
  {
   "cell_type": "markdown",
   "metadata": {
    "collapsed": true
   },
   "source": [
    "------"
   ]
  },
  {
   "cell_type": "code",
   "execution_count": 5,
   "metadata": {
    "scrolled": true
   },
   "outputs": [
    {
     "name": "stdout",
     "output_type": "stream",
     "text": [
      "x_train shape: (60000, 28, 28, 1)\n",
      "60000 train samples\n",
      "10000 test samples\n",
      "Train on 60000 samples, validate on 10000 samples\n",
      "Epoch 1/12\n",
      "60000/60000 [==============================] - 5s - loss: 0.3329 - acc: 0.8986 - val_loss: 0.0811 - val_acc: 0.9740\n",
      "Epoch 2/12\n",
      "60000/60000 [==============================] - 3s - loss: 0.1176 - acc: 0.9656 - val_loss: 0.0568 - val_acc: 0.9816\n",
      "Epoch 3/12\n",
      "60000/60000 [==============================] - 3s - loss: 0.0885 - acc: 0.9740 - val_loss: 0.0459 - val_acc: 0.9849\n",
      "Epoch 4/12\n",
      "60000/60000 [==============================] - 3s - loss: 0.0734 - acc: 0.9774 - val_loss: 0.0405 - val_acc: 0.9863\n",
      "Epoch 5/12\n",
      "60000/60000 [==============================] - 3s - loss: 0.0666 - acc: 0.9805 - val_loss: 0.0385 - val_acc: 0.9857\n",
      "Epoch 6/12\n",
      "60000/60000 [==============================] - 3s - loss: 0.0582 - acc: 0.9829 - val_loss: 0.0349 - val_acc: 0.9884\n",
      "Epoch 7/12\n",
      "60000/60000 [==============================] - 3s - loss: 0.0531 - acc: 0.9842 - val_loss: 0.0323 - val_acc: 0.9882\n",
      "Epoch 8/12\n",
      "60000/60000 [==============================] - 3s - loss: 0.0492 - acc: 0.9850 - val_loss: 0.0308 - val_acc: 0.9892\n",
      "Epoch 9/12\n",
      "60000/60000 [==============================] - 3s - loss: 0.0457 - acc: 0.9860 - val_loss: 0.0318 - val_acc: 0.9889\n",
      "Epoch 10/12\n",
      "60000/60000 [==============================] - 3s - loss: 0.0426 - acc: 0.9873 - val_loss: 0.0303 - val_acc: 0.9890\n",
      "Epoch 11/12\n",
      "60000/60000 [==============================] - 3s - loss: 0.0401 - acc: 0.9881 - val_loss: 0.0326 - val_acc: 0.9893\n",
      "Epoch 12/12\n",
      "60000/60000 [==============================] - 3s - loss: 0.0379 - acc: 0.9888 - val_loss: 0.0304 - val_acc: 0.9907\n",
      "Test loss: 0.0304064867662\n",
      "Test accuracy: 0.9907\n"
     ]
    }
   ],
   "source": [
    "'''Trains a simple convnet on the MNIST dataset.\n",
    "\n",
    "Gets to 99.25% test accuracy after 12 epochs\n",
    "(there is still a lot of margin for parameter tuning).\n",
    "16 seconds per epoch on a GRID K520 GPU.\n",
    "'''\n",
    "\n",
    "from __future__ import print_function\n",
    "import keras\n",
    "from keras.datasets import mnist\n",
    "from keras.models import Sequential\n",
    "from keras.layers import Dense, Dropout, Flatten\n",
    "from keras.layers import Conv2D, MaxPooling2D\n",
    "from keras import backend as K\n",
    "\n",
    "batch_size = 128\n",
    "num_classes = 10\n",
    "epochs = 12\n",
    "\n",
    "# input image dimensions\n",
    "img_rows, img_cols = 28, 28\n",
    "\n",
    "# the data, shuffled and split between train and test sets\n",
    "(x_train, y_train), (x_test, y_test) = mnist.load_data()\n",
    "\n",
    "if K.image_data_format() == 'channels_first':\n",
    "    x_train = x_train.reshape(x_train.shape[0], 1, img_rows, img_cols)\n",
    "    x_test = x_test.reshape(x_test.shape[0], 1, img_rows, img_cols)\n",
    "    input_shape = (1, img_rows, img_cols)\n",
    "else:\n",
    "    x_train = x_train.reshape(x_train.shape[0], img_rows, img_cols, 1)\n",
    "    x_test = x_test.reshape(x_test.shape[0], img_rows, img_cols, 1)\n",
    "    input_shape = (img_rows, img_cols, 1)\n",
    "\n",
    "x_train = x_train.astype('float32')\n",
    "x_test = x_test.astype('float32')\n",
    "x_train /= 255\n",
    "x_test /= 255\n",
    "print('x_train shape:', x_train.shape)\n",
    "print(x_train.shape[0], 'train samples')\n",
    "print(x_test.shape[0], 'test samples')\n",
    "\n",
    "# convert class vectors to binary class matrices\n",
    "y_train = keras.utils.to_categorical(y_train, num_classes)\n",
    "y_test = keras.utils.to_categorical(y_test, num_classes)\n",
    "\n",
    "model = Sequential()\n",
    "model.add(Conv2D(32, kernel_size=(3, 3),\n",
    "                 activation='relu',\n",
    "                 input_shape=input_shape))\n",
    "model.add(Conv2D(64, (3, 3), activation='relu'))\n",
    "model.add(MaxPooling2D(pool_size=(2, 2)))\n",
    "model.add(Dropout(0.25))\n",
    "model.add(Flatten())\n",
    "model.add(Dense(128, activation='relu'))\n",
    "model.add(Dropout(0.5))\n",
    "model.add(Dense(num_classes, activation='softmax'))\n",
    "\n",
    "model.compile(loss=keras.losses.categorical_crossentropy,\n",
    "              optimizer=keras.optimizers.Adadelta(),\n",
    "              metrics=['accuracy'])\n",
    "\n",
    "model.fit(x_train, y_train,\n",
    "          batch_size=batch_size,\n",
    "          epochs=epochs,\n",
    "          verbose=1,\n",
    "          validation_data=(x_test, y_test))\n",
    "score = model.evaluate(x_test, y_test, verbose=0)\n",
    "print('Test loss:', score[0])\n",
    "print('Test accuracy:', score[1])"
   ]
  },
  {
   "cell_type": "code",
   "execution_count": 6,
   "metadata": {
    "collapsed": true
   },
   "outputs": [],
   "source": [
    "model.save('test_cnn_mnist.h5')"
   ]
  }
 ],
 "metadata": {
  "kernelspec": {
   "display_name": "Python 3",
   "language": "python",
   "name": "python3"
  },
  "language_info": {
   "codemirror_mode": {
    "name": "ipython",
    "version": 3
   },
   "file_extension": ".py",
   "mimetype": "text/x-python",
   "name": "python",
   "nbconvert_exporter": "python",
   "pygments_lexer": "ipython3",
   "version": "3.6.2"
  }
 },
 "nbformat": 4,
 "nbformat_minor": 2
}
