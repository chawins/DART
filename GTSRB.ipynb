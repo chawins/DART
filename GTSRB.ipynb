{
 "cells": [
  {
   "cell_type": "code",
   "execution_count": 1,
   "metadata": {},
   "outputs": [
    {
     "name": "stderr",
     "output_type": "stream",
     "text": [
      "Using TensorFlow backend.\n"
     ]
    }
   ],
   "source": [
    "%matplotlib inline\n",
    "\n",
    "%reload_ext autoreload\n",
    "%autoreload 2\n",
    "\n",
    "from parameters import *\n",
    "from lib.utils import *\n",
    "from lib.keras_utils import *\n",
    "from lib.RandomTransform import *\n",
    "from lib.OptCarlini import *\n",
    "from lib.OptTransform import *"
   ]
  },
  {
   "cell_type": "code",
   "execution_count": 2,
   "metadata": {
    "collapsed": true
   },
   "outputs": [],
   "source": [
    "# Build and load trained model\n",
    "model = built_mltscl()\n",
    "model.load_weights(WEIGTHS_PATH)\n",
    "\n",
    "# Load dataset\n",
    "x_train, y_train, x_val, y_val, x_test, y_test = load_dataset_GTSRB(\n",
    "    n_channel=N_CHANNEL)\n",
    "\n",
    "y_train = keras.utils.to_categorical(y_train, NUM_LABELS)\n",
    "y_test = keras.utils.to_categorical(y_test, NUM_LABELS)\n",
    "y_val = keras.utils.to_categorical(y_val, NUM_LABELS)\n",
    "\n",
    "# Read sign names\n",
    "signnames = read_csv(\"./signnames.csv\").values[:, 1]"
   ]
  },
  {
   "cell_type": "code",
   "execution_count": 3,
   "metadata": {
    "scrolled": true
   },
   "outputs": [
    {
     "name": "stdout",
     "output_type": "stream",
     "text": [
      "____________________________________________________________________________________________________\n",
      "Layer (type)                     Output Shape          Param #     Connected to                     \n",
      "====================================================================================================\n",
      "input_1 (InputLayer)             (None, 32, 32, 3)     0                                            \n",
      "____________________________________________________________________________________________________\n",
      "conv2d_1 (Conv2D)                (None, 32, 32, 32)    2432        input_1[0][0]                    \n",
      "____________________________________________________________________________________________________\n",
      "dropout_1 (Dropout)              (None, 32, 32, 32)    0           conv2d_1[0][0]                   \n",
      "____________________________________________________________________________________________________\n",
      "max_pooling2d_1 (MaxPooling2D)   (None, 16, 16, 32)    0           dropout_1[0][0]                  \n",
      "____________________________________________________________________________________________________\n",
      "conv2d_2 (Conv2D)                (None, 16, 16, 64)    51264       max_pooling2d_1[0][0]            \n",
      "____________________________________________________________________________________________________\n",
      "dropout_2 (Dropout)              (None, 16, 16, 64)    0           conv2d_2[0][0]                   \n",
      "____________________________________________________________________________________________________\n",
      "max_pooling2d_2 (MaxPooling2D)   (None, 8, 8, 64)      0           dropout_2[0][0]                  \n",
      "____________________________________________________________________________________________________\n",
      "conv2d_3 (Conv2D)                (None, 8, 8, 128)     204928      max_pooling2d_2[0][0]            \n",
      "____________________________________________________________________________________________________\n",
      "dropout_3 (Dropout)              (None, 8, 8, 128)     0           conv2d_3[0][0]                   \n",
      "____________________________________________________________________________________________________\n",
      "max_pooling2d_4 (MaxPooling2D)   (None, 4, 4, 32)      0           max_pooling2d_1[0][0]            \n",
      "____________________________________________________________________________________________________\n",
      "max_pooling2d_5 (MaxPooling2D)   (None, 4, 4, 64)      0           max_pooling2d_2[0][0]            \n",
      "____________________________________________________________________________________________________\n",
      "max_pooling2d_3 (MaxPooling2D)   (None, 4, 4, 128)     0           dropout_3[0][0]                  \n",
      "____________________________________________________________________________________________________\n",
      "flatten_1 (Flatten)              (None, 512)           0           max_pooling2d_4[0][0]            \n",
      "____________________________________________________________________________________________________\n",
      "flatten_2 (Flatten)              (None, 1024)          0           max_pooling2d_5[0][0]            \n",
      "____________________________________________________________________________________________________\n",
      "flatten_3 (Flatten)              (None, 2048)          0           max_pooling2d_3[0][0]            \n",
      "____________________________________________________________________________________________________\n",
      "concatenate_1 (Concatenate)      (None, 3584)          0           flatten_1[0][0]                  \n",
      "                                                                   flatten_2[0][0]                  \n",
      "                                                                   flatten_3[0][0]                  \n",
      "____________________________________________________________________________________________________\n",
      "dense_1 (Dense)                  (None, 1024)          3671040     concatenate_1[0][0]              \n",
      "____________________________________________________________________________________________________\n",
      "dropout_4 (Dropout)              (None, 1024)          0           dense_1[0][0]                    \n",
      "____________________________________________________________________________________________________\n",
      "dense_2 (Dense)                  (None, 43)            44075       dropout_4[0][0]                  \n",
      "====================================================================================================\n",
      "Total params: 3,973,739\n",
      "Trainable params: 3,973,739\n",
      "Non-trainable params: 0\n",
      "____________________________________________________________________________________________________\n"
     ]
    }
   ],
   "source": [
    "model.summary()"
   ]
  },
  {
   "cell_type": "markdown",
   "metadata": {},
   "source": [
    "### Evaluate Attacks"
   ]
  },
  {
   "cell_type": "code",
   "execution_count": 4,
   "metadata": {
    "collapsed": true
   },
   "outputs": [],
   "source": [
    "SAMPLE_IMG_DIR = './traffic_sign_samples'\n",
    "SAMPLE_LABEL = './traffic_sign_samples/samples_label.txt'"
   ]
  },
  {
   "cell_type": "code",
   "execution_count": 6,
   "metadata": {
    "collapsed": true
   },
   "outputs": [],
   "source": [
    "# Load sample images and labels\n",
    "x_smp, x_smp_full, y_smp, masks, masks_full = load_samples(SAMPLE_IMG_DIR, SAMPLE_LABEL)"
   ]
  },
  {
   "cell_type": "code",
   "execution_count": 7,
   "metadata": {
    "collapsed": true
   },
   "outputs": [],
   "source": [
    "# Set target class to attack\n",
    "tg = 10\n",
    "size = 10\n",
    "y_target = np.zeros((len(x_test))) + tg\n",
    "y_target = keras.utils.to_categorical(y_target, NUM_LABELS)\n",
    "\n",
    "# Filter samples\n",
    "x_fil, y_fil, del_id = filter_samples(model, x_smp, y_smp, y_target=y_target)\n",
    "x_fil_full = np.delete(x_smp_full, del_id, axis=0)\n",
    "masks_fil = np.delete(masks, del_id, axis=0)\n",
    "masks_fil_full = np.delete(masks_full, del_id, axis=0)\n",
    "\n",
    "# Set samples to attack\n",
    "ind = np.random.choice(range(len(y_fil)), size=size)\n",
    "x_ben = np.copy(x_fil[ind])\n",
    "x_ben_full = np.copy(x_fil_full[ind])\n",
    "y_ben = np.copy(y_fil[ind])\n",
    "y_tg = np.copy(y_target[ind])\n",
    "masks_ben = np.copy(masks_fil[ind])\n",
    "masks_ben_full = np.copy(masks_fil_full[ind])"
   ]
  },
  {
   "cell_type": "code",
   "execution_count": 6,
   "metadata": {},
   "outputs": [
    {
     "name": "stdout",
     "output_type": "stream",
     "text": [
      "Finished in 161.71s\n",
      "Finished in 161.97s\n",
      "Finished in 162.45s\n",
      "Finished in 179.18s\n",
      "Finished in 181.01s\n",
      "Finished in 182.90s\n",
      "Finished in 177.60s\n",
      "Finished in 182.69s\n",
      "Finished in 185.91s\n",
      "Finished in 192.66s\n"
     ]
    }
   ],
   "source": [
    "# Optimization attack\n",
    "x_opt = np.zeros((size,) + INPUT_SHAPE)\n",
    "norm_opt = np.zeros((size,))\n",
    "opt = OptCarlini(model, c=1, lr=0.01, target=True, use_bound=False, init_scl=0.1,\n",
    "                 loss_op=0, var_change=True, k=5)\n",
    "\n",
    "for i, x in enumerate(x_ben):\n",
    "    x, norm = opt.optimize_search(x, y_tg[i], n_step=1000, search_step=10, prog=False)\n",
    "    x_opt[i] = np.copy(x)\n",
    "    norm_opt[i] = norm\n",
    "    \n",
    "norm_opt = np.array(norm_opt)"
   ]
  },
  {
   "cell_type": "code",
   "execution_count": 13,
   "metadata": {},
   "outputs": [
    {
     "name": "stdout",
     "output_type": "stream",
     "text": [
      "1.59478321671\n"
     ]
    }
   ],
   "source": [
    "sum_norm = 0\n",
    "n_suc = 0\n",
    "for norm in norm_opt:\n",
    "    if norm is not None:\n",
    "        sum_norm += norm\n",
    "        n_suc += 1\n",
    "print sum_norm / n_suc"
   ]
  },
  {
   "cell_type": "code",
   "execution_count": 36,
   "metadata": {},
   "outputs": [
    {
     "name": "stdout",
     "output_type": "stream",
     "text": [
      "1.8643779099\n"
     ]
    }
   ],
   "source": [
    "# Optimization attack\n",
    "x_opt = np.zeros((size,) + INPUT_SHAPE)\n",
    "norm_opt = np.zeros((size,))\n",
    "opt = OptCarlini(model, c=1, lr=0.01, target=True, use_bound=False, init_scl=0.1,\n",
    "                 loss_op=0, var_change=True, k=5, use_mask=True)\n",
    "\n",
    "for i, x in enumerate(x_ben):\n",
    "    x, norm = opt.optimize(x, y_tg[i], n_step=1000, prog=False, mask=masks_ben[i])\n",
    "    x_opt[i] = np.copy(x)\n",
    "    norm_opt[i] = norm\n",
    "    \n",
    "sum_norm = 0\n",
    "n_suc = 0\n",
    "for norm in norm_opt:\n",
    "    if norm is not None:\n",
    "        sum_norm += norm\n",
    "        n_suc += 1\n",
    "print sum_norm / n_suc"
   ]
  },
  {
   "cell_type": "code",
   "execution_count": 37,
   "metadata": {},
   "outputs": [
    {
     "name": "stdout",
     "output_type": "stream",
     "text": [
      "[ 1.93199635  2.44927192  1.16068017  1.86288416  0.66149539  1.39702642\n",
      "  1.09721565  3.22358394  3.534168    1.3254571 ]\n"
     ]
    }
   ],
   "source": [
    "print norm_opt"
   ]
  },
  {
   "cell_type": "code",
   "execution_count": 32,
   "metadata": {},
   "outputs": [
    {
     "name": "stdout",
     "output_type": "stream",
     "text": [
      "1.84612784982\n"
     ]
    }
   ],
   "source": [
    "# Optimization attack\n",
    "x_opt = np.zeros((size,) + INPUT_SHAPE)\n",
    "norm_opt = np.zeros((size,))\n",
    "opt = OptCarlini(model, c=1, lr=0.01, target=True, use_bound=False, init_scl=0.1,\n",
    "                 loss_op=0, var_change=True, k=5, use_mask=False)\n",
    "\n",
    "for i, x in enumerate(x_ben):\n",
    "    x, norm = opt.optimize(x, y_tg[i], n_step=1000, prog=False)\n",
    "    x_opt[i] = np.copy(x)\n",
    "    norm_opt[i] = norm\n",
    "    \n",
    "sum_norm = 0\n",
    "n_suc = 0\n",
    "for norm in norm_opt:\n",
    "    if norm is not None:\n",
    "        sum_norm += norm\n",
    "        n_suc += 1\n",
    "print sum_norm / n_suc"
   ]
  },
  {
   "cell_type": "code",
   "execution_count": 33,
   "metadata": {},
   "outputs": [
    {
     "name": "stdout",
     "output_type": "stream",
     "text": [
      "[ 1.70868933  2.47164607  1.22669017  1.81544006  0.61086053  1.32873011\n",
      "  1.14313006  3.17862248  3.80720401  1.17026567]\n"
     ]
    }
   ],
   "source": [
    "print norm_opt"
   ]
  },
  {
   "cell_type": "code",
   "execution_count": 38,
   "metadata": {},
   "outputs": [
    {
     "data": {
      "text/plain": [
       "<matplotlib.image.AxesImage at 0x7fde0b798910>"
      ]
     },
     "execution_count": 38,
     "metadata": {},
     "output_type": "execute_result"
    },
    {
     "data": {
      "image/png": "[encoded data removed]",
      "text/plain": [
       "<matplotlib.figure.Figure at 0x7fde0bd1eb90>"
      ]
     },
     "metadata": {},
     "output_type": "display_data"
    }
   ],
   "source": [
    "plt.imshow(x_opt[0] - x_ben[0])"
   ]
  },
  {
   "cell_type": "code",
   "execution_count": 35,
   "metadata": {},
   "outputs": [
    {
     "data": {
      "text/plain": [
       "array([[[  1.53982639e-03,   1.91122293e-03,  -1.10447407e-04],\n",
       "        [ -2.95042992e-05,  -3.27682495e-03,  -3.55541706e-03],\n",
       "        [ -6.46412373e-04,  -3.64184380e-03,  -3.34829092e-03],\n",
       "        ..., \n",
       "        [ -5.29795885e-04,  -2.09802389e-03,   7.57962465e-04],\n",
       "        [  4.13194299e-03,  -3.73929739e-04,   4.15906310e-03],\n",
       "        [ -1.04379654e-03,  -3.68416309e-03,  -2.05016136e-03]],\n",
       "\n",
       "       [[  1.58962607e-03,   1.02624297e-03,  -3.20279598e-03],\n",
       "        [  1.63671374e-03,  -3.59898806e-03,  -3.80548835e-03],\n",
       "        [ -8.00669193e-04,  -4.61328030e-03,  -3.28478217e-03],\n",
       "        ..., \n",
       "        [ -3.79651785e-04,   1.95017457e-03,   9.63017344e-04],\n",
       "        [  1.36211514e-03,  -4.99665737e-04,  -1.02292001e-03],\n",
       "        [  2.01910734e-03,   1.56646967e-03,   1.49823725e-03]],\n",
       "\n",
       "       [[ -3.78340483e-04,  -1.95038319e-03,  -2.29886174e-03],\n",
       "        [  1.06790662e-03,  -3.68559361e-03,  -2.02676654e-03],\n",
       "        [  7.00920820e-04,  -4.73755598e-03,  -1.96069479e-03],\n",
       "        ..., \n",
       "        [ -6.01768494e-04,  -1.44568086e-03,  -2.74609029e-03],\n",
       "        [ -1.40282512e-03,   3.55240703e-03,  -4.72147763e-03],\n",
       "        [ -1.67152286e-03,   3.31962109e-03,   1.66460872e-04]],\n",
       "\n",
       "       ..., \n",
       "       [[ -3.95506620e-04,  -3.76263261e-03,  -2.77826190e-03],\n",
       "        [ -3.19948792e-03,  -2.69019604e-03,   6.68078661e-04],\n",
       "        [ -1.02183223e-02,  -1.40319467e-02,  -1.08853579e-02],\n",
       "        ..., \n",
       "        [  1.82273984e-03,   4.78118658e-04,  -2.46822834e-04],\n",
       "        [  3.78745794e-03,   2.66346335e-03,   3.41737270e-03],\n",
       "        [  3.99851799e-03,   3.29229236e-03,   1.12438202e-03]],\n",
       "\n",
       "       [[  2.10359693e-03,   4.48444486e-03,   4.53789532e-03],\n",
       "        [  4.38448414e-03,   2.92840227e-03,   4.67240438e-03],\n",
       "        [  5.06575406e-03,   1.12421811e-03,   2.18251348e-03],\n",
       "        ..., \n",
       "        [ -6.95586205e-04,   8.96096230e-04,  -1.37281418e-03],\n",
       "        [  2.99489498e-03,   2.73585320e-03,   9.07957554e-04],\n",
       "        [  2.66981125e-03,   6.08444214e-04,  -2.31862068e-05]],\n",
       "\n",
       "       [[  1.52358413e-03,   5.45397401e-03,   5.51854074e-03],\n",
       "        [  2.41744146e-03,   3.31469998e-03,   6.58777170e-03],\n",
       "        [  5.40729612e-03,   5.78259677e-03,   6.45615906e-03],\n",
       "        ..., \n",
       "        [  2.87145376e-03,   1.87051296e-03,  -1.32334232e-03],\n",
       "        [  3.57508659e-03,   2.27183104e-03,   2.30610371e-04],\n",
       "        [ -5.63442707e-04,   4.36723232e-04,  -6.57200813e-04]]])"
      ]
     },
     "execution_count": 35,
     "metadata": {},
     "output_type": "execute_result"
    }
   ],
   "source": [
    "x_opt[0] - x_ben[0]"
   ]
  },
  {
   "cell_type": "code",
   "execution_count": 24,
   "metadata": {},
   "outputs": [
    {
     "data": {
      "image/png": "[encoded data removed]",
      "text/plain": [
       "<matplotlib.figure.Figure at 0x7fde303b6d10>"
      ]
     },
     "metadata": {},
     "output_type": "display_data"
    },
    {
     "data": {
      "image/png": "[encoded data removed]",
      "text/plain": [
       "<matplotlib.figure.Figure at 0x7fde300d7f90>"
      ]
     },
     "metadata": {},
     "output_type": "display_data"
    },
    {
     "data": {
      "image/png": "[encoded data removed]",
      "text/plain": [
       "<matplotlib.figure.Figure at 0x7fde30603190>"
      ]
     },
     "metadata": {},
     "output_type": "display_data"
    },
    {
     "data": {
      "image/png": "[encoded data removed]",
      "text/plain": [
       "<matplotlib.figure.Figure at 0x7fde3055fe50>"
      ]
     },
     "metadata": {},
     "output_type": "display_data"
    },
    {
     "data": {
      "image/png": "[encoded data removed]",
      "text/plain": [
       "<matplotlib.figure.Figure at 0x7fde1e29ed90>"
      ]
     },
     "metadata": {},
     "output_type": "display_data"
    },
    {
     "data": {
      "image/png": "[encoded data removed]",
      "text/plain": [
       "<matplotlib.figure.Figure at 0x7fde300f7390>"
      ]
     },
     "metadata": {},
     "output_type": "display_data"
    },
    {
     "data": {
      "image/png": "[encoded data removed]",
      "text/plain": [
       "<matplotlib.figure.Figure at 0x7fde1e29e990>"
      ]
     },
     "metadata": {},
     "output_type": "display_data"
    },
    {
     "data": {
      "image/png": "[encoded data removed]",
      "text/plain": [
       "<matplotlib.figure.Figure at 0x7fde30494510>"
      ]
     },
     "metadata": {},
     "output_type": "display_data"
    },
    {
     "data": {
      "image/png": "[encoded data removed]",
      "text/plain": [
       "<matplotlib.figure.Figure at 0x7fde1e311250>"
      ]
     },
     "metadata": {},
     "output_type": "display_data"
    },
    {
     "data": {
      "image/png": "[encoded data removed]",
      "text/plain": [
       "<matplotlib.figure.Figure at 0x7fde3006ee50>"
      ]
     },
     "metadata": {},
     "output_type": "display_data"
    }
   ],
   "source": [
    "# FG attack\n",
    "x_fg = fg(model, x_ben, y_tg, [1.6], target=True, mask=masks_ben)"
   ]
  },
  {
   "cell_type": "code",
   "execution_count": 25,
   "metadata": {
    "collapsed": true
   },
   "outputs": [],
   "source": [
    "# Iterative attack\n",
    "x_it = iterative(model, x_ben, y_tg, n_step=32, step_size=0.05, target=True, mask=masks_ben)"
   ]
  },
  {
   "cell_type": "code",
   "execution_count": 32,
   "metadata": {},
   "outputs": [
    {
     "name": "stdout",
     "output_type": "stream",
     "text": [
      "0.9\n",
      "[0.20000000000000001]\n",
      "0.7\n"
     ]
    }
   ],
   "source": [
    "# Evaluate each attack\n",
    "print eval_adv(model, x_opt, y_tg, target=True)\n",
    "print eval_adv(model, x_fg, y_tg, target=True)\n",
    "print eval_adv(model, x_it, y_tg, target=True)"
   ]
  },
  {
   "cell_type": "code",
   "execution_count": 33,
   "metadata": {},
   "outputs": [
    {
     "data": {
      "text/plain": [
       "(1, 10, 32, 32, 3)"
      ]
     },
     "execution_count": 33,
     "metadata": {},
     "output_type": "execute_result"
    }
   ],
   "source": [
    "x_fg.shape"
   ]
  },
  {
   "cell_type": "code",
   "execution_count": null,
   "metadata": {
    "collapsed": true
   },
   "outputs": [],
   "source": []
  },
  {
   "cell_type": "code",
   "execution_count": null,
   "metadata": {
    "collapsed": true
   },
   "outputs": [],
   "source": []
  },
  {
   "cell_type": "markdown",
   "metadata": {},
   "source": [
    "### Model trainer"
   ]
  },
  {
   "cell_type": "code",
   "execution_count": 23,
   "metadata": {
    "collapsed": true
   },
   "outputs": [],
   "source": [
    "filepath = './weights.{epoch:02d}-{val_loss:.2f}.hdf5'\n",
    "modelCheckpoint = keras.callbacks.ModelCheckpoint(filepath, monitor='val_loss', verbose=0, \n",
    "                                                  save_best_only=False, save_weights_only=False, \n",
    "                                                  mode='auto', period=1)\n",
    "earlyStop = keras.callbacks.EarlyStopping(monitor='val_loss', min_delta=0.001, patience=5, \n",
    "                                          verbose=0, mode='auto')"
   ]
  },
  {
   "cell_type": "code",
   "execution_count": 24,
   "metadata": {
    "scrolled": true
   },
   "outputs": [
    {
     "name": "stdout",
     "output_type": "stream",
     "text": [
      "Train on 34799 samples, validate on 4410 samples\n",
      "Epoch 1/100\n",
      "34799/34799 [==============================] - 19s - loss: 1.4503 - acc: 0.6749 - val_loss: 0.6975 - val_acc: 0.8993\n",
      "Epoch 2/100\n",
      "34799/34799 [==============================] - 18s - loss: 0.4860 - acc: 0.9393 - val_loss: 0.5030 - val_acc: 0.9263\n",
      "Epoch 3/100\n",
      "34799/34799 [==============================] - 18s - loss: 0.3762 - acc: 0.9621 - val_loss: 0.4678 - val_acc: 0.9202\n",
      "Epoch 4/100\n",
      "34799/34799 [==============================] - 18s - loss: 0.3374 - acc: 0.9697 - val_loss: 0.4584 - val_acc: 0.9517\n",
      "Epoch 5/100\n",
      "34799/34799 [==============================] - 18s - loss: 0.3217 - acc: 0.9740 - val_loss: 0.3861 - val_acc: 0.9594\n",
      "Epoch 6/100\n",
      "34799/34799 [==============================] - 18s - loss: 0.2947 - acc: 0.9770 - val_loss: 0.3729 - val_acc: 0.9628\n",
      "Epoch 7/100\n",
      "34799/34799 [==============================] - 18s - loss: 0.2859 - acc: 0.9786 - val_loss: 0.3604 - val_acc: 0.9531\n",
      "Epoch 8/100\n",
      "34799/34799 [==============================] - 18s - loss: 0.2702 - acc: 0.9814 - val_loss: 0.3251 - val_acc: 0.9696.981\n",
      "Epoch 9/100\n",
      "34799/34799 [==============================] - 18s - loss: 0.2726 - acc: 0.9813 - val_loss: 0.3953 - val_acc: 0.9580\n",
      "Epoch 10/100\n",
      "34799/34799 [==============================] - 18s - loss: 0.2594 - acc: 0.9846 - val_loss: 0.3119 - val_acc: 0.9642.9\n",
      "Epoch 11/100\n",
      "34799/34799 [==============================] - 18s - loss: 0.2273 - acc: 0.9856 - val_loss: 0.3474 - val_acc: 0.9599\n",
      "Epoch 12/100\n",
      "34799/34799 [==============================] - 18s - loss: 0.2643 - acc: 0.9844 - val_loss: 0.3423 - val_acc: 0.9642\n",
      "Epoch 13/100\n",
      "34799/34799 [==============================] - 18s - loss: 0.2290 - acc: 0.9883 - val_loss: 0.3574 - val_acc: 0.9510\n",
      "Epoch 14/100\n",
      "34799/34799 [==============================] - 18s - loss: 0.2297 - acc: 0.9868 - val_loss: 0.3298 - val_acc: 0.9705\n",
      "Epoch 15/100\n",
      "34799/34799 [==============================] - 18s - loss: 0.2410 - acc: 0.9871 - val_loss: 0.2927 - val_acc: 0.9732\n",
      "Epoch 16/100\n",
      "34799/34799 [==============================] - 18s - loss: 0.2019 - acc: 0.9904 - val_loss: 0.2426 - val_acc: 0.9771\n",
      "Epoch 17/100\n",
      "34799/34799 [==============================] - 18s - loss: 0.2035 - acc: 0.9898 - val_loss: 0.2636 - val_acc: 0.9730\n",
      "Epoch 18/100\n",
      "34799/34799 [==============================] - 18s - loss: 0.2114 - acc: 0.9890 - val_loss: 0.3196 - val_acc: 0.9594\n",
      "Epoch 19/100\n",
      "34799/34799 [==============================] - 18s - loss: 0.2161 - acc: 0.9886 - val_loss: 0.3080 - val_acc: 0.9728\n",
      "Epoch 20/100\n",
      "34799/34799 [==============================] - 18s - loss: 0.2171 - acc: 0.9892 - val_loss: 0.3701 - val_acc: 0.9506\n",
      "Epoch 21/100\n",
      "34799/34799 [==============================] - 18s - loss: 0.2351 - acc: 0.9880 - val_loss: 0.2735 - val_acc: 0.9773\n",
      "Epoch 22/100\n",
      "34799/34799 [==============================] - 18s - loss: 0.1962 - acc: 0.9916 - val_loss: 0.2717 - val_acc: 0.9735\n"
     ]
    },
    {
     "data": {
      "text/plain": [
       "<keras.callbacks.History at 0x7f80a5d78290>"
      ]
     },
     "execution_count": 24,
     "metadata": {},
     "output_type": "execute_result"
    }
   ],
   "source": [
    "model.fit(x_train, y_train, batch_size=batch_size, epochs=num_epoch, verbose=1, \n",
    "          callbacks=[modelCheckpoint, earlyStop], validation_data=(x_val, y_val), \n",
    "          shuffle=True, initial_epoch=0)"
   ]
  },
  {
   "cell_type": "code",
   "execution_count": 98,
   "metadata": {
    "collapsed": true
   },
   "outputs": [],
   "source": [
    "# Try attack overfitted model"
   ]
  }
 ],
 "metadata": {
  "kernelspec": {
   "display_name": "Python 2",
   "language": "python",
   "name": "python2"
  },
  "language_info": {
   "codemirror_mode": {
    "name": "ipython",
    "version": 2
   },
   "file_extension": ".py",
   "mimetype": "text/x-python",
   "name": "python",
   "nbconvert_exporter": "python",
   "pygments_lexer": "ipython2",
   "version": "2.7.12"
  }
 },
 "nbformat": 4,
 "nbformat_minor": 2
}
