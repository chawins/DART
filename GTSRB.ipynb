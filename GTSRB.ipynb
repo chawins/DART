{
 "cells": [
  {
   "cell_type": "markdown",
   "metadata": {},
   "source": [
    "# Attack Examples on GTSRB"
   ]
  },
  {
   "cell_type": "code",
   "execution_count": 1,
   "metadata": {},
   "outputs": [],
   "source": [
    "# Specify visible cuda device\n",
    "import os\n",
    "os.environ[\"CUDA_DEVICE_ORDER\"] = \"PCI_BUS_ID\"\n",
    "os.environ[\"CUDA_VISIBLE_DEVICES\"] = \"0\""
   ]
  },
  {
   "cell_type": "code",
   "execution_count": 2,
   "metadata": {},
   "outputs": [
    {
     "name": "stderr",
     "output_type": "stream",
     "text": [
      "Using TensorFlow backend.\n"
     ]
    }
   ],
   "source": [
    "%matplotlib inline\n",
    "\n",
    "%reload_ext autoreload\n",
    "%autoreload 2\n",
    "\n",
    "from parameters import *\n",
    "from lib.utils import *\n",
    "from lib.keras_utils import *\n",
    "from lib.RandomTransform import *\n",
    "from lib.OptCarlini import *\n",
    "from lib.OptTransform import *"
   ]
  },
  {
   "cell_type": "markdown",
   "metadata": {},
   "source": [
    "### Initialize Model"
   ]
  },
  {
   "cell_type": "code",
   "execution_count": 3,
   "metadata": {},
   "outputs": [],
   "source": [
    "# Build and load trained model\n",
    "model = built_mltscl()\n",
    "model.load_weights(WEIGTHS_PATH)\n",
    "\n",
    "# Load dataset\n",
    "x_train, y_train, x_val, y_val, x_test, y_test = load_dataset_GTSRB(\n",
    "    n_channel=N_CHANNEL)\n",
    "\n",
    "# Convert labels to one-hot encoding\n",
    "y_train = keras.utils.to_categorical(y_train, NUM_LABELS)\n",
    "y_test = keras.utils.to_categorical(y_test, NUM_LABELS)\n",
    "y_val = keras.utils.to_categorical(y_val, NUM_LABELS)\n",
    "\n",
    "# Read sign names\n",
    "signnames = read_csv(\"./input_data/signnames.csv\").values[:, 1]"
   ]
  },
  {
   "cell_type": "code",
   "execution_count": 4,
   "metadata": {
    "scrolled": true
   },
   "outputs": [
    {
     "name": "stdout",
     "output_type": "stream",
     "text": [
      "____________________________________________________________________________________________________\n",
      "Layer (type)                     Output Shape          Param #     Connected to                     \n",
      "====================================================================================================\n",
      "input_1 (InputLayer)             (None, 32, 32, 3)     0                                            \n",
      "____________________________________________________________________________________________________\n",
      "conv2d_1 (Conv2D)                (None, 32, 32, 32)    2432        input_1[0][0]                    \n",
      "____________________________________________________________________________________________________\n",
      "dropout_1 (Dropout)              (None, 32, 32, 32)    0           conv2d_1[0][0]                   \n",
      "____________________________________________________________________________________________________\n",
      "max_pooling2d_1 (MaxPooling2D)   (None, 16, 16, 32)    0           dropout_1[0][0]                  \n",
      "____________________________________________________________________________________________________\n",
      "conv2d_2 (Conv2D)                (None, 16, 16, 64)    51264       max_pooling2d_1[0][0]            \n",
      "____________________________________________________________________________________________________\n",
      "dropout_2 (Dropout)              (None, 16, 16, 64)    0           conv2d_2[0][0]                   \n",
      "____________________________________________________________________________________________________\n",
      "max_pooling2d_2 (MaxPooling2D)   (None, 8, 8, 64)      0           dropout_2[0][0]                  \n",
      "____________________________________________________________________________________________________\n",
      "conv2d_3 (Conv2D)                (None, 8, 8, 128)     204928      max_pooling2d_2[0][0]            \n",
      "____________________________________________________________________________________________________\n",
      "dropout_3 (Dropout)              (None, 8, 8, 128)     0           conv2d_3[0][0]                   \n",
      "____________________________________________________________________________________________________\n",
      "max_pooling2d_4 (MaxPooling2D)   (None, 4, 4, 32)      0           max_pooling2d_1[0][0]            \n",
      "____________________________________________________________________________________________________\n",
      "max_pooling2d_5 (MaxPooling2D)   (None, 4, 4, 64)      0           max_pooling2d_2[0][0]            \n",
      "____________________________________________________________________________________________________\n",
      "max_pooling2d_3 (MaxPooling2D)   (None, 4, 4, 128)     0           dropout_3[0][0]                  \n",
      "____________________________________________________________________________________________________\n",
      "flatten_1 (Flatten)              (None, 512)           0           max_pooling2d_4[0][0]            \n",
      "____________________________________________________________________________________________________\n",
      "flatten_2 (Flatten)              (None, 1024)          0           max_pooling2d_5[0][0]            \n",
      "____________________________________________________________________________________________________\n",
      "flatten_3 (Flatten)              (None, 2048)          0           max_pooling2d_3[0][0]            \n",
      "____________________________________________________________________________________________________\n",
      "concatenate_1 (Concatenate)      (None, 3584)          0           flatten_1[0][0]                  \n",
      "                                                                   flatten_2[0][0]                  \n",
      "                                                                   flatten_3[0][0]                  \n",
      "____________________________________________________________________________________________________\n",
      "dense_1 (Dense)                  (None, 1024)          3671040     concatenate_1[0][0]              \n",
      "____________________________________________________________________________________________________\n",
      "dropout_4 (Dropout)              (None, 1024)          0           dense_1[0][0]                    \n",
      "____________________________________________________________________________________________________\n",
      "dense_2 (Dense)                  (None, 43)            44075       dropout_4[0][0]                  \n",
      "====================================================================================================\n",
      "Total params: 3,973,739\n",
      "Trainable params: 3,973,739\n",
      "Non-trainable params: 0\n",
      "____________________________________________________________________________________________________\n"
     ]
    }
   ],
   "source": [
    "model.summary()"
   ]
  },
  {
   "cell_type": "markdown",
   "metadata": {},
   "source": [
    "### Load data"
   ]
  },
  {
   "cell_type": "code",
   "execution_count": 5,
   "metadata": {},
   "outputs": [],
   "source": [
    "SAMPLE_IMG_DIR = './traffic_sign_samples'\n",
    "SAMPLE_LABEL = './traffic_sign_samples/samples_label.txt'"
   ]
  },
  {
   "cell_type": "code",
   "execution_count": 6,
   "metadata": {
    "collapsed": true
   },
   "outputs": [],
   "source": [
    "# Load sample images, labels and masks\n",
    "x_smp, x_smp_full, y_smp, masks, masks_full = load_samples(SAMPLE_IMG_DIR, SAMPLE_LABEL)"
   ]
  },
  {
   "cell_type": "code",
   "execution_count": 31,
   "metadata": {},
   "outputs": [
    {
     "name": "stdout",
     "output_type": "stream",
     "text": [
      "Target class: No passing for vechiles over 3.5 metric tons\n"
     ]
    }
   ],
   "source": [
    "# Set target class to attack\n",
    "tg = 10\n",
    "print \"Target class: \" + signnames[tg]\n",
    "# Set number of samples\n",
    "size = 10\n",
    "\n",
    "y_target = np.zeros((len(x_test))) + tg\n",
    "y_target = keras.utils.to_categorical(y_target, NUM_LABELS)\n",
    "\n",
    "# Filter samples (originally misclassified, originally classified as target)\n",
    "x_fil, y_fil, del_id = filter_samples(model, x_smp, y_smp, y_target=y_target)\n",
    "x_fil_full = np.delete(x_smp_full, del_id, axis=0)\n",
    "masks_fil = np.delete(masks, del_id, axis=0)\n",
    "masks_fil_full = np.delete(masks_full, del_id, axis=0)\n",
    "\n",
    "# Set samples to attack (choose some samples by random)\n",
    "ind = np.random.choice(range(len(y_fil)), size=size)\n",
    "x_ben = np.copy(x_fil[ind])\n",
    "x_ben_full = np.copy(x_fil_full[ind])\n",
    "y_ben = np.copy(y_fil[ind])\n",
    "y_tg = np.copy(y_target[ind])\n",
    "masks_ben = np.copy(masks_fil[ind])\n",
    "masks_ben_full = np.copy(masks_fil_full[ind])"
   ]
  },
  {
   "cell_type": "markdown",
   "metadata": {},
   "source": [
    "## Attack Examples\n",
    "\n",
    "### Fast Gradient"
   ]
  },
  {
   "cell_type": "code",
   "execution_count": 48,
   "metadata": {
    "collapsed": true
   },
   "outputs": [],
   "source": [
    "# Specify list of magnitudes\n",
    "mag_list = np.linspace(1.0, 2.0, 6)\n",
    "x_fg = fg(model, x_ben, y_tg, mag_list, target=True, mask=masks_ben)"
   ]
  },
  {
   "cell_type": "code",
   "execution_count": 61,
   "metadata": {},
   "outputs": [
    {
     "name": "stdout",
     "output_type": "stream",
     "text": [
      "['Original class: No vechiles']\n"
     ]
    },
    {
     "data": {
      "image/png": "[encoded data removed]",
      "text/plain": [
       "<matplotlib.figure.Figure at 0x7f7a8c466ad0>"
      ]
     },
     "metadata": {},
     "output_type": "display_data"
    },
    {
     "name": "stdout",
     "output_type": "stream",
     "text": [
      "['Adversarial class: Speed limit (120km/h)']\n"
     ]
    },
    {
     "data": {
      "image/png": "[encoded data removed]",
      "text/plain": [
       "<matplotlib.figure.Figure at 0x7f79dc7e6750>"
      ]
     },
     "metadata": {},
     "output_type": "display_data"
    }
   ],
   "source": [
    "im = x_ben[0]\n",
    "print \"Original class: \" + signnames[predict(model, im)]\n",
    "plt.imshow(im)\n",
    "plt.axis('off')\n",
    "plt.show()\n",
    "\n",
    "im = x_fg[5, 0]\n",
    "print \"Adversarial class: \" + signnames[predict(model, im)]\n",
    "plt.imshow(im)\n",
    "plt.axis('off')\n",
    "plt.show()"
   ]
  },
  {
   "cell_type": "markdown",
   "metadata": {},
   "source": [
    "### Iterative Attack\n",
    "Iterative steps in gradient direction"
   ]
  },
  {
   "cell_type": "code",
   "execution_count": 53,
   "metadata": {},
   "outputs": [
    {
     "name": "stderr",
     "output_type": "stream",
     "text": [
      "lib/utils.py:421: RuntimeWarning: divide by zero encountered in divide\n",
      "  grad /= np.linalg.norm(grad)\n",
      "lib/utils.py:421: RuntimeWarning: invalid value encountered in divide\n",
      "  grad /= np.linalg.norm(grad)\n"
     ]
    }
   ],
   "source": [
    "x_it = iterative(model, x_ben, y_tg, n_step=32, step_size=0.05, target=True, mask=masks_ben)"
   ]
  },
  {
   "cell_type": "code",
   "execution_count": 54,
   "metadata": {},
   "outputs": [
    {
     "name": "stdout",
     "output_type": "stream",
     "text": [
      "['Original class: No vechiles']\n"
     ]
    },
    {
     "data": {
      "image/png": "[encoded data removed]",
      "text/plain": [
       "<matplotlib.figure.Figure at 0x7f79b053d090>"
      ]
     },
     "metadata": {},
     "output_type": "display_data"
    },
    {
     "name": "stdout",
     "output_type": "stream",
     "text": [
      "['Adversarial class: Speed limit (100km/h)']\n"
     ]
    },
    {
     "data": {
      "image/png": "[encoded data removed]",
      "text/plain": [
       "<matplotlib.figure.Figure at 0x7f79dc653350>"
      ]
     },
     "metadata": {},
     "output_type": "display_data"
    }
   ],
   "source": [
    "im = x_ben[0]\n",
    "print \"Original class: \" + signnames[predict(model, im)]\n",
    "plt.imshow(im)\n",
    "plt.axis('off')\n",
    "plt.show()\n",
    "\n",
    "im = x_it[0]\n",
    "print \"Adversarial class: \" + signnames[predict(model, im)]\n",
    "plt.imshow(im)\n",
    "plt.axis('off')\n",
    "plt.show()"
   ]
  },
  {
   "cell_type": "markdown",
   "metadata": {},
   "source": [
    "### Optimize Attack"
   ]
  },
  {
   "cell_type": "code",
   "execution_count": 55,
   "metadata": {
    "scrolled": true
   },
   "outputs": [
    {
     "name": "stdout",
     "output_type": "stream",
     "text": [
      "Step: 0, norm=12.276, loss=57.971, obj=70.247\n",
      "Step: 50, norm=12.316, loss=-5.000, obj=7.316\n",
      "Step: 100, norm=12.073, loss=-5.000, obj=7.073\n",
      "Step: 150, norm=11.769, loss=-5.000, obj=6.769\n",
      "Step: 200, norm=11.428, loss=-5.000, obj=6.428\n",
      "Step: 250, norm=11.060, loss=-5.000, obj=6.060\n",
      "Step: 300, norm=10.676, loss=-5.000, obj=5.676\n",
      "Step: 350, norm=10.414, loss=-5.000, obj=5.414\n",
      "Step: 400, norm=10.087, loss=-5.000, obj=5.087\n",
      "Step: 450, norm=9.719, loss=-5.000, obj=4.719\n",
      "Step: 500, norm=9.350, loss=-5.000, obj=4.350\n",
      "Step: 550, norm=8.982, loss=-5.000, obj=3.982\n",
      "Step: 600, norm=8.617, loss=-5.000, obj=3.617\n",
      "Step: 650, norm=8.256, loss=-5.000, obj=3.256\n",
      "Step: 700, norm=7.900, loss=-5.000, obj=2.900\n",
      "Step: 750, norm=7.550, loss=-5.000, obj=2.550\n",
      "Step: 800, norm=7.310, loss=-5.000, obj=2.310\n",
      "Step: 850, norm=6.988, loss=-5.000, obj=1.988\n",
      "Step: 900, norm=6.671, loss=-5.000, obj=1.671\n",
      "Step: 950, norm=6.361, loss=-5.000, obj=1.361\n",
      "Step: 1000, norm=6.184, loss=-5.000, obj=1.184\n",
      "Step: 1050, norm=5.903, loss=-5.000, obj=0.903\n",
      "Step: 1100, norm=5.678, loss=-5.000, obj=0.678\n",
      "Step: 1150, norm=5.594, loss=-5.000, obj=0.594\n",
      "Step: 1200, norm=5.349, loss=-5.000, obj=0.349\n",
      "Step: 1250, norm=5.110, loss=-5.000, obj=0.110\n",
      "Step: 1300, norm=4.878, loss=-5.000, obj=-0.122\n",
      "Step: 1350, norm=4.652, loss=-5.000, obj=-0.348\n",
      "Step: 1400, norm=4.433, loss=-5.000, obj=-0.567\n",
      "Step: 1450, norm=4.220, loss=-5.000, obj=-0.780\n",
      "Step: 1500, norm=4.085, loss=-5.000, obj=-0.915\n",
      "Step: 1550, norm=3.948, loss=-5.000, obj=-1.052\n",
      "Step: 1600, norm=3.755, loss=-5.000, obj=-1.245\n",
      "Step: 1650, norm=3.568, loss=-5.000, obj=-1.432\n",
      "Step: 1700, norm=3.495, loss=-5.000, obj=-1.505\n",
      "Step: 1750, norm=3.485, loss=-5.000, obj=-1.515\n",
      "Step: 1800, norm=3.323, loss=-5.000, obj=-1.677\n",
      "Step: 1850, norm=3.166, loss=-5.000, obj=-1.834\n",
      "Step: 1900, norm=3.014, loss=-5.000, obj=-1.986\n",
      "Step: 1950, norm=3.028, loss=-5.000, obj=-1.972\n",
      "Step: 2000, norm=2.960, loss=-5.000, obj=-2.040\n",
      "Step: 2050, norm=2.824, loss=-5.000, obj=-2.176\n",
      "Step: 2100, norm=2.693, loss=-5.000, obj=-2.307\n",
      "Step: 2150, norm=2.588, loss=-5.000, obj=-2.412\n",
      "Step: 2200, norm=2.573, loss=-5.000, obj=-2.427\n",
      "Step: 2250, norm=2.454, loss=-5.000, obj=-2.546\n",
      "Step: 2300, norm=2.338, loss=-5.000, obj=-2.662\n",
      "Step: 2350, norm=2.477, loss=-5.000, obj=-2.523\n",
      "Step: 2400, norm=2.385, loss=-5.000, obj=-2.615\n",
      "Step: 2450, norm=2.280, loss=-5.000, obj=-2.720\n",
      "Step: 2500, norm=2.179, loss=-5.000, obj=-2.821\n",
      "Step: 2550, norm=2.082, loss=-5.000, obj=-2.918\n",
      "Step: 2600, norm=2.098, loss=-5.000, obj=-2.902\n",
      "Step: 2650, norm=2.009, loss=-5.000, obj=-2.991\n",
      "Step: 2700, norm=2.055, loss=-5.000, obj=-2.945\n",
      "Step: 2750, norm=2.109, loss=-5.000, obj=-2.891\n",
      "Step: 2800, norm=2.019, loss=-5.000, obj=-2.981\n",
      "Step: 2850, norm=1.933, loss=-5.000, obj=-3.067\n",
      "Step: 2900, norm=1.851, loss=-5.000, obj=-3.149\n",
      "Step: 2950, norm=1.853, loss=-5.000, obj=-3.147\n",
      "Step: 3000, norm=1.789, loss=-5.000, obj=-3.211\n",
      "Step: 3050, norm=1.711, loss=-4.776, obj=-3.065\n",
      "Step: 3100, norm=1.890, loss=-5.000, obj=-3.110\n",
      "Step: 3150, norm=1.812, loss=-5.000, obj=-3.188\n",
      "Step: 3200, norm=1.738, loss=-5.000, obj=-3.262\n",
      "Step: 3250, norm=1.666, loss=-5.000, obj=-3.334\n",
      "Step: 3300, norm=1.769, loss=-5.000, obj=-3.231\n",
      "Step: 3350, norm=1.735, loss=-5.000, obj=-3.265\n",
      "Step: 3400, norm=1.664, loss=-5.000, obj=-3.336\n",
      "Step: 3450, norm=1.597, loss=-5.000, obj=-3.403\n",
      "Step: 3500, norm=1.754, loss=-5.000, obj=-3.246\n",
      "Step: 3550, norm=1.691, loss=-5.000, obj=-3.309\n",
      "Step: 3600, norm=1.626, loss=-5.000, obj=-3.374\n",
      "Step: 3650, norm=1.564, loss=-5.000, obj=-3.436\n",
      "Step: 3700, norm=1.591, loss=-5.000, obj=-3.409\n",
      "Step: 3750, norm=1.544, loss=-5.000, obj=-3.456\n",
      "Step: 3800, norm=1.648, loss=-5.000, obj=-3.352\n",
      "Step: 3850, norm=1.638, loss=-5.000, obj=-3.362\n",
      "Step: 3900, norm=1.577, loss=-5.000, obj=-3.423\n",
      "Step: 3950, norm=1.519, loss=-5.000, obj=-3.481\n",
      "Step: 4000, norm=1.510, loss=-5.000, obj=-3.490\n",
      "Step: 4050, norm=1.492, loss=-5.000, obj=-3.508\n",
      "Step: 4100, norm=1.540, loss=-5.000, obj=-3.460\n",
      "Step: 4150, norm=1.587, loss=-5.000, obj=-3.413\n",
      "Step: 4200, norm=1.530, loss=-5.000, obj=-3.470\n",
      "Step: 4250, norm=1.476, loss=-5.000, obj=-3.524\n",
      "Step: 4300, norm=1.432, loss=-5.000, obj=-3.568\n",
      "Step: 4350, norm=1.560, loss=-5.000, obj=-3.440\n",
      "Step: 4400, norm=1.505, loss=-5.000, obj=-3.495\n",
      "Step: 4450, norm=1.530, loss=-5.000, obj=-3.470\n",
      "Step: 4500, norm=1.482, loss=-5.000, obj=-3.518\n",
      "Step: 4550, norm=1.432, loss=-4.907, obj=-3.476\n",
      "Step: 4600, norm=1.560, loss=-5.000, obj=-3.440\n",
      "Step: 4650, norm=1.509, loss=-5.000, obj=-3.491\n",
      "Step: 4700, norm=1.461, loss=-5.000, obj=-3.539\n",
      "Step: 4750, norm=1.414, loss=-5.000, obj=-3.586\n",
      "Step: 4800, norm=1.434, loss=-5.000, obj=-3.566\n",
      "Step: 4850, norm=1.455, loss=-5.000, obj=-3.545\n",
      "Step: 4900, norm=1.427, loss=-5.000, obj=-3.573\n",
      "Step: 4950, norm=1.451, loss=-5.000, obj=-3.549\n"
     ]
    }
   ],
   "source": [
    "# Initialize optimizer\n",
    "opt = OptCarlini(model, c=1, lr=0.01, target=True, use_bound=False, init_scl=0.1,\n",
    "                 loss_op=0, var_change=True, k=5)\n",
    "# Run optimizer on sample (only take one sample at a time)\n",
    "x_adv, norm = opt.optimize(x_ben[0], y_tg[0], n_step=5000, prog=True, mask=masks_ben[0])\n",
    "# Run optimier with constant search\n",
    "#x_adv, norm = opt.optimize_search(x_ben[0], y_tg[0], n_step=5000, search_step=10, prog=True, mask=masks_ben[0])"
   ]
  },
  {
   "cell_type": "code",
   "execution_count": 56,
   "metadata": {},
   "outputs": [
    {
     "name": "stdout",
     "output_type": "stream",
     "text": [
      "['Original class: No vechiles']\n"
     ]
    },
    {
     "data": {
      "image/png": "[encoded data removed]",
      "text/plain": [
       "<matplotlib.figure.Figure at 0x7f79b053df10>"
      ]
     },
     "metadata": {},
     "output_type": "display_data"
    },
    {
     "name": "stdout",
     "output_type": "stream",
     "text": [
      "['Adversarial class: No passing for vechiles over 3.5 metric tons']\n"
     ]
    },
    {
     "data": {
      "image/png": "[encoded data removed]",
      "text/plain": [
       "<matplotlib.figure.Figure at 0x7f79b053d390>"
      ]
     },
     "metadata": {},
     "output_type": "display_data"
    }
   ],
   "source": [
    "im = x_ben[0]\n",
    "print \"Original class: \" + signnames[predict(model, im)]\n",
    "plt.imshow(im)\n",
    "plt.axis('off')\n",
    "plt.show()\n",
    "\n",
    "im = x_adv\n",
    "print \"Adversarial class: \" + signnames[predict(model, im)]\n",
    "plt.imshow(im)\n",
    "plt.axis('off')\n",
    "plt.show()"
   ]
  },
  {
   "cell_type": "markdown",
   "metadata": {},
   "source": [
    "### Optimize with Transformation"
   ]
  },
  {
   "cell_type": "code",
   "execution_count": 57,
   "metadata": {
    "scrolled": true
   },
   "outputs": [
    {
     "name": "stdout",
     "output_type": "stream",
     "text": [
      "Step: 0, norm=12.247, loss=50.082, obj=62.329\n",
      "Step: 50, norm=12.210, loss=-5.000, obj=7.210\n",
      "Step: 100, norm=11.957, loss=-5.000, obj=6.957\n",
      "Step: 150, norm=11.646, loss=-5.000, obj=6.646\n",
      "Step: 200, norm=11.297, loss=-5.000, obj=6.297\n",
      "Step: 250, norm=10.924, loss=-5.000, obj=5.924\n",
      "Step: 300, norm=10.536, loss=-5.000, obj=5.536\n",
      "Step: 350, norm=10.139, loss=-5.000, obj=5.139\n",
      "Step: 400, norm=9.738, loss=-5.000, obj=4.738\n",
      "Step: 450, norm=9.337, loss=-5.000, obj=4.337\n",
      "Step: 500, norm=8.937, loss=-5.000, obj=3.937\n",
      "Step: 550, norm=8.689, loss=-5.000, obj=3.689\n",
      "Step: 600, norm=8.365, loss=-5.000, obj=3.365\n",
      "Step: 650, norm=8.025, loss=-5.000, obj=3.025\n",
      "Step: 700, norm=7.691, loss=-5.000, obj=2.691\n",
      "Step: 750, norm=7.363, loss=-5.000, obj=2.363\n",
      "Step: 800, norm=7.042, loss=-5.000, obj=2.042\n",
      "Step: 850, norm=6.728, loss=-5.000, obj=1.728\n",
      "Step: 900, norm=6.422, loss=-5.000, obj=1.422\n",
      "Step: 950, norm=6.123, loss=-5.000, obj=1.123\n",
      "Step: 1000, norm=5.832, loss=-5.000, obj=0.832\n",
      "Step: 1050, norm=5.693, loss=-5.000, obj=0.693\n",
      "Step: 1100, norm=5.441, loss=-5.000, obj=0.441\n",
      "Step: 1150, norm=5.189, loss=-5.000, obj=0.189\n",
      "Step: 1200, norm=4.944, loss=-5.000, obj=-0.056\n",
      "Step: 1250, norm=4.707, loss=-5.000, obj=-0.293\n",
      "Step: 1300, norm=4.716, loss=-5.000, obj=-0.284\n",
      "Step: 1350, norm=4.517, loss=-5.000, obj=-0.483\n",
      "Step: 1400, norm=4.321, loss=-5.000, obj=-0.679\n",
      "Step: 1450, norm=4.132, loss=-5.000, obj=-0.868\n",
      "Step: 1500, norm=3.949, loss=-5.000, obj=-1.051\n",
      "Step: 1550, norm=3.771, loss=-5.000, obj=-1.229\n",
      "Step: 1600, norm=3.598, loss=-5.000, obj=-1.402\n",
      "Step: 1650, norm=3.561, loss=-5.000, obj=-1.439\n",
      "Step: 1700, norm=3.601, loss=-5.000, obj=-1.399\n",
      "Step: 1750, norm=3.455, loss=-5.000, obj=-1.545\n",
      "Step: 1800, norm=3.312, loss=-5.000, obj=-1.688\n",
      "Step: 1850, norm=3.175, loss=-5.000, obj=-1.825\n",
      "Step: 1900, norm=3.041, loss=-5.000, obj=-1.959\n",
      "Step: 1950, norm=3.130, loss=-5.000, obj=-1.870\n",
      "Step: 2000, norm=3.043, loss=-5.000, obj=-1.957\n",
      "Step: 2050, norm=2.925, loss=-5.000, obj=-2.075\n",
      "Step: 2100, norm=2.812, loss=-5.000, obj=-2.188\n",
      "Step: 2150, norm=2.702, loss=-5.000, obj=-2.298\n",
      "Step: 2200, norm=2.595, loss=-5.000, obj=-2.405\n",
      "Step: 2250, norm=2.492, loss=-4.954, obj=-2.463\n",
      "Step: 2300, norm=2.601, loss=-5.000, obj=-2.399\n",
      "Step: 2350, norm=2.503, loss=-5.000, obj=-2.497\n",
      "Step: 2400, norm=2.406, loss=-5.000, obj=-2.594\n",
      "Step: 2450, norm=2.312, loss=-5.000, obj=-2.688\n",
      "Step: 2500, norm=2.220, loss=-5.000, obj=-2.780\n",
      "Step: 2550, norm=2.433, loss=-5.000, obj=-2.567\n",
      "Step: 2600, norm=2.349, loss=-5.000, obj=-2.651\n",
      "Step: 2650, norm=2.265, loss=-5.000, obj=-2.735\n",
      "Step: 2700, norm=2.184, loss=-5.000, obj=-2.816\n",
      "Step: 2750, norm=2.105, loss=-5.000, obj=-2.895\n",
      "Step: 2800, norm=2.039, loss=-5.000, obj=-2.961\n",
      "Step: 2850, norm=2.083, loss=-5.000, obj=-2.917\n",
      "Step: 2900, norm=2.007, loss=-5.000, obj=-2.993\n",
      "Step: 2950, norm=1.955, loss=-5.000, obj=-3.045\n",
      "Step: 3000, norm=2.115, loss=-5.000, obj=-2.885\n",
      "Step: 3050, norm=2.041, loss=-5.000, obj=-2.959\n",
      "Step: 3100, norm=1.969, loss=-5.000, obj=-3.031\n",
      "Step: 3150, norm=1.899, loss=-5.000, obj=-3.101\n",
      "Step: 3200, norm=1.832, loss=-5.000, obj=-3.168\n",
      "Step: 3250, norm=1.926, loss=-5.000, obj=-3.074\n",
      "Step: 3300, norm=1.858, loss=-5.000, obj=-3.142\n",
      "Step: 3350, norm=1.960, loss=-5.000, obj=-3.040\n",
      "Step: 3400, norm=1.899, loss=-5.000, obj=-3.101\n",
      "Step: 3450, norm=1.833, loss=-5.000, obj=-3.167\n",
      "Step: 3500, norm=1.771, loss=-5.000, obj=-3.229\n",
      "Step: 3550, norm=1.880, loss=-5.000, obj=-3.120\n",
      "Step: 3600, norm=1.881, loss=-5.000, obj=-3.119\n",
      "Step: 3650, norm=1.821, loss=-5.000, obj=-3.179\n",
      "Step: 3700, norm=1.762, loss=-5.000, obj=-3.238\n",
      "Step: 3750, norm=1.706, loss=-5.000, obj=-3.294\n",
      "Step: 3800, norm=1.651, loss=-5.000, obj=-3.349\n",
      "Step: 3850, norm=1.719, loss=-5.000, obj=-3.281\n",
      "Step: 3900, norm=1.664, loss=-5.000, obj=-3.336\n",
      "Step: 3950, norm=1.809, loss=-5.000, obj=-3.191\n",
      "Step: 4000, norm=1.756, loss=-5.000, obj=-3.244\n",
      "Step: 4050, norm=1.700, loss=-5.000, obj=-3.300\n",
      "Step: 4100, norm=1.646, loss=-5.000, obj=-3.354\n",
      "Step: 4150, norm=1.595, loss=-5.000, obj=-3.405\n",
      "Step: 4200, norm=1.636, loss=-5.000, obj=-3.364\n",
      "Step: 4250, norm=1.586, loss=-5.000, obj=-3.414\n",
      "Step: 4300, norm=1.733, loss=-5.000, obj=-3.267\n",
      "Step: 4350, norm=1.697, loss=-5.000, obj=-3.303\n",
      "Step: 4400, norm=1.644, loss=-5.000, obj=-3.356\n",
      "Step: 4450, norm=1.594, loss=-5.000, obj=-3.406\n",
      "Step: 4500, norm=1.632, loss=-5.000, obj=-3.368\n",
      "Step: 4550, norm=1.637, loss=-5.000, obj=-3.363\n",
      "Step: 4600, norm=1.588, loss=-5.000, obj=-3.412\n",
      "Step: 4650, norm=1.663, loss=-5.000, obj=-3.337\n",
      "Step: 4700, norm=1.654, loss=-5.000, obj=-3.346\n",
      "Step: 4750, norm=1.607, loss=-5.000, obj=-3.393\n",
      "Step: 4800, norm=1.561, loss=-5.000, obj=-3.439\n",
      "Step: 4850, norm=1.517, loss=-5.000, obj=-3.483\n",
      "Step: 4900, norm=1.559, loss=-5.000, obj=-3.441\n",
      "Step: 4950, norm=1.516, loss=-5.000, obj=-3.484\n"
     ]
    }
   ],
   "source": [
    "# Initialize optimizer\n",
    "opt = OptTransform(model, c=1, lr=0.01, target=True, use_bound=False, init_scl=0.1,\n",
    "                   loss_op=0, var_change=True, k=5, batch_size=32)\n",
    "# Run optimizer on sample\n",
    "x_adv, norm = opt.optimize(x_ben[0], y_tg[0], n_step=5000, prog=True, mask=masks_ben[0])\n",
    "# Run optimier with constant search\n",
    "#x_adv, norm = opt.optimize_search(x_ben[0], y_tg[0], n_step=5000, search_step=10, prog=True, mask=masks_ben[0])"
   ]
  },
  {
   "cell_type": "code",
   "execution_count": 58,
   "metadata": {},
   "outputs": [
    {
     "name": "stdout",
     "output_type": "stream",
     "text": [
      "['Original class: No vechiles']\n"
     ]
    },
    {
     "data": {
      "image/png": "[encoded data removed]",
      "text/plain": [
       "<matplotlib.figure.Figure at 0x7f79686f1610>"
      ]
     },
     "metadata": {},
     "output_type": "display_data"
    },
    {
     "name": "stdout",
     "output_type": "stream",
     "text": [
      "['Adversarial class: No passing for vechiles over 3.5 metric tons']\n"
     ]
    },
    {
     "data": {
      "image/png": "[encoded data removed]",
      "text/plain": [
       "<matplotlib.figure.Figure at 0x7f79683d2210>"
      ]
     },
     "metadata": {},
     "output_type": "display_data"
    }
   ],
   "source": [
    "im = x_ben[0]\n",
    "print \"Original class: \" + signnames[predict(model, im)]\n",
    "plt.imshow(im)\n",
    "plt.axis('off')\n",
    "plt.show()\n",
    "\n",
    "im = x_adv\n",
    "print \"Adversarial class: \" + signnames[predict(model, im)]\n",
    "plt.imshow(im)\n",
    "plt.axis('off')\n",
    "plt.show()"
   ]
  },
  {
   "cell_type": "code",
   "execution_count": 60,
   "metadata": {},
   "outputs": [
    {
     "name": "stdout",
     "output_type": "stream",
     "text": [
      "[0.0, 0.0, 0.0, 0.0, 0.0, 0.0]\n",
      "0.0\n"
     ]
    }
   ],
   "source": [
    "# Evaluate each attack, return a list of adv success rate\n",
    "print eval_adv(model, x_fg, y_tg, target=True)\n",
    "print eval_adv(model, x_it, y_tg, target=True)"
   ]
  },
  {
   "cell_type": "markdown",
   "metadata": {},
   "source": [
    "## Appendix\n",
    "\n",
    "### Model trainer"
   ]
  },
  {
   "cell_type": "code",
   "execution_count": 7,
   "metadata": {
    "collapsed": true
   },
   "outputs": [],
   "source": [
    "# Build model\n",
    "model = built_mltscl()\n",
    "\n",
    "# Load dataset\n",
    "x_train, y_train, x_val, y_val, x_test, y_test = load_dataset_GTSRB(\n",
    "    n_channel=N_CHANNEL, train_file_name='train_extended.p')\n",
    "\n",
    "y_train = keras.utils.to_categorical(y_train, NUM_LABELS)\n",
    "y_test = keras.utils.to_categorical(y_test, NUM_LABELS)\n",
    "y_val = keras.utils.to_categorical(y_val, NUM_LABELS)"
   ]
  },
  {
   "cell_type": "code",
   "execution_count": 10,
   "metadata": {
    "collapsed": true
   },
   "outputs": [],
   "source": [
    "filepath = './weights.{epoch:02d}-{val_loss:.2f}.hdf5'\n",
    "modelCheckpoint = keras.callbacks.ModelCheckpoint(filepath, monitor='val_loss', verbose=0, \n",
    "                                                  save_best_only=False, save_weights_only=False, \n",
    "                                                  mode='auto', period=1)\n",
    "earlyStop = keras.callbacks.EarlyStopping(monitor='val_loss', min_delta=0.001, patience=5, \n",
    "                                          verbose=0, mode='auto')"
   ]
  },
  {
   "cell_type": "code",
   "execution_count": 14,
   "metadata": {
    "scrolled": true
   },
   "outputs": [
    {
     "name": "stdout",
     "output_type": "stream",
     "text": [
      "Train on 695980 samples, validate on 4410 samples\n",
      "Epoch 1/100\n",
      "695980/695980 [==============================] - 240s - loss: 0.7197 - acc: 0.8864 - val_loss: 0.5842 - val_acc: 0.9404\n",
      "Epoch 2/100\n",
      "695980/695980 [==============================] - 235s - loss: 0.5336 - acc: 0.9393 - val_loss: 0.4748 - val_acc: 0.9574\n",
      "Epoch 3/100\n",
      "695980/695980 [==============================] - 235s - loss: 0.4958 - acc: 0.9509 - val_loss: 0.4832 - val_acc: 0.9565\n",
      "Epoch 4/100\n",
      "695980/695980 [==============================] - 239s - loss: 0.4789 - acc: 0.9572 - val_loss: 0.4538 - val_acc: 0.9719\n",
      "Epoch 5/100\n",
      "695980/695980 [==============================] - 235s - loss: 0.4607 - acc: 0.9607 - val_loss: 0.4437 - val_acc: 0.9671\n",
      "Epoch 6/100\n",
      "390752/695980 [===============>..............] - ETA: 102s - loss: 0.4546 - acc: 0.9624"
     ]
    },
    {
     "ename": "KeyboardInterrupt",
     "evalue": "",
     "output_type": "error",
     "traceback": [
      "\u001b[0;31m---------------------------------------------------------------------------\u001b[0m",
      "\u001b[0;31mKeyboardInterrupt\u001b[0m                         Traceback (most recent call last)",
      "\u001b[0;32m<ipython-input-14-883cd5b4f5fe>\u001b[0m in \u001b[0;36m<module>\u001b[0;34m()\u001b[0m\n\u001b[1;32m      1\u001b[0m model.fit(x_train, y_train, batch_size=BATCH_SIZE, epochs=NUM_EPOCH, verbose=1, \n\u001b[1;32m      2\u001b[0m           \u001b[0mcallbacks\u001b[0m\u001b[0;34m=\u001b[0m\u001b[0;34m[\u001b[0m\u001b[0mmodelCheckpoint\u001b[0m\u001b[0;34m,\u001b[0m \u001b[0mearlyStop\u001b[0m\u001b[0;34m]\u001b[0m\u001b[0;34m,\u001b[0m \u001b[0mvalidation_data\u001b[0m\u001b[0;34m=\u001b[0m\u001b[0;34m(\u001b[0m\u001b[0mx_val\u001b[0m\u001b[0;34m,\u001b[0m \u001b[0my_val\u001b[0m\u001b[0;34m)\u001b[0m\u001b[0;34m,\u001b[0m\u001b[0;34m\u001b[0m\u001b[0m\n\u001b[0;32m----> 3\u001b[0;31m           shuffle=True, initial_epoch=0)\n\u001b[0m",
      "\u001b[0;32m/home/chawins/.conda/envs/tsa/lib/python2.7/site-packages/keras/engine/training.pyc\u001b[0m in \u001b[0;36mfit\u001b[0;34m(self, x, y, batch_size, epochs, verbose, callbacks, validation_split, validation_data, shuffle, class_weight, sample_weight, initial_epoch, steps_per_epoch, validation_steps, **kwargs)\u001b[0m\n\u001b[1;32m   1596\u001b[0m                               \u001b[0minitial_epoch\u001b[0m\u001b[0;34m=\u001b[0m\u001b[0minitial_epoch\u001b[0m\u001b[0;34m,\u001b[0m\u001b[0;34m\u001b[0m\u001b[0m\n\u001b[1;32m   1597\u001b[0m                               \u001b[0msteps_per_epoch\u001b[0m\u001b[0;34m=\u001b[0m\u001b[0msteps_per_epoch\u001b[0m\u001b[0;34m,\u001b[0m\u001b[0;34m\u001b[0m\u001b[0m\n\u001b[0;32m-> 1598\u001b[0;31m                               validation_steps=validation_steps)\n\u001b[0m\u001b[1;32m   1599\u001b[0m \u001b[0;34m\u001b[0m\u001b[0m\n\u001b[1;32m   1600\u001b[0m     def evaluate(self, x, y,\n",
      "\u001b[0;32m/home/chawins/.conda/envs/tsa/lib/python2.7/site-packages/keras/engine/training.pyc\u001b[0m in \u001b[0;36m_fit_loop\u001b[0;34m(self, f, ins, out_labels, batch_size, epochs, verbose, callbacks, val_f, val_ins, shuffle, callback_metrics, initial_epoch, steps_per_epoch, validation_steps)\u001b[0m\n\u001b[1;32m   1181\u001b[0m                     \u001b[0mbatch_logs\u001b[0m\u001b[0;34m[\u001b[0m\u001b[0;34m'size'\u001b[0m\u001b[0;34m]\u001b[0m \u001b[0;34m=\u001b[0m \u001b[0mlen\u001b[0m\u001b[0;34m(\u001b[0m\u001b[0mbatch_ids\u001b[0m\u001b[0;34m)\u001b[0m\u001b[0;34m\u001b[0m\u001b[0m\n\u001b[1;32m   1182\u001b[0m                     \u001b[0mcallbacks\u001b[0m\u001b[0;34m.\u001b[0m\u001b[0mon_batch_begin\u001b[0m\u001b[0;34m(\u001b[0m\u001b[0mbatch_index\u001b[0m\u001b[0;34m,\u001b[0m \u001b[0mbatch_logs\u001b[0m\u001b[0;34m)\u001b[0m\u001b[0;34m\u001b[0m\u001b[0m\n\u001b[0;32m-> 1183\u001b[0;31m                     \u001b[0mouts\u001b[0m \u001b[0;34m=\u001b[0m \u001b[0mf\u001b[0m\u001b[0;34m(\u001b[0m\u001b[0mins_batch\u001b[0m\u001b[0;34m)\u001b[0m\u001b[0;34m\u001b[0m\u001b[0m\n\u001b[0m\u001b[1;32m   1184\u001b[0m                     \u001b[0;32mif\u001b[0m \u001b[0;32mnot\u001b[0m \u001b[0misinstance\u001b[0m\u001b[0;34m(\u001b[0m\u001b[0mouts\u001b[0m\u001b[0;34m,\u001b[0m \u001b[0mlist\u001b[0m\u001b[0;34m)\u001b[0m\u001b[0;34m:\u001b[0m\u001b[0;34m\u001b[0m\u001b[0m\n\u001b[1;32m   1185\u001b[0m                         \u001b[0mouts\u001b[0m \u001b[0;34m=\u001b[0m \u001b[0;34m[\u001b[0m\u001b[0mouts\u001b[0m\u001b[0;34m]\u001b[0m\u001b[0;34m\u001b[0m\u001b[0m\n",
      "\u001b[0;32m/home/chawins/.conda/envs/tsa/lib/python2.7/site-packages/keras/backend/tensorflow_backend.pyc\u001b[0m in \u001b[0;36m__call__\u001b[0;34m(self, inputs)\u001b[0m\n\u001b[1;32m   2271\u001b[0m         updated = session.run(self.outputs + [self.updates_op],\n\u001b[1;32m   2272\u001b[0m                               \u001b[0mfeed_dict\u001b[0m\u001b[0;34m=\u001b[0m\u001b[0mfeed_dict\u001b[0m\u001b[0;34m,\u001b[0m\u001b[0;34m\u001b[0m\u001b[0m\n\u001b[0;32m-> 2273\u001b[0;31m                               **self.session_kwargs)\n\u001b[0m\u001b[1;32m   2274\u001b[0m         \u001b[0;32mreturn\u001b[0m \u001b[0mupdated\u001b[0m\u001b[0;34m[\u001b[0m\u001b[0;34m:\u001b[0m\u001b[0mlen\u001b[0m\u001b[0;34m(\u001b[0m\u001b[0mself\u001b[0m\u001b[0;34m.\u001b[0m\u001b[0moutputs\u001b[0m\u001b[0;34m)\u001b[0m\u001b[0;34m]\u001b[0m\u001b[0;34m\u001b[0m\u001b[0m\n\u001b[1;32m   2275\u001b[0m \u001b[0;34m\u001b[0m\u001b[0m\n",
      "\u001b[0;32m/home/chawins/.conda/envs/tsa/lib/python2.7/site-packages/tensorflow/python/client/session.pyc\u001b[0m in \u001b[0;36mrun\u001b[0;34m(self, fetches, feed_dict, options, run_metadata)\u001b[0m\n\u001b[1;32m    893\u001b[0m     \u001b[0;32mtry\u001b[0m\u001b[0;34m:\u001b[0m\u001b[0;34m\u001b[0m\u001b[0m\n\u001b[1;32m    894\u001b[0m       result = self._run(None, fetches, feed_dict, options_ptr,\n\u001b[0;32m--> 895\u001b[0;31m                          run_metadata_ptr)\n\u001b[0m\u001b[1;32m    896\u001b[0m       \u001b[0;32mif\u001b[0m \u001b[0mrun_metadata\u001b[0m\u001b[0;34m:\u001b[0m\u001b[0;34m\u001b[0m\u001b[0m\n\u001b[1;32m    897\u001b[0m         \u001b[0mproto_data\u001b[0m \u001b[0;34m=\u001b[0m \u001b[0mtf_session\u001b[0m\u001b[0;34m.\u001b[0m\u001b[0mTF_GetBuffer\u001b[0m\u001b[0;34m(\u001b[0m\u001b[0mrun_metadata_ptr\u001b[0m\u001b[0;34m)\u001b[0m\u001b[0;34m\u001b[0m\u001b[0m\n",
      "\u001b[0;32m/home/chawins/.conda/envs/tsa/lib/python2.7/site-packages/tensorflow/python/client/session.pyc\u001b[0m in \u001b[0;36m_run\u001b[0;34m(self, handle, fetches, feed_dict, options, run_metadata)\u001b[0m\n\u001b[1;32m   1103\u001b[0m \u001b[0;34m\u001b[0m\u001b[0m\n\u001b[1;32m   1104\u001b[0m           \u001b[0mfeed_dict_tensor\u001b[0m\u001b[0;34m[\u001b[0m\u001b[0msubfeed_t\u001b[0m\u001b[0;34m]\u001b[0m \u001b[0;34m=\u001b[0m \u001b[0mnp_val\u001b[0m\u001b[0;34m\u001b[0m\u001b[0m\n\u001b[0;32m-> 1105\u001b[0;31m           \u001b[0mfeed_map\u001b[0m\u001b[0;34m[\u001b[0m\u001b[0mcompat\u001b[0m\u001b[0;34m.\u001b[0m\u001b[0mas_bytes\u001b[0m\u001b[0;34m(\u001b[0m\u001b[0msubfeed_t\u001b[0m\u001b[0;34m.\u001b[0m\u001b[0mname\u001b[0m\u001b[0;34m)\u001b[0m\u001b[0;34m]\u001b[0m \u001b[0;34m=\u001b[0m \u001b[0;34m(\u001b[0m\u001b[0msubfeed_t\u001b[0m\u001b[0;34m,\u001b[0m \u001b[0msubfeed_val\u001b[0m\u001b[0;34m)\u001b[0m\u001b[0;34m\u001b[0m\u001b[0m\n\u001b[0m\u001b[1;32m   1106\u001b[0m \u001b[0;34m\u001b[0m\u001b[0m\n\u001b[1;32m   1107\u001b[0m     \u001b[0;31m# Create a fetch handler to take care of the structure of fetches.\u001b[0m\u001b[0;34m\u001b[0m\u001b[0;34m\u001b[0m\u001b[0m\n",
      "\u001b[0;32m/home/chawins/.conda/envs/tsa/lib/python2.7/site-packages/tensorflow/python/framework/ops.pyc\u001b[0m in \u001b[0;36mname\u001b[0;34m(self)\u001b[0m\n\u001b[1;32m    282\u001b[0m     \u001b[0;32mif\u001b[0m \u001b[0;32mnot\u001b[0m \u001b[0mself\u001b[0m\u001b[0;34m.\u001b[0m\u001b[0m_op\u001b[0m\u001b[0;34m.\u001b[0m\u001b[0mname\u001b[0m\u001b[0;34m:\u001b[0m\u001b[0;34m\u001b[0m\u001b[0m\n\u001b[1;32m    283\u001b[0m       \u001b[0;32mraise\u001b[0m \u001b[0mValueError\u001b[0m\u001b[0;34m(\u001b[0m\u001b[0;34m\"Operation was not named: %s\"\u001b[0m \u001b[0;34m%\u001b[0m \u001b[0mself\u001b[0m\u001b[0;34m.\u001b[0m\u001b[0m_op\u001b[0m\u001b[0;34m)\u001b[0m\u001b[0;34m\u001b[0m\u001b[0m\n\u001b[0;32m--> 284\u001b[0;31m     \u001b[0;32mreturn\u001b[0m \u001b[0;34m\"%s:%d\"\u001b[0m \u001b[0;34m%\u001b[0m \u001b[0;34m(\u001b[0m\u001b[0mself\u001b[0m\u001b[0;34m.\u001b[0m\u001b[0m_op\u001b[0m\u001b[0;34m.\u001b[0m\u001b[0mname\u001b[0m\u001b[0;34m,\u001b[0m \u001b[0mself\u001b[0m\u001b[0;34m.\u001b[0m\u001b[0m_value_index\u001b[0m\u001b[0;34m)\u001b[0m\u001b[0;34m\u001b[0m\u001b[0m\n\u001b[0m\u001b[1;32m    285\u001b[0m \u001b[0;34m\u001b[0m\u001b[0m\n\u001b[1;32m    286\u001b[0m   \u001b[0;34m@\u001b[0m\u001b[0mproperty\u001b[0m\u001b[0;34m\u001b[0m\u001b[0m\n",
      "\u001b[0;31mKeyboardInterrupt\u001b[0m: "
     ]
    }
   ],
   "source": [
    "model.fit(x_train, y_train, batch_size=BATCH_SIZE, epochs=NUM_EPOCH, verbose=1, \n",
    "          callbacks=[modelCheckpoint, earlyStop], validation_data=(x_val, y_val), \n",
    "          shuffle=True, initial_epoch=0)"
   ]
  }
 ],
 "metadata": {
  "kernelspec": {
   "display_name": "Python 3",
   "language": "python",
   "name": "python3"
  },
  "language_info": {
   "codemirror_mode": {
    "name": "ipython",
    "version": 3
   },
   "file_extension": ".py",
   "mimetype": "text/x-python",
   "name": "python",
   "nbconvert_exporter": "python",
   "pygments_lexer": "ipython3",
   "version": "3.6.2"
  }
 },
 "nbformat": 4,
 "nbformat_minor": 2
}
