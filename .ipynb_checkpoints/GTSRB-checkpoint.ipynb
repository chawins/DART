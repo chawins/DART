{
 "cells": [
  {
   "cell_type": "code",
   "execution_count": 1,
   "metadata": {},
   "outputs": [
    {
     "name": "stderr",
     "output_type": "stream",
     "text": [
      "Using TensorFlow backend.\n"
     ]
    }
   ],
   "source": [
    "%matplotlib inline\n",
    "\n",
    "%reload_ext autoreload\n",
    "%autoreload 2\n",
    "\n",
    "from parameters import *\n",
    "from traffic_sign.utils import *\n",
    "from traffic_sign.keras_utils import *\n",
    "from traffic_sign.RandomTransform import *\n",
    "from traffic_sign.OptCarlini import *\n",
    "from traffic_sign.OptTransform import *"
   ]
  },
  {
   "cell_type": "code",
   "execution_count": 3,
   "metadata": {
    "collapsed": true
   },
   "outputs": [],
   "source": [
    "# Build and load trained model\n",
    "model = built_mltscl()\n",
    "model.load_weights(WEIGTHS_PATH)\n",
    "\n",
    "# Load dataset\n",
    "x_train, y_train, x_val, y_val, x_test, y_test = load_dataset_GTSRB(\n",
    "    n_channel=N_CHANNEL)\n",
    "\n",
    "y_train = keras.utils.to_categorical(y_train, NUM_LABELS)\n",
    "y_test = keras.utils.to_categorical(y_test, NUM_LABELS)\n",
    "y_val = keras.utils.to_categorical(y_val, NUM_LABELS)\n",
    "\n",
    "# Read sign names\n",
    "signnames = read_csv(\"./signnames.csv\").values[:, 1]"
   ]
  },
  {
   "cell_type": "code",
   "execution_count": 4,
   "metadata": {
    "scrolled": true
   },
   "outputs": [
    {
     "name": "stdout",
     "output_type": "stream",
     "text": [
      "____________________________________________________________________________________________________\n",
      "Layer (type)                     Output Shape          Param #     Connected to                     \n",
      "====================================================================================================\n",
      "input_2 (InputLayer)             (None, 32, 32, 3)     0                                            \n",
      "____________________________________________________________________________________________________\n",
      "conv2d_4 (Conv2D)                (None, 32, 32, 32)    2432        input_2[0][0]                    \n",
      "____________________________________________________________________________________________________\n",
      "dropout_5 (Dropout)              (None, 32, 32, 32)    0           conv2d_4[0][0]                   \n",
      "____________________________________________________________________________________________________\n",
      "max_pooling2d_6 (MaxPooling2D)   (None, 16, 16, 32)    0           dropout_5[0][0]                  \n",
      "____________________________________________________________________________________________________\n",
      "conv2d_5 (Conv2D)                (None, 16, 16, 64)    51264       max_pooling2d_6[0][0]            \n",
      "____________________________________________________________________________________________________\n",
      "dropout_6 (Dropout)              (None, 16, 16, 64)    0           conv2d_5[0][0]                   \n",
      "____________________________________________________________________________________________________\n",
      "max_pooling2d_7 (MaxPooling2D)   (None, 8, 8, 64)      0           dropout_6[0][0]                  \n",
      "____________________________________________________________________________________________________\n",
      "conv2d_6 (Conv2D)                (None, 8, 8, 128)     204928      max_pooling2d_7[0][0]            \n",
      "____________________________________________________________________________________________________\n",
      "dropout_7 (Dropout)              (None, 8, 8, 128)     0           conv2d_6[0][0]                   \n",
      "____________________________________________________________________________________________________\n",
      "max_pooling2d_9 (MaxPooling2D)   (None, 4, 4, 32)      0           max_pooling2d_6[0][0]            \n",
      "____________________________________________________________________________________________________\n",
      "max_pooling2d_10 (MaxPooling2D)  (None, 4, 4, 64)      0           max_pooling2d_7[0][0]            \n",
      "____________________________________________________________________________________________________\n",
      "max_pooling2d_8 (MaxPooling2D)   (None, 4, 4, 128)     0           dropout_7[0][0]                  \n",
      "____________________________________________________________________________________________________\n",
      "flatten_4 (Flatten)              (None, 512)           0           max_pooling2d_9[0][0]            \n",
      "____________________________________________________________________________________________________\n",
      "flatten_5 (Flatten)              (None, 1024)          0           max_pooling2d_10[0][0]           \n",
      "____________________________________________________________________________________________________\n",
      "flatten_6 (Flatten)              (None, 2048)          0           max_pooling2d_8[0][0]            \n",
      "____________________________________________________________________________________________________\n",
      "concatenate_2 (Concatenate)      (None, 3584)          0           flatten_4[0][0]                  \n",
      "                                                                   flatten_5[0][0]                  \n",
      "                                                                   flatten_6[0][0]                  \n",
      "____________________________________________________________________________________________________\n",
      "dense_3 (Dense)                  (None, 1024)          3671040     concatenate_2[0][0]              \n",
      "____________________________________________________________________________________________________\n",
      "dropout_8 (Dropout)              (None, 1024)          0           dense_3[0][0]                    \n",
      "____________________________________________________________________________________________________\n",
      "dense_4 (Dense)                  (None, 43)            44075       dropout_8[0][0]                  \n",
      "====================================================================================================\n",
      "Total params: 3,973,739\n",
      "Trainable params: 3,973,739\n",
      "Non-trainable params: 0\n",
      "____________________________________________________________________________________________________\n"
     ]
    }
   ],
   "source": [
    "model.summary()"
   ]
  },
  {
   "cell_type": "markdown",
   "metadata": {},
   "source": [
    "### Evaluate Attacks"
   ]
  },
  {
   "cell_type": "code",
   "execution_count": 5,
   "metadata": {
    "collapsed": true
   },
   "outputs": [],
   "source": [
    "# Set target class to attack\n",
    "tg = 10\n",
    "size = 10\n",
    "y_target = np.zeros((len(x_test))) + tg\n",
    "y_target = keras.utils.to_categorical(y_target, NUM_LABELS)\n",
    "\n",
    "# Filter samples\n",
    "x_fil, y_fil = filter_samples(model, x_test, y_test, y_target=y_target)\n",
    "\n",
    "# Set samples to attack\n",
    "ind = np.random.choice(range(len(y_fil)), size=size)\n",
    "x_ben = np.copy(x_fil[ind])\n",
    "y_ben = np.copy(y_fil[ind])\n",
    "y_tg = np.copy(y_target[ind])"
   ]
  },
  {
   "cell_type": "code",
   "execution_count": 6,
   "metadata": {},
   "outputs": [
    {
     "name": "stdout",
     "output_type": "stream",
     "text": [
      "Finished in 161.71s\n",
      "Finished in 161.97s\n",
      "Finished in 162.45s\n",
      "Finished in 179.18s\n",
      "Finished in 181.01s\n",
      "Finished in 182.90s\n",
      "Finished in 177.60s\n",
      "Finished in 182.69s\n",
      "Finished in 185.91s\n",
      "Finished in 192.66s\n"
     ]
    }
   ],
   "source": [
    "# Optimization attack\n",
    "x_opt = np.zeros((size,) + INPUT_SHAPE)\n",
    "norm_opt = np.zeros((size,))\n",
    "opt = OptCarlini(model, c=1, lr=0.01, target=True, use_bound=False, init_scl=0.1,\n",
    "                 loss_op=0, var_change=True, k=5)\n",
    "\n",
    "for i, x in enumerate(x_ben):\n",
    "    x, norm = opt.optimize_search(x, y_tg[i], n_step=1000, search_step=10, prog=False)\n",
    "    x_opt[i] = np.copy(x)\n",
    "    norm_opt[i] = norm\n",
    "    \n",
    "norm_opt = np.array(norm_opt)"
   ]
  },
  {
   "cell_type": "code",
   "execution_count": 13,
   "metadata": {},
   "outputs": [
    {
     "name": "stdout",
     "output_type": "stream",
     "text": [
      "1.59478321671\n"
     ]
    }
   ],
   "source": [
    "sum_norm = 0\n",
    "n_suc = 0\n",
    "for norm in norm_opt:\n",
    "    if norm is not None:\n",
    "        sum_norm += norm\n",
    "        n_suc += 1\n",
    "print sum_norm / n_suc"
   ]
  },
  {
   "cell_type": "code",
   "execution_count": 14,
   "metadata": {
    "collapsed": true
   },
   "outputs": [],
   "source": [
    "# FG attack\n",
    "x_fg = fg(model, x_ben, y_tg, [1.6], target=True)"
   ]
  },
  {
   "cell_type": "code",
   "execution_count": 17,
   "metadata": {
    "collapsed": true
   },
   "outputs": [],
   "source": [
    "# Iterative attack\n",
    "x_it = iterative(model, x_ben, y_tg, n_step=32, step_size=0.05, target=True)"
   ]
  },
  {
   "cell_type": "code",
   "execution_count": 32,
   "metadata": {},
   "outputs": [
    {
     "name": "stdout",
     "output_type": "stream",
     "text": [
      "0.9\n",
      "[0.20000000000000001]\n",
      "0.7\n"
     ]
    }
   ],
   "source": [
    "# Evaluate each attack\n",
    "print eval_adv(model, x_opt, y_tg, target=True)\n",
    "print eval_adv(model, x_fg, y_tg, target=True)\n",
    "print eval_adv(model, x_it, y_tg, target=True)"
   ]
  },
  {
   "cell_type": "code",
   "execution_count": 33,
   "metadata": {},
   "outputs": [
    {
     "data": {
      "text/plain": [
       "(1, 10, 32, 32, 3)"
      ]
     },
     "execution_count": 33,
     "metadata": {},
     "output_type": "execute_result"
    }
   ],
   "source": [
    "x_fg.shape"
   ]
  },
  {
   "cell_type": "code",
   "execution_count": null,
   "metadata": {
    "collapsed": true
   },
   "outputs": [],
   "source": []
  },
  {
   "cell_type": "code",
   "execution_count": null,
   "metadata": {
    "collapsed": true
   },
   "outputs": [],
   "source": []
  },
  {
   "cell_type": "markdown",
   "metadata": {},
   "source": [
    "### Model trainer"
   ]
  },
  {
   "cell_type": "code",
   "execution_count": 23,
   "metadata": {
    "collapsed": true
   },
   "outputs": [],
   "source": [
    "filepath = './weights.{epoch:02d}-{val_loss:.2f}.hdf5'\n",
    "modelCheckpoint = keras.callbacks.ModelCheckpoint(filepath, monitor='val_loss', verbose=0, \n",
    "                                                  save_best_only=False, save_weights_only=False, \n",
    "                                                  mode='auto', period=1)\n",
    "earlyStop = keras.callbacks.EarlyStopping(monitor='val_loss', min_delta=0.001, patience=5, \n",
    "                                          verbose=0, mode='auto')"
   ]
  },
  {
   "cell_type": "code",
   "execution_count": 24,
   "metadata": {
    "scrolled": true
   },
   "outputs": [
    {
     "name": "stdout",
     "output_type": "stream",
     "text": [
      "Train on 34799 samples, validate on 4410 samples\n",
      "Epoch 1/100\n",
      "34799/34799 [==============================] - 19s - loss: 1.4503 - acc: 0.6749 - val_loss: 0.6975 - val_acc: 0.8993\n",
      "Epoch 2/100\n",
      "34799/34799 [==============================] - 18s - loss: 0.4860 - acc: 0.9393 - val_loss: 0.5030 - val_acc: 0.9263\n",
      "Epoch 3/100\n",
      "34799/34799 [==============================] - 18s - loss: 0.3762 - acc: 0.9621 - val_loss: 0.4678 - val_acc: 0.9202\n",
      "Epoch 4/100\n",
      "34799/34799 [==============================] - 18s - loss: 0.3374 - acc: 0.9697 - val_loss: 0.4584 - val_acc: 0.9517\n",
      "Epoch 5/100\n",
      "34799/34799 [==============================] - 18s - loss: 0.3217 - acc: 0.9740 - val_loss: 0.3861 - val_acc: 0.9594\n",
      "Epoch 6/100\n",
      "34799/34799 [==============================] - 18s - loss: 0.2947 - acc: 0.9770 - val_loss: 0.3729 - val_acc: 0.9628\n",
      "Epoch 7/100\n",
      "34799/34799 [==============================] - 18s - loss: 0.2859 - acc: 0.9786 - val_loss: 0.3604 - val_acc: 0.9531\n",
      "Epoch 8/100\n",
      "34799/34799 [==============================] - 18s - loss: 0.2702 - acc: 0.9814 - val_loss: 0.3251 - val_acc: 0.9696.981\n",
      "Epoch 9/100\n",
      "34799/34799 [==============================] - 18s - loss: 0.2726 - acc: 0.9813 - val_loss: 0.3953 - val_acc: 0.9580\n",
      "Epoch 10/100\n",
      "34799/34799 [==============================] - 18s - loss: 0.2594 - acc: 0.9846 - val_loss: 0.3119 - val_acc: 0.9642.9\n",
      "Epoch 11/100\n",
      "34799/34799 [==============================] - 18s - loss: 0.2273 - acc: 0.9856 - val_loss: 0.3474 - val_acc: 0.9599\n",
      "Epoch 12/100\n",
      "34799/34799 [==============================] - 18s - loss: 0.2643 - acc: 0.9844 - val_loss: 0.3423 - val_acc: 0.9642\n",
      "Epoch 13/100\n",
      "34799/34799 [==============================] - 18s - loss: 0.2290 - acc: 0.9883 - val_loss: 0.3574 - val_acc: 0.9510\n",
      "Epoch 14/100\n",
      "34799/34799 [==============================] - 18s - loss: 0.2297 - acc: 0.9868 - val_loss: 0.3298 - val_acc: 0.9705\n",
      "Epoch 15/100\n",
      "34799/34799 [==============================] - 18s - loss: 0.2410 - acc: 0.9871 - val_loss: 0.2927 - val_acc: 0.9732\n",
      "Epoch 16/100\n",
      "34799/34799 [==============================] - 18s - loss: 0.2019 - acc: 0.9904 - val_loss: 0.2426 - val_acc: 0.9771\n",
      "Epoch 17/100\n",
      "34799/34799 [==============================] - 18s - loss: 0.2035 - acc: 0.9898 - val_loss: 0.2636 - val_acc: 0.9730\n",
      "Epoch 18/100\n",
      "34799/34799 [==============================] - 18s - loss: 0.2114 - acc: 0.9890 - val_loss: 0.3196 - val_acc: 0.9594\n",
      "Epoch 19/100\n",
      "34799/34799 [==============================] - 18s - loss: 0.2161 - acc: 0.9886 - val_loss: 0.3080 - val_acc: 0.9728\n",
      "Epoch 20/100\n",
      "34799/34799 [==============================] - 18s - loss: 0.2171 - acc: 0.9892 - val_loss: 0.3701 - val_acc: 0.9506\n",
      "Epoch 21/100\n",
      "34799/34799 [==============================] - 18s - loss: 0.2351 - acc: 0.9880 - val_loss: 0.2735 - val_acc: 0.9773\n",
      "Epoch 22/100\n",
      "34799/34799 [==============================] - 18s - loss: 0.1962 - acc: 0.9916 - val_loss: 0.2717 - val_acc: 0.9735\n"
     ]
    },
    {
     "data": {
      "text/plain": [
       "<keras.callbacks.History at 0x7f80a5d78290>"
      ]
     },
     "execution_count": 24,
     "metadata": {},
     "output_type": "execute_result"
    }
   ],
   "source": [
    "model.fit(x_train, y_train, batch_size=batch_size, epochs=num_epoch, verbose=1, \n",
    "          callbacks=[modelCheckpoint, earlyStop], validation_data=(x_val, y_val), \n",
    "          shuffle=True, initial_epoch=0)"
   ]
  },
  {
   "cell_type": "code",
   "execution_count": 98,
   "metadata": {
    "collapsed": true
   },
   "outputs": [],
   "source": [
    "# Try attack overfitted model"
   ]
  }
 ],
 "metadata": {
  "kernelspec": {
   "display_name": "Python 2",
   "language": "python",
   "name": "python2"
  },
  "language_info": {
   "codemirror_mode": {
    "name": "ipython",
    "version": 2
   },
   "file_extension": ".py",
   "mimetype": "text/x-python",
   "name": "python",
   "nbconvert_exporter": "python",
   "pygments_lexer": "ipython2",
   "version": "2.7.12"
  }
 },
 "nbformat": 4,
 "nbformat_minor": 2
}
